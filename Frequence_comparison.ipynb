{
 "cells": [
  {
   "cell_type": "markdown",
   "metadata": {},
   "source": []
  },
  {
   "cell_type": "markdown",
   "metadata": {},
   "source": [
    " goal essayer d'apporter des idées sur pq un hub est un hub. \n",
    " Deux hypothèses : \n",
    " -> Mot très généraux donc plus présent dans les articles (voir la récurrence de chaque mot dans chaque articles)\n",
    "-> Hub car ton article est plus long, il est plus général, plus de lien a faire "
   ]
  },
  {
   "cell_type": "code",
   "execution_count": 60,
   "metadata": {},
   "outputs": [],
   "source": [
    "#NLP libraries\n",
    "import nltk\n",
    "from gensim.models import Doc2Vec\n",
    "import gensim\n",
    "from gensim.models.doc2vec import TaggedDocument\n",
    "from gensim import corpora\n",
    "import textstat\n",
    "\n",
    "#Machine learning libraries\n",
    "from sklearn import utils\n",
    "from sklearn.model_selection import train_test_split\n",
    "from sklearn.naive_bayes import GaussianNB\n",
    "from sklearn.ensemble import RandomForestClassifier\n",
    "from sklearn.svm import SVC\n",
    "\n",
    "#Helper libraries\n",
    "import multiprocessing\n",
    "import numpy as np\n",
    "import pandas as pd\n",
    "import math\n",
    "from bs4 import BeautifulSoup\n",
    "import re\n",
    "import os\n",
    "import seaborn as sns\n",
    "from collections import defaultdict\n"
   ]
  },
  {
   "cell_type": "code",
   "execution_count": 61,
   "metadata": {},
   "outputs": [],
   "source": [
    "# Tester si les fréquences des mots les plus présents dans les paths sont liées à la fréquence d'appartion des mots dans les articles\n",
    "# Trouves les mots les plus utilisés (repris de Visualisation_wiki)"
   ]
  },
  {
   "cell_type": "code",
   "execution_count": 9,
   "metadata": {},
   "outputs": [
    {
     "data": {
      "text/plain": [
       "'./data/wikispeedia_articles_plaintext/plaintext_articles/'"
      ]
     },
     "metadata": {},
     "output_type": "display_data"
    }
   ],
   "source": [
    "text_file_dir=\"./data/wikispeedia_articles_plaintext/plaintext_articles/\"\n"
   ]
  },
  {
   "cell_type": "code",
   "execution_count": 11,
   "metadata": {},
   "outputs": [
    {
     "data": {
      "text/html": [
       "<div>\n",
       "<style scoped>\n",
       "    .dataframe tbody tr th:only-of-type {\n",
       "        vertical-align: middle;\n",
       "    }\n",
       "\n",
       "    .dataframe tbody tr th {\n",
       "        vertical-align: top;\n",
       "    }\n",
       "\n",
       "    .dataframe thead th {\n",
       "        text-align: right;\n",
       "    }\n",
       "</style>\n",
       "<table border=\"1\" class=\"dataframe\">\n",
       "  <thead>\n",
       "    <tr style=\"text-align: right;\">\n",
       "      <th></th>\n",
       "      <th>hashedIpAddress</th>\n",
       "      <th>timestamp</th>\n",
       "      <th>durationInSec</th>\n",
       "      <th>path</th>\n",
       "      <th>rating</th>\n",
       "    </tr>\n",
       "  </thead>\n",
       "  <tbody>\n",
       "    <tr>\n",
       "      <th>0</th>\n",
       "      <td>6a3701d319fc3754</td>\n",
       "      <td>2011-02-15 03:26:49</td>\n",
       "      <td>166</td>\n",
       "      <td>14th_century;15th_century;16th_century;Pacific...</td>\n",
       "      <td>NaN</td>\n",
       "    </tr>\n",
       "    <tr>\n",
       "      <th>1</th>\n",
       "      <td>3824310e536af032</td>\n",
       "      <td>2012-08-12 06:36:52</td>\n",
       "      <td>88</td>\n",
       "      <td>14th_century;Europe;Africa;Atlantic_slave_trad...</td>\n",
       "      <td>3.0</td>\n",
       "    </tr>\n",
       "    <tr>\n",
       "      <th>2</th>\n",
       "      <td>415612e93584d30e</td>\n",
       "      <td>2012-10-03 21:10:40</td>\n",
       "      <td>138</td>\n",
       "      <td>14th_century;Niger;Nigeria;British_Empire;Slav...</td>\n",
       "      <td>NaN</td>\n",
       "    </tr>\n",
       "    <tr>\n",
       "      <th>3</th>\n",
       "      <td>64dd5cd342e3780c</td>\n",
       "      <td>2010-02-08 07:25:25</td>\n",
       "      <td>37</td>\n",
       "      <td>14th_century;Renaissance;Ancient_Greece;Greece</td>\n",
       "      <td>NaN</td>\n",
       "    </tr>\n",
       "    <tr>\n",
       "      <th>4</th>\n",
       "      <td>015245d773376aab</td>\n",
       "      <td>2013-04-23 15:27:08</td>\n",
       "      <td>175</td>\n",
       "      <td>14th_century;Italy;Roman_Catholic_Church;HIV;R...</td>\n",
       "      <td>3.0</td>\n",
       "    </tr>\n",
       "  </tbody>\n",
       "</table>\n",
       "</div>"
      ],
      "text/plain": [
       "    hashedIpAddress           timestamp  durationInSec  \\\n",
       "0  6a3701d319fc3754 2011-02-15 03:26:49            166   \n",
       "1  3824310e536af032 2012-08-12 06:36:52             88   \n",
       "2  415612e93584d30e 2012-10-03 21:10:40            138   \n",
       "3  64dd5cd342e3780c 2010-02-08 07:25:25             37   \n",
       "4  015245d773376aab 2013-04-23 15:27:08            175   \n",
       "\n",
       "                                                path  rating  \n",
       "0  14th_century;15th_century;16th_century;Pacific...     NaN  \n",
       "1  14th_century;Europe;Africa;Atlantic_slave_trad...     3.0  \n",
       "2  14th_century;Niger;Nigeria;British_Empire;Slav...     NaN  \n",
       "3     14th_century;Renaissance;Ancient_Greece;Greece     NaN  \n",
       "4  14th_century;Italy;Roman_Catholic_Church;HIV;R...     3.0  "
      ]
     },
     "execution_count": 11,
     "metadata": {},
     "output_type": "execute_result"
    }
   ],
   "source": [
    "PATH=\"./data/wikispeedia_paths-and-graph/wikispeedia_paths-and-graph/paths_finished.tsv\"\n",
    "PATH_UNFINISHED = \"./data/wikispeedia_paths-and-graph/wikispeedia_paths-and-graph/paths_unfinished.tsv\"\n",
    "\n",
    "\n",
    "finished_path=pd.read_csv(PATH, header=14, delimiter=\"\\t\", names=[\"hashedIpAddress\",\"timestamp\",\"durationInSec\",\"path\",\"rating\"])\n",
    "unfinished_path=pd.read_csv(PATH_UNFINISHED, header=16, delimiter=\"\\t\", names=[\"hashedIpAddress\",\"timestamp\",\"durationInSec\",\"path_start\",\"path_goal\",\"rating\"])\n",
    "finished_path[\"timestamp\"]=pd.to_datetime(finished_path[\"timestamp\"], unit ='s') #convertir le timestamp to datetime\n",
    "unfinished_path[\"timestamp\"]=pd.to_datetime(unfinished_path[\"timestamp\"], unit ='s') #convertir le timestamp to datetime\n",
    "finished_path.head()\n"
   ]
  },
  {
   "cell_type": "code",
   "execution_count": 12,
   "metadata": {},
   "outputs": [
    {
     "data": {
      "text/plain": [
       "{'14th_century': 154,\n",
       " '15th_century': 187,\n",
       " '16th_century': 225,\n",
       " 'Pacific_Ocean': 844,\n",
       " 'Atlantic_Ocean': 1324,\n",
       " 'Accra': 18,\n",
       " 'Africa': 2796,\n",
       " 'Atlantic_slave_trade': 105,\n",
       " 'African_slave_trade': 31,\n",
       " 'Europe': 4362,\n",
       " 'Niger': 55,\n",
       " 'Nigeria': 80,\n",
       " 'British_Empire': 746,\n",
       " 'Slavery': 206,\n",
       " 'Renaissance': 383,\n",
       " 'Ancient_Greece': 761,\n",
       " 'Greece': 510,\n",
       " 'Italy': 867,\n",
       " 'Roman_Catholic_Church': 499,\n",
       " 'HIV': 112,\n",
       " 'Ronald_Reagan': 118,\n",
       " 'President_of_the_United_States': 850,\n",
       " 'John_F._Kennedy': 172,\n",
       " 'North_America': 1884,\n",
       " 'United_States': 8896,\n",
       " 'China': 1126,\n",
       " 'Gunpowder': 96,\n",
       " 'Fire': 112,\n",
       " 'Time': 187,\n",
       " 'Isaac_Newton': 254,\n",
       " 'Light': 307,\n",
       " 'Color': 236,\n",
       " 'Rainbow': 83,\n",
       " 'Plato': 117,\n",
       " 'Nature': 244,\n",
       " 'Ultraviolet': 130,\n",
       " 'Science': 1497,\n",
       " 'Weather': 281,\n",
       " 'Sunlight': 137,\n",
       " '<': 20561,\n",
       " 'Sun': 932,\n",
       " 'Earth%27s_atmosphere': 380,\n",
       " 'Christianity': 1097,\n",
       " 'Bible': 304,\n",
       " 'God': 457,\n",
       " 'Optical_fiber': 88,\n",
       " 'Astronomy': 416,\n",
       " 'Empiricism': 16,\n",
       " 'Rain': 208,\n",
       " 'Leonardo_da_Vinci': 179,\n",
       " 'Water': 905,\n",
       " 'Cloud': 142,\n",
       " 'Republic_of_Ireland': 185,\n",
       " 'Physics': 848,\n",
       " 'Speed_of_light': 140,\n",
       " 'English_peasants%27_revolt_of_1381': 4,\n",
       " 'Archbishop_of_Canterbury': 124,\n",
       " '19th_century': 527,\n",
       " 'The_Origin_of_Species': 88,\n",
       " 'Biology': 808,\n",
       " 'India': 1236,\n",
       " 'Rice': 170,\n",
       " 'Acid_rain': 89,\n",
       " 'Day': 59,\n",
       " 'France': 1617,\n",
       " 'World_War_II': 2301,\n",
       " 'Nuclear_weapon': 557,\n",
       " 'Neutron': 111,\n",
       " 'Religion': 689,\n",
       " 'Astrology': 83,\n",
       " 'Art': 606,\n",
       " 'Singapore': 47,\n",
       " 'Fishing': 253,\n",
       " 'Ice': 137,\n",
       " 'Climate': 318,\n",
       " 'Special_relativity': 57,\n",
       " 'Egypt': 682,\n",
       " 'Ancient_Egypt': 502,\n",
       " 'Glass': 128,\n",
       " 'Chromatic_aberration': 12,\n",
       " 'Ottoman_Empire': 193,\n",
       " 'Ocean': 709,\n",
       " 'Seawater': 139,\n",
       " 'Sodium': 148,\n",
       " 'Chemistry': 991,\n",
       " 'England': 3332,\n",
       " 'London': 976,\n",
       " 'Spanish_Armada': 45,\n",
       " 'Great_Britain': 767,\n",
       " '10th_century': 109,\n",
       " '11th_century': 117,\n",
       " '12th_century': 137,\n",
       " '13th_century': 131,\n",
       " 'Francis_Drake': 23,\n",
       " 'Elizabeth_I_of_England': 97,\n",
       " 'James_I_of_England': 132,\n",
       " 'Hundred_Years%27_War': 33,\n",
       " 'Henry_VI_of_England': 73,\n",
       " 'Wars_of_the_Roses': 48,\n",
       " 'Henry_VIII_of_England': 148,\n",
       " 'Edward_III_of_England': 64,\n",
       " 'Windsor_Castle': 48,\n",
       " 'Anglicanism': 76,\n",
       " 'Walt_Whitman': 26,\n",
       " 'Poetry_of_the_United_States': 61,\n",
       " 'French_Revolution': 165,\n",
       " 'Age_of_Enlightenment': 165,\n",
       " 'David_Hume': 35,\n",
       " 'Philosophy': 493,\n",
       " 'Fyodor_Dostoevsky': 29,\n",
       " 'Constitutional_monarchy': 127,\n",
       " 'Government': 270,\n",
       " 'Anarchism': 59,\n",
       " 'Henry_David_Thoreau': 22,\n",
       " '2004_Atlantic_hurricane_season': 44,\n",
       " 'U.S._state': 310,\n",
       " 'Fine_art': 117,\n",
       " 'Visual_arts': 74,\n",
       " 'Painting': 181,\n",
       " 'Drawing': 77,\n",
       " 'El_Ni%C3%B1o-Southern_Oscillation': 19,\n",
       " 'Fertilizer': 130,\n",
       " 'Molybdenum': 22,\n",
       " 'Periodic_table': 1413,\n",
       " 'Chromium': 66,\n",
       " 'Oxygen': 513,\n",
       " 'Chemical_element': 841,\n",
       " 'Hurricane_Ivan': 33,\n",
       " 'Tropical_cyclone': 326,\n",
       " 'Gravitation': 199,\n",
       " 'Albert_Einstein': 342,\n",
       " 'Atom': 317,\n",
       " 'Global_warming': 408,\n",
       " 'Climate_change': 190,\n",
       " 'Retreat_of_glaciers_since_1850': 34,\n",
       " 'Ice_age': 185,\n",
       " '2005_Atlantic_hurricane_season': 119,\n",
       " '8th_century': 81,\n",
       " 'Medicine': 365,\n",
       " 'Iron': 380,\n",
       " 'Carbon': 348,\n",
       " 'Buckminster_Fuller': 15,\n",
       " 'Comet': 178,\n",
       " 'Comet_Halley': 38,\n",
       " 'Comet_Hale-Bopp': 39,\n",
       " 'Great_comet': 24,\n",
       " 'The_Bahamas': 69,\n",
       " 'George_Washington': 161,\n",
       " 'American_Revolutionary_War': 144,\n",
       " 'James_II_of_England': 67,\n",
       " 'Bermuda': 53,\n",
       " 'Cuba': 202,\n",
       " 'Spanish_language': 283,\n",
       " 'Spain': 555,\n",
       " 'Hurricane_Katrina': 167,\n",
       " 'Gulf_of_Mexico': 191,\n",
       " 'Florida': 417,\n",
       " 'American_Civil_War': 272,\n",
       " 'Thomas_Jefferson': 84,\n",
       " 'Abraham_Lincoln': 137,\n",
       " 'Gettysburg_Address': 31,\n",
       " 'English_language': 1430,\n",
       " 'Latin': 688,\n",
       " 'Vienna': 74,\n",
       " 'Opera': 158,\n",
       " 'Ludwig_van_Beethoven': 106,\n",
       " 'Piano': 160,\n",
       " 'Jazz': 291,\n",
       " 'Jamaica': 117,\n",
       " 'List_of_U.S._states_by_date_of_statehood': 38,\n",
       " 'Mississippi_River': 188,\n",
       " 'Culture': 594,\n",
       " 'Folk_music': 160,\n",
       " 'Louis_Armstrong': 34,\n",
       " 'Effect_of_Hurricane_Katrina_on_New_Orleans': 30,\n",
       " 'Chicago': 178,\n",
       " 'Salsa_music': 58,\n",
       " 'European_Union': 891,\n",
       " 'United_Nations': 1064,\n",
       " 'Switzerland': 261,\n",
       " 'Liechtenstein': 31,\n",
       " 'Sweden': 325,\n",
       " 'Burundi': 23,\n",
       " 'United_States_dollar': 161,\n",
       " 'Gold': 332,\n",
       " 'Hydrogen_peroxide': 35,\n",
       " 'Country': 457,\n",
       " 'New_York_City': 516,\n",
       " 'International_Court_of_Justice': 25,\n",
       " 'Cape_Verde': 23,\n",
       " 'Portugal': 237,\n",
       " 'Lisbon': 40,\n",
       " 'International_Space_Station': 125,\n",
       " 'Richard_Nixon': 58,\n",
       " 'William_McKinley': 33,\n",
       " 'George_W._Bush': 378,\n",
       " 'Aberdeen': 24,\n",
       " 'Petroleum': 307,\n",
       " 'Greenhouse_effect': 170,\n",
       " 'Carbon_dioxide': 322,\n",
       " 'Kyoto_Protocol': 46,\n",
       " 'Sea_level_rise': 36,\n",
       " 'Effects_of_global_warming': 21,\n",
       " 'Season': 110,\n",
       " 'Winter': 80,\n",
       " 'Bat': 115,\n",
       " 'Vampire_bat': 44,\n",
       " 'Romania': 104,\n",
       " 'Football_%28soccer%29': 261,\n",
       " 'FIFA_World_Cup': 72,\n",
       " 'Brazil': 522,\n",
       " 'Amazon_Rainforest': 120,\n",
       " 'Mammal': 1622,\n",
       " 'City_status_in_the_United_Kingdom': 57,\n",
       " 'Market': 89,\n",
       " 'Money': 230,\n",
       " 'Barley': 101,\n",
       " 'Bread': 119,\n",
       " 'Scotland': 803,\n",
       " 'List_of_countries_by_system_of_government': 151,\n",
       " 'Alfred_Nobel': 42,\n",
       " 'University_of_Cambridge': 226,\n",
       " 'Oxford': 89,\n",
       " 'Paris': 364,\n",
       " 'RER': 13,\n",
       " 'British_Isles': 269,\n",
       " 'River_Severn': 42,\n",
       " 'Wader': 14,\n",
       " 'Bird': 1210,\n",
       " 'Hawk': 66,\n",
       " 'Sparrowhawk': 14,\n",
       " 'Acceleration': 79,\n",
       " 'Germany': 1769,\n",
       " 'Dresden': 42,\n",
       " 'Earth': 3223,\n",
       " 'Elephant': 212,\n",
       " 'Sea': 308,\n",
       " 'Mars': 250,\n",
       " 'Hydrogen': 493,\n",
       " 'Heliocentrism': 47,\n",
       " 'Minnesota': 93,\n",
       " 'Anatomy': 119,\n",
       " 'Animal': 1713,\n",
       " 'Fish': 778,\n",
       " 'Trout': 64,\n",
       " 'Wave': 140,\n",
       " 'Energy': 404,\n",
       " 'Thermodynamics': 100,\n",
       " 'Steam_engine': 146,\n",
       " 'Hudson_Bay': 46,\n",
       " 'Cod': 52,\n",
       " 'Drosophila_melanogaster': 20,\n",
       " 'Matter': 132,\n",
       " 'Neon': 45,\n",
       " 'Magnesium': 101,\n",
       " 'Aluminium': 180,\n",
       " 'Silicon': 106,\n",
       " 'Phosphorus': 76,\n",
       " 'Sulfur': 126,\n",
       " 'Chlorine': 108,\n",
       " 'Argon': 60,\n",
       " 'Potassium': 141,\n",
       " 'Potassium_iodide': 28,\n",
       " 'Salt': 173,\n",
       " 'Tennis': 221,\n",
       " 'Martina_Navratilova': 14,\n",
       " 'Life': 459,\n",
       " 'Virus': 213,\n",
       " 'Education_in_the_United_States': 133,\n",
       " 'Computer': 1552,\n",
       " 'Internet': 1047,\n",
       " 'Microsoft': 533,\n",
       " 'Microsoft_Windows': 538,\n",
       " 'Macintosh': 125,\n",
       " 'World_Wide_Web': 469,\n",
       " 'Mozilla_Firefox': 107,\n",
       " 'Electrical_engineering': 81,\n",
       " 'Linux': 203,\n",
       " 'OpenOffice.org': 50,\n",
       " 'Communication': 717,\n",
       " 'Computer_science': 834,\n",
       " 'California': 727,\n",
       " 'History_of_the_Internet': 67,\n",
       " 'Internet_Explorer': 87,\n",
       " 'Technology': 748,\n",
       " 'Telescope': 200,\n",
       " 'Star': 286,\n",
       " 'Milky_Way': 141,\n",
       " 'Mediterranean_Sea': 519,\n",
       " 'Irish_Sea': 93,\n",
       " 'Dublin': 97,\n",
       " 'Iceland': 358,\n",
       " 'Surtsey': 11,\n",
       " 'North_Sea': 249,\n",
       " 'Achilles': 110,\n",
       " 'The_Wall_Street_Journal': 46,\n",
       " 'Mass_media': 295,\n",
       " 'Apollo': 66,\n",
       " 'Dolphin': 240,\n",
       " 'Trojan_War': 241,\n",
       " 'Winston_Churchill': 140,\n",
       " 'William_Shakespeare': 310,\n",
       " 'Ethiopia': 165,\n",
       " 'United_Kingdom': 3904,\n",
       " 'Greek_mythology': 370,\n",
       " 'Prime_Minister_of_the_United_Kingdom': 164,\n",
       " 'Ukraine': 102,\n",
       " 'Black_Sea': 149,\n",
       " 'Alexander_the_Great': 146,\n",
       " 'Euro': 138,\n",
       " 'Currency': 251,\n",
       " 'Zeus': 172,\n",
       " 'Norse_mythology': 323,\n",
       " 'Literature': 261,\n",
       " 'Novel': 172,\n",
       " 'Robinson_Crusoe': 23,\n",
       " 'Fiction': 119,\n",
       " 'Propaganda': 86,\n",
       " 'Nineteen_Eighty-Four': 23,\n",
       " 'Language': 475,\n",
       " 'J._R._R._Tolkien': 97,\n",
       " 'C._S._Lewis': 31,\n",
       " 'Crocodile': 67,\n",
       " 'Russia': 1019,\n",
       " 'Bald_Eagle': 209,\n",
       " 'Whale_shark': 374,\n",
       " 'Shark': 412,\n",
       " 'Great_white_shark': 223,\n",
       " 'Whale': 288,\n",
       " 'Great_Barrier_Reef': 57,\n",
       " 'Humpback_Whale': 70,\n",
       " 'Orca': 72,\n",
       " 'Saturn_V': 95,\n",
       " 'Christopher_Columbus': 196,\n",
       " 'University_of_Chicago': 68,\n",
       " 'Plutonium': 126,\n",
       " 'Americium': 28,\n",
       " 'History_of_Anglo-Saxon_England': 70,\n",
       " 'Mythology': 395,\n",
       " 'Roman_mythology': 258,\n",
       " 'Ancient_Rome': 482,\n",
       " 'Odyssey': 113,\n",
       " 'Lion': 749,\n",
       " 'Antelope': 70,\n",
       " 'Bongo_%28antelope%29': 4,\n",
       " 'Achilles_tendon': 65,\n",
       " 'Ivory': 88,\n",
       " 'Roman_Empire': 655,\n",
       " 'Maghreb': 57,\n",
       " 'Mauritania': 28,\n",
       " 'Western_Roman_Empire': 106,\n",
       " 'World_Health_Organization': 253,\n",
       " 'Tobacco': 142,\n",
       " 'Beetle': 83,\n",
       " 'Mummy': 50,\n",
       " 'Health': 139,\n",
       " 'Nutrition': 139,\n",
       " 'Calcium': 150,\n",
       " 'Vitamin_D': 135,\n",
       " 'Milk': 198,\n",
       " 'Elephant_shrew': 26,\n",
       " 'Bronze_Age': 128,\n",
       " 'Sub-Saharan_Africa': 156,\n",
       " 'North_Africa': 448,\n",
       " 'Bantu': 24,\n",
       " 'Cyclops': 40,\n",
       " 'Domestic_goat': 48,\n",
       " 'Indonesia': 220,\n",
       " 'C%C3%B4te_d%27Ivoire': 38,\n",
       " 'Kenya': 273,\n",
       " 'Odysseus': 81,\n",
       " 'Democratic_Republic_of_the_Congo': 112,\n",
       " 'Sahara': 71,\n",
       " 'Horse': 230,\n",
       " 'Meat': 143,\n",
       " 'Scramble_for_Africa': 33,\n",
       " 'Danube': 61,\n",
       " 'Arctic_Ocean': 193,\n",
       " 'Attack_on_Pearl_Harbor': 121,\n",
       " 'Imperial_Japanese_Navy': 39,\n",
       " 'Aircraft_carrier': 58,\n",
       " 'Aircraft': 219,\n",
       " 'Suez_Canal': 75,\n",
       " 'Red_Sea': 108,\n",
       " 'Rome': 427,\n",
       " 'Caribbean_Sea': 281,\n",
       " 'Augustus': 40,\n",
       " 'Julius_Caesar': 120,\n",
       " 'Jupiter_%28mythology%29': 43,\n",
       " 'Political_science': 67,\n",
       " 'Cornell_University': 62,\n",
       " 'Middle_Ages': 452,\n",
       " 'Scotland_in_the_High_Middle_Ages': 21,\n",
       " 'Camel': 79,\n",
       " 'Desert': 174,\n",
       " 'AIDS': 269,\n",
       " 'William_Ewart_Gladstone': 17,\n",
       " 'Continent': 687,\n",
       " 'Finland': 160,\n",
       " 'English_Channel': 178,\n",
       " 'Mexico': 724,\n",
       " 'United_States_Senate': 79,\n",
       " 'Potato': 191,\n",
       " 'Cocoa': 109,\n",
       " 'Almond': 45,\n",
       " 'Fruit': 754,\n",
       " 'Vegetable': 373,\n",
       " 'Plant': 1180,\n",
       " 'Maize': 240,\n",
       " 'Solar_System': 880,\n",
       " 'Asia': 1176,\n",
       " 'Vietnam': 191,\n",
       " 'Fossil': 237,\n",
       " 'History': 168,\n",
       " 'Moon': 681,\n",
       " 'Indian_Ocean': 342,\n",
       " 'Australia': 1003,\n",
       " 'African_Great_Lakes': 45,\n",
       " 'Rainforest': 223,\n",
       " 'Tropics': 165,\n",
       " 'Temperate': 150,\n",
       " 'Reptile': 277,\n",
       " 'Dinosaur': 666,\n",
       " 'Sauropodomorpha': 33,\n",
       " 'Poverty': 109,\n",
       " 'Xenon': 24,\n",
       " 'Diamond': 137,\n",
       " 'Royal_Navy': 122,\n",
       " 'Parliament_of_the_United_Kingdom': 87,\n",
       " 'Glorious_Revolution': 41,\n",
       " 'Crusades': 111,\n",
       " 'Dark_Ages': 111,\n",
       " 'Mathematics': 805,\n",
       " 'Applied_mathematics': 79,\n",
       " 'Differential_equation': 65,\n",
       " 'Belgium': 190,\n",
       " 'Latin_alphabet': 118,\n",
       " 'Athens': 265,\n",
       " 'Athena': 90,\n",
       " 'Engineering': 309,\n",
       " 'Human': 1642,\n",
       " 'Aristotle': 330,\n",
       " 'International_law': 79,\n",
       " 'Photosynthesis': 326,\n",
       " 'Photon': 74,\n",
       " 'Maxwell%27s_equations': 36,\n",
       " 'Manifold': 21,\n",
       " 'Calculus': 158,\n",
       " 'Ptolemy': 48,\n",
       " 'Civilization': 359,\n",
       " 'Trigonometry': 83,\n",
       " 'Trigonometric_function': 33,\n",
       " 'Education': 246,\n",
       " 'Stephen_Hawking': 97,\n",
       " 'British_Isles_%28terminology%29': 18,\n",
       " 'Scottish_Highlands': 43,\n",
       " 'Hampstead_Heath': 10,\n",
       " 'Saint_Helena': 22,\n",
       " 'Colorado_River': 36,\n",
       " 'Lake_Mead': 24,\n",
       " 'Japan': 1086,\n",
       " 'Nintendo': 314,\n",
       " 'Computer_and_video_games': 381,\n",
       " 'Pac-Man': 129,\n",
       " 'Brain': 1324,\n",
       " 'Sleep': 83,\n",
       " 'Old_English_language': 83,\n",
       " '5th_century': 109,\n",
       " 'Byzantine_Empire': 191,\n",
       " 'Rhine': 59,\n",
       " 'German_language': 412,\n",
       " 'Soviet_Union': 613,\n",
       " 'Federal_Bureau_of_Investigation': 63,\n",
       " 'Library': 119,\n",
       " 'Information': 423,\n",
       " 'Mind': 120,\n",
       " 'Psychology': 265,\n",
       " 'Famine': 99,\n",
       " 'Leisure': 24,\n",
       " 'Philosophy_of_mind': 49,\n",
       " 'Nile': 178,\n",
       " 'Coffee': 137,\n",
       " 'Cancer': 248,\n",
       " 'Mona_Lisa': 60,\n",
       " 'Aesthetics': 73,\n",
       " 'Georgia_%28country%29': 39,\n",
       " 'Azerbaijan': 44,\n",
       " 'Iran': 269,\n",
       " 'Turkmenistan': 43,\n",
       " 'Kazakhstan': 96,\n",
       " 'Democracy': 307,\n",
       " 'Uzbekistan': 39,\n",
       " 'Eastern_Orthodox_Church': 74,\n",
       " 'Capitalism': 188,\n",
       " 'Republic_of_China': 129,\n",
       " 'Mongolia': 133,\n",
       " 'Revolution': 54,\n",
       " 'Russian_Revolution_of_1917': 59,\n",
       " 'Immanuel_Kant': 54,\n",
       " 'Joseph_Stalin': 68,\n",
       " 'Francis_Bacon': 40,\n",
       " 'Natural_selection': 105,\n",
       " 'Charles_Darwin': 298,\n",
       " 'South_America': 920,\n",
       " 'Antarctica': 294,\n",
       " 'Ice_sheet': 77,\n",
       " 'Edward_Gibbon': 13,\n",
       " 'Archaeology': 203,\n",
       " 'Geology': 287,\n",
       " 'History_of_Earth': 97,\n",
       " 'Voltaire': 35,\n",
       " 'Volcano': 402,\n",
       " 'Magma': 127,\n",
       " 'Igneous_rock': 67,\n",
       " 'Metal': 314,\n",
       " 'Crystal': 132,\n",
       " 'Volcanic_pipe': 31,\n",
       " 'Paleontology': 157,\n",
       " 'Mineral': 231,\n",
       " 'Judaism': 324,\n",
       " 'Last_Supper': 66,\n",
       " 'Yeast': 80,\n",
       " 'Hurricane_Andrew': 42,\n",
       " 'Universe': 365,\n",
       " 'Planet': 508,\n",
       " 'Extrasolar_planet': 122,\n",
       " 'Galileo_Galilei': 157,\n",
       " 'War': 211,\n",
       " 'Nobel_Peace_Prize': 74,\n",
       " 'Peace': 33,\n",
       " 'Agriculture': 1185,\n",
       " 'History_of_the_world': 72,\n",
       " 'People%27s_Republic_of_China': 660,\n",
       " 'Mao_Zedong': 67,\n",
       " 'Communism': 239,\n",
       " 'Weed': 118,\n",
       " 'Fossil_fuel': 229,\n",
       " 'Coal': 210,\n",
       " 'Triassic': 76,\n",
       " 'Ornithischia': 41,\n",
       " 'Food': 471,\n",
       " 'Napoleonic_Wars': 67,\n",
       " 'Kiev': 27,\n",
       " 'Poland': 221,\n",
       " 'Wind': 80,\n",
       " 'Radar': 81,\n",
       " 'Soil': 251,\n",
       " 'Gardening': 135,\n",
       " 'Owl': 106,\n",
       " 'House_Sparrow': 60,\n",
       " 'Sparrow': 54,\n",
       " 'Biodiversity': 160,\n",
       " 'Egg_%28food%29': 42,\n",
       " 'Cereal': 277,\n",
       " 'Mesopotamia': 225,\n",
       " 'Chicken': 102,\n",
       " 'Ostrich': 40,\n",
       " 'Protein': 346,\n",
       " 'Evolution': 498,\n",
       " 'Feather': 84,\n",
       " 'Tornado': 70,\n",
       " 'Tropical_Storm_Delta_%282005%29': 7,\n",
       " 'Film': 620,\n",
       " 'International_Red_Cross_and_Red_Crescent_Movement': 12,\n",
       " 'Jesus': 597,\n",
       " 'Latin_America': 248,\n",
       " 'Guadeloupe': 17,\n",
       " 'Dominican_Republic': 76,\n",
       " '20th_century': 756,\n",
       " 'Jew': 401,\n",
       " 'Uganda': 82,\n",
       " 'Vatican_City': 107,\n",
       " 'United_States_Bill_of_Rights': 50,\n",
       " 'United_States_Constitution': 234,\n",
       " 'Benjamin_Franklin': 99,\n",
       " 'Jerusalem': 125,\n",
       " 'South_Africa': 659,\n",
       " 'Cold_War': 380,\n",
       " 'Saxophone': 35,\n",
       " 'Maldives': 42,\n",
       " 'Steel': 222,\n",
       " 'Napoleon_I_of_France': 92,\n",
       " 'Society': 259,\n",
       " 'French_language': 349,\n",
       " 'Adolf_Hitler': 883,\n",
       " 'Prostate_cancer': 39,\n",
       " 'Tour_de_France': 59,\n",
       " 'Olympic_Games': 304,\n",
       " 'Sport': 189,\n",
       " 'Morphine': 36,\n",
       " 'Broadcasting': 138,\n",
       " 'Advertising': 139,\n",
       " 'Google': 242,\n",
       " 'Bicycle': 41,\n",
       " 'Ethics': 118,\n",
       " 'Fungus': 80,\n",
       " 'Common_cold': 62,\n",
       " 'Soup': 49,\n",
       " 'Beer': 240,\n",
       " 'Hungary': 122,\n",
       " 'Paprika': 26,\n",
       " 'Vitamin_C': 161,\n",
       " 'Anemia': 49,\n",
       " 'Parsley': 18,\n",
       " 'Flamingo': 42,\n",
       " 'Giraffe': 152,\n",
       " 'Tuberculosis': 85,\n",
       " 'Polymerase_chain_reaction': 30,\n",
       " 'DNA': 277,\n",
       " 'Iraq_War': 64,\n",
       " 'Tony_Blair': 102,\n",
       " 'Middle_East': 485,\n",
       " 'Palestinian_territories': 41,\n",
       " 'Hinduism': 180,\n",
       " 'Varanasi': 21,\n",
       " 'Hyena': 71,\n",
       " 'Wildebeest': 38,\n",
       " 'Bangladesh': 58,\n",
       " 'Roman_Greece': 24,\n",
       " 'Turkey': 217,\n",
       " 'Solar_eclipse': 91,\n",
       " 'Helium': 137,\n",
       " 'Jet_engine': 127,\n",
       " 'Chess': 104,\n",
       " 'Computer_programming': 248,\n",
       " 'San_Francisco%2C_California': 59,\n",
       " 'Gmail': 96,\n",
       " 'Airbus_A380': 51,\n",
       " 'Global_city': 69,\n",
       " 'Los_Angeles%2C_California': 121,\n",
       " 'Enigma_machine': 29,\n",
       " 'Tim_Berners-Lee': 39,\n",
       " 'Quantum_mechanics': 219,\n",
       " 'Computational_chemistry': 18,\n",
       " 'University': 172,\n",
       " 'Logic': 102,\n",
       " 'Arctic_Monkeys': 54,\n",
       " 'Boat': 54,\n",
       " 'Industrial_Revolution': 429,\n",
       " 'Windows_Vista': 127,\n",
       " 'Spyware': 44,\n",
       " 'Hovercraft': 29,\n",
       " 'Corporation': 123,\n",
       " 'Employment': 69,\n",
       " 'Californium': 35,\n",
       " 'Vietnam_War': 129,\n",
       " 'Police_state': 37,\n",
       " 'HSBC': 14,\n",
       " 'Cooperative': 26,\n",
       " 'Business': 114,\n",
       " 'Wall_Street': 92,\n",
       " 'Newspaper': 92,\n",
       " 'Global': 6,\n",
       " 'Airship': 56,\n",
       " 'Electronics': 661,\n",
       " 'Absolute_zero': 57,\n",
       " 'Number': 103,\n",
       " 'Set': 46,\n",
       " 'Prime_number': 52,\n",
       " 'Algorithm': 93,\n",
       " 'Geometry': 153,\n",
       " 'Mathematical_analysis': 26,\n",
       " 'Boeing_747': 50,\n",
       " 'Seattle%2C_Washington': 93,\n",
       " 'Architecture': 139,\n",
       " 'Euclid': 77,\n",
       " 'String_theory': 56,\n",
       " 'Hot_air_balloon': 20,\n",
       " 'Church_of_England': 260,\n",
       " 'Pope_John_Paul_II': 90,\n",
       " 'Yugoslavia': 62,\n",
       " 'Bosnia_and_Herzegovina': 41,\n",
       " 'Serbia': 77,\n",
       " 'Belarus': 42,\n",
       " 'Russian_constitutional_crisis_of_1993': 24,\n",
       " 'Montenegro': 32,\n",
       " 'Slovenia': 45,\n",
       " 'Croatia': 57,\n",
       " 'Bulgaria': 66,\n",
       " 'Albania': 40,\n",
       " 'Tamil_language': 38,\n",
       " 'Tamil_people': 19,\n",
       " 'Chola_dynasty': 15,\n",
       " 'Constantine_I': 20,\n",
       " 'Heraclius': 16,\n",
       " 'Polish-Lithuanian_Commonwealth': 17,\n",
       " 'Constitution_of_May_3%2C_1791': 3,\n",
       " 'Alan_Turing': 43,\n",
       " 'Ecuador': 105,\n",
       " 'Drama': 93,\n",
       " 'Clock': 66,\n",
       " 'Linguistics': 189,\n",
       " 'Czech_Republic': 96,\n",
       " 'Prague': 48,\n",
       " 'Physical_science': 150,\n",
       " 'Buddhism': 225,\n",
       " 'Pali_Canon': 8,\n",
       " 'Allegory_in_the_Middle_Ages': 12,\n",
       " 'Radio': 272,\n",
       " 'Virgil': 39,\n",
       " 'Benito_Mussolini': 63,\n",
       " 'Medieval_literature': 17,\n",
       " 'List_of_elements_by_name': 286,\n",
       " 'Boron': 52,\n",
       " 'Consolation_of_Philosophy': 12,\n",
       " 'Thomas_Aquinas': 27,\n",
       " 'Niels_Bohr': 54,\n",
       " 'Electron': 237,\n",
       " 'Brothers_Grimm': 61,\n",
       " 'Humphry_Davy': 27,\n",
       " 'Plasma_%28physics%29': 69,\n",
       " 'Apollo_8': 76,\n",
       " 'Parsnip': 20,\n",
       " 'Carrot': 64,\n",
       " 'Automobile': 284,\n",
       " 'Martin_Luther_King%2C_Jr.': 89,\n",
       " 'Civil_rights': 58,\n",
       " 'Women%27s_rights': 27,\n",
       " 'Aluminium_chloride': 96,\n",
       " 'Pigment': 48,\n",
       " 'Parrot': 157,\n",
       " 'Oceania': 89,\n",
       " 'Miocene': 18,\n",
       " 'Ethanol': 169,\n",
       " 'Electricity': 522,\n",
       " 'Family': 45,\n",
       " 'Folklore': 86,\n",
       " 'Dance': 175,\n",
       " 'Recycling': 35,\n",
       " 'NATO': 140,\n",
       " 'Iron%28III%29_chloride': 7,\n",
       " 'Phase_%28matter%29': 75,\n",
       " 'Magellanic_Penguin': 46,\n",
       " 'Cell_%28biology%29': 319,\n",
       " 'Organism': 449,\n",
       " 'Alzheimer%27s_disease': 63,\n",
       " 'Pneumonia': 75,\n",
       " 'Hydrochloric_acid': 59,\n",
       " 'Scurvy': 83,\n",
       " 'Copper': 251,\n",
       " 'Wood': 276,\n",
       " 'Forest': 167,\n",
       " 'Biosphere': 117,\n",
       " 'Seed': 581,\n",
       " 'Heat': 157,\n",
       " 'Eukaryote': 108,\n",
       " 'Penguin': 180,\n",
       " 'Philippines': 155,\n",
       " 'Benzene': 23,\n",
       " 'Chordate': 253,\n",
       " 'Costa_Rica': 46,\n",
       " 'Southern_Africa': 116,\n",
       " 'Bee': 128,\n",
       " 'Insect': 292,\n",
       " 'Anthropology': 144,\n",
       " 'Invertebrate': 91,\n",
       " 'Thunderstorm': 54,\n",
       " 'Sodium_hydroxide': 33,\n",
       " 'Zinc': 73,\n",
       " 'Stroke': 45,\n",
       " 'Edible_salt': 71,\n",
       " 'Olive_oil': 66,\n",
       " 'Celery': 33,\n",
       " 'Onion': 57,\n",
       " 'United_States_Virgin_Islands': 28,\n",
       " 'Thomas_Edison': 66,\n",
       " 'Malcolm_X': 36,\n",
       " 'Ku_Klux_Klan': 68,\n",
       " 'Distilled_beverage': 33,\n",
       " 'Sugarcane': 71,\n",
       " 'Neptunium': 22,\n",
       " 'River': 332,\n",
       " 'Herbivore': 388,\n",
       " 'Bonobo': 25,\n",
       " 'Southern_United_States': 123,\n",
       " 'Atlanta%2C_Georgia': 37,\n",
       " 'Carnivore': 175,\n",
       " 'Muhammad': 77,\n",
       " 'Idolatry': 17,\n",
       " 'Tuna': 109,\n",
       " 'Oregon': 109,\n",
       " 'Turkey_%28bird%29': 64,\n",
       " 'Platypus': 86,\n",
       " 'Cattle': 188,\n",
       " 'Battle_of_Leyte_Gulf': 17,\n",
       " 'Israel': 293,\n",
       " 'Kuwait': 83,\n",
       " 'Kuwait_City': 36,\n",
       " 'Trench_warfare': 61,\n",
       " 'Invasion': 46,\n",
       " 'Baghdad': 83,\n",
       " 'Persian_Gulf': 108,\n",
       " 'September_11%2C_2001_attacks': 166,\n",
       " 'Afghanistan': 161,\n",
       " 'Iraq': 258,\n",
       " 'Algeria': 82,\n",
       " 'Arabic_language': 235,\n",
       " 'William_Tecumseh_Sherman': 14,\n",
       " 'Nottingham': 41,\n",
       " 'Liverpool': 80,\n",
       " 'Nouakchott': 20,\n",
       " 'Anaconda': 48,\n",
       " 'Sudan': 123,\n",
       " 'Theropoda': 66,\n",
       " 'Allosaurus': 22,\n",
       " 'Volga_River': 22,\n",
       " 'Macau': 21,\n",
       " 'Islam': 445,\n",
       " 'Agnosticism': 37,\n",
       " 'Argentina': 217,\n",
       " 'Atheism': 68,\n",
       " 'Blaise_Pascal': 41,\n",
       " 'Eye': 304,\n",
       " 'Bolivia': 120,\n",
       " 'Deity': 147,\n",
       " 'London_Bridge': 52,\n",
       " 'Trafalgar_Square': 31,\n",
       " 'River_Thames': 81,\n",
       " 'Tower_Bridge': 37,\n",
       " 'Nitrogen': 214,\n",
       " 'Ammonia': 66,\n",
       " 'Nitrification': 25,\n",
       " 'Dove': 97,\n",
       " 'Passenger_Pigeon': 26,\n",
       " 'Arithmetic': 154,\n",
       " '6th_century': 102,\n",
       " 'Music': 764,\n",
       " 'Musical_instrument': 270,\n",
       " 'Flute': 83,\n",
       " 'Citrus': 228,\n",
       " 'Lemon': 127,\n",
       " 'Lemon_balm': 12,\n",
       " 'Arable_land': 28,\n",
       " 'Tea': 73,\n",
       " 'Dingo': 46,\n",
       " 'Dog': 303,\n",
       " 'Gray_Wolf': 51,\n",
       " 'Apostolic_Succession': 26,\n",
       " 'Vertebrate': 317,\n",
       " 'African_Union': 64,\n",
       " 'Tree': 437,\n",
       " 'Force': 131,\n",
       " 'Earthquake': 260,\n",
       " 'Sound': 279,\n",
       " 'Stem_cell': 47,\n",
       " 'Creationism': 59,\n",
       " 'Canada': 922,\n",
       " 'Mackenzie_River': 14,\n",
       " 'Pound_sterling': 51,\n",
       " 'Norman_conquest_of_England': 42,\n",
       " 'William_I_of_England': 47,\n",
       " 'Monarchy': 125,\n",
       " 'British_monarchy': 238,\n",
       " 'Stephen_of_England': 30,\n",
       " 'Matilda_of_Boulogne': 16,\n",
       " 'Goose': 76,\n",
       " 'Shelduck': 9,\n",
       " 'Animation': 237,\n",
       " 'The_Lion_King': 215,\n",
       " 'Television': 656,\n",
       " 'Integrated_circuit': 117,\n",
       " 'Macbeth': 78,\n",
       " 'Globe_Theatre': 37,\n",
       " 'Theatre': 1038,\n",
       " 'Stage_%28theatre%29': 46,\n",
       " 'Stock': 41,\n",
       " 'Finance': 131,\n",
       " 'Corporate_finance': 34,\n",
       " 'Investment_banking': 20,\n",
       " 'Washington%2C_D.C.': 225,\n",
       " 'Motion_%28physics%29': 63,\n",
       " '18th_century': 240,\n",
       " 'Adam_Smith': 45,\n",
       " 'Eurasian_Eagle_Owl': 19,\n",
       " 'Somalia': 64,\n",
       " 'William_III_of_England': 46,\n",
       " 'Zebra': 1042,\n",
       " 'Anne_Frank': 68,\n",
       " 'Dallas%2C_Texas': 47,\n",
       " 'Houston%2C_Texas': 68,\n",
       " 'Netherlands': 463,\n",
       " 'Apollo_11': 256,\n",
       " 'Hellenistic_Greece': 79,\n",
       " 'History_of_Greece': 75,\n",
       " 'Ireland': 379,\n",
       " 'Amsterdam': 87,\n",
       " 'New_Zealand': 356,\n",
       " 'Louis_Jordan': 15,\n",
       " 'Crust_%28geology%29': 88,\n",
       " 'Continental_crust': 50,\n",
       " 'Thorium': 45,\n",
       " 'Ant': 104,\n",
       " 'Scientific_classification': 327,\n",
       " 'Genetics': 208,\n",
       " 'Alchemy': 146,\n",
       " 'Amber': 38,\n",
       " 'Norfolk': 60,\n",
       " 'Norwich': 18,\n",
       " 'Geography': 211,\n",
       " 'Elvis_Presley': 104,\n",
       " 'Acts_of_Union_1707': 29,\n",
       " 'Snow': 144,\n",
       " 'Avalanche': 51,\n",
       " 'Thailand': 101,\n",
       " 'Gas': 137,\n",
       " 'Skiing': 64,\n",
       " 'Rocky_Mountains': 155,\n",
       " 'Chile': 118,\n",
       " 'Canal': 85,\n",
       " 'Electric_charge': 141,\n",
       " 'Electrical_resistance': 56,\n",
       " 'Superconductivity': 34,\n",
       " 'Mercury_%28element%29': 85,\n",
       " 'History_of_science': 78,\n",
       " 'Claude_L%C3%A9vi-Strauss': 7,\n",
       " 'Isle_of_Man': 41,\n",
       " 'Channel_Islands': 61,\n",
       " 'Jersey': 26,\n",
       " 'Antlion': 24,\n",
       " 'Hip_hop_music': 198,\n",
       " 'Spider': 79,\n",
       " 'Drum_and_bass': 32,\n",
       " 'Creation-evolution_controversy': 58,\n",
       " 'Compact_Disc': 108,\n",
       " 'DVD': 169,\n",
       " 'Sony': 213,\n",
       " 'Video': 100,\n",
       " 'Thorax': 26,\n",
       " 'Arthropod': 80,\n",
       " 'Cambrian': 62,\n",
       " 'Johann_Wolfgang_Goethe': 16,\n",
       " 'Glasgow': 69,\n",
       " 'Edinburgh': 73,\n",
       " 'European_Goldfinch': 8,\n",
       " 'Extinction': 190,\n",
       " 'Dodo': 48,\n",
       " 'Extinct_birds': 25,\n",
       " 'Chester_A._Arthur': 24,\n",
       " 'Superman': 186,\n",
       " 'World_War_I': 578,\n",
       " 'Woodrow_Wilson': 73,\n",
       " 'William_Howard_Taft': 32,\n",
       " 'Theodore_Roosevelt': 88,\n",
       " 'Grover_Cleveland': 35,\n",
       " 'Law': 129,\n",
       " 'Madama_Butterfly': 12,\n",
       " 'Norway': 638,\n",
       " 'Tourism': 111,\n",
       " '1896_Summer_Olympics': 36,\n",
       " 'Cairo': 106,\n",
       " 'Pope': 127,\n",
       " 'List_of_popes': 24,\n",
       " 'Peru': 187,\n",
       " 'Brighton': 20,\n",
       " 'North_Korea': 105,\n",
       " 'South_Korea': 95,\n",
       " 'Darfur_conflict': 28,\n",
       " 'Paul_of_Tarsus': 20,\n",
       " 'Gautama_Buddha': 55,\n",
       " 'Christina_Aguilera': 26,\n",
       " 'Popular_culture': 173,\n",
       " 'Romanticism': 106,\n",
       " 'Liberalism': 71,\n",
       " 'Birth_control': 43,\n",
       " 'Menstrual_cycle': 27,\n",
       " 'Gender': 33,\n",
       " 'Race': 99,\n",
       " 'Mahatma_Gandhi': 71,\n",
       " 'Bob_Dylan': 88,\n",
       " 'The_Beatles': 334,\n",
       " 'I_Want_to_Hold_Your_Hand': 34,\n",
       " 'Sgt._Pepper%27s_Lonely_Hearts_Club_Band': 16,\n",
       " 'Love': 101,\n",
       " 'Socialism': 125,\n",
       " 'Ho_Chi_Minh_City': 38,\n",
       " 'Indonesian_language': 23,\n",
       " 'Cambodia': 65,\n",
       " 'Cricket': 108,\n",
       " 'Bay_of_Bengal': 54,\n",
       " 'Myanmar': 50,\n",
       " 'Taiwan': 71,\n",
       " 'Ho_Chi_Minh': 24,\n",
       " 'Laos': 37,\n",
       " 'Chinese_language': 143,\n",
       " 'Hanoi': 20,\n",
       " 'Anglican_Communion': 65,\n",
       " 'Sri_Lanka': 84,\n",
       " 'Vancouver': 73,\n",
       " 'Mount_Baker': 13,\n",
       " 'Mount_Rainier': 26,\n",
       " 'Space_Shuttle_Columbia': 136,\n",
       " 'Hubble_Space_Telescope': 186,\n",
       " 'Space_Shuttle_Challenger_disaster': 61,\n",
       " 'Neil_Armstrong': 141,\n",
       " 'Birmingham': 37,\n",
       " 'Marseille': 30,\n",
       " 'Lance_Armstrong': 26,\n",
       " 'York': 29,\n",
       " 'Rowan_Williams': 19,\n",
       " 'Manifest_Destiny': 51,\n",
       " ...}"
      ]
     },
     "execution_count": 12,
     "metadata": {},
     "output_type": "execute_result"
    }
   ],
   "source": [
    "#code de Adrien#je concatenate tout en une seule chaine de caractère\n",
    "all_paths_fin = ';'.join(finished_path['path']).split(';')\n",
    "\n",
    "# je fabrique une liste en supprimant les doublons, je calculerais ensuite la fréquence la dessus\n",
    "path_fin = list(set(all_paths_fin))\n",
    "\n",
    "\n",
    "# pas très beau mais bon walla ça marche\n",
    "path_fin_count = {}\n",
    "for path in all_paths_fin:\n",
    "    if path in path_fin_count:\n",
    "        path_fin_count[path] += 1\n",
    "    else:\n",
    "        path_fin_count[path] = 1\n",
    "\n",
    "path_fin_count\n",
    "# je vais maintenant chercher les hubs"
   ]
  },
  {
   "cell_type": "code",
   "execution_count": 33,
   "metadata": {},
   "outputs": [
    {
     "data": {
      "text/html": [
       "<div>\n",
       "<style scoped>\n",
       "    .dataframe tbody tr th:only-of-type {\n",
       "        vertical-align: middle;\n",
       "    }\n",
       "\n",
       "    .dataframe tbody tr th {\n",
       "        vertical-align: top;\n",
       "    }\n",
       "\n",
       "    .dataframe thead th {\n",
       "        text-align: right;\n",
       "    }\n",
       "</style>\n",
       "<table border=\"1\" class=\"dataframe\">\n",
       "  <thead>\n",
       "    <tr style=\"text-align: right;\">\n",
       "      <th></th>\n",
       "      <th>Page</th>\n",
       "      <th>Count</th>\n",
       "      <th>Normalized_Frequency</th>\n",
       "    </tr>\n",
       "  </thead>\n",
       "  <tbody>\n",
       "    <tr>\n",
       "      <th>1</th>\n",
       "      <td>United_States</td>\n",
       "      <td>8896</td>\n",
       "      <td>0.079179</td>\n",
       "    </tr>\n",
       "    <tr>\n",
       "      <th>2</th>\n",
       "      <td>Europe</td>\n",
       "      <td>4362</td>\n",
       "      <td>0.038824</td>\n",
       "    </tr>\n",
       "    <tr>\n",
       "      <th>3</th>\n",
       "      <td>United_Kingdom</td>\n",
       "      <td>3904</td>\n",
       "      <td>0.034748</td>\n",
       "    </tr>\n",
       "    <tr>\n",
       "      <th>4</th>\n",
       "      <td>England</td>\n",
       "      <td>3332</td>\n",
       "      <td>0.029657</td>\n",
       "    </tr>\n",
       "    <tr>\n",
       "      <th>5</th>\n",
       "      <td>Earth</td>\n",
       "      <td>3223</td>\n",
       "      <td>0.028686</td>\n",
       "    </tr>\n",
       "    <tr>\n",
       "      <th>...</th>\n",
       "      <td>...</td>\n",
       "      <td>...</td>\n",
       "      <td>...</td>\n",
       "    </tr>\n",
       "    <tr>\n",
       "      <th>96</th>\n",
       "      <td>Electricity</td>\n",
       "      <td>522</td>\n",
       "      <td>0.004646</td>\n",
       "    </tr>\n",
       "    <tr>\n",
       "      <th>97</th>\n",
       "      <td>Mediterranean_Sea</td>\n",
       "      <td>519</td>\n",
       "      <td>0.004619</td>\n",
       "    </tr>\n",
       "    <tr>\n",
       "      <th>98</th>\n",
       "      <td>New_York_City</td>\n",
       "      <td>516</td>\n",
       "      <td>0.004593</td>\n",
       "    </tr>\n",
       "    <tr>\n",
       "      <th>99</th>\n",
       "      <td>Oxygen</td>\n",
       "      <td>513</td>\n",
       "      <td>0.004566</td>\n",
       "    </tr>\n",
       "    <tr>\n",
       "      <th>100</th>\n",
       "      <td>Greece</td>\n",
       "      <td>510</td>\n",
       "      <td>0.004539</td>\n",
       "    </tr>\n",
       "  </tbody>\n",
       "</table>\n",
       "<p>100 rows × 3 columns</p>\n",
       "</div>"
      ],
      "text/plain": [
       "                  Page  Count  Normalized_Frequency\n",
       "1        United_States   8896              0.079179\n",
       "2               Europe   4362              0.038824\n",
       "3       United_Kingdom   3904              0.034748\n",
       "4              England   3332              0.029657\n",
       "5                Earth   3223              0.028686\n",
       "..                 ...    ...                   ...\n",
       "96         Electricity    522              0.004646\n",
       "97   Mediterranean_Sea    519              0.004619\n",
       "98       New_York_City    516              0.004593\n",
       "99              Oxygen    513              0.004566\n",
       "100             Greece    510              0.004539\n",
       "\n",
       "[100 rows x 3 columns]"
      ]
     },
     "metadata": {},
     "output_type": "display_data"
    }
   ],
   "source": [
    "pages = list(path_fin_count.keys())\n",
    "counts = list(path_fin_count.values())\n",
    "top_100_fin_hubs = dict(sorted(path_fin_count.items(), key=lambda item: item[1], reverse=True)[:101])\n",
    "top_100_fin_hubs\n",
    "df_top_100_fin_hubs = pd.DataFrame(list(top_100_fin_hubs.items()), columns=['Page', 'Count'])\n",
    "df_top_100_fin_hubs = df_top_100_fin_hubs.drop(df_top_100_fin_hubs.index[0])\n",
    "df_top_100_fin_hubs['Normalized_Frequency'] = df_top_100_fin_hubs['Count'] / df_top_100_fin_hubs['Count'].sum()\n",
    "display(df_top_100_fin_hubs)\n",
    "#df with top 100 page apparitions in path without \"v\" and with frequencies (fais peut etre plus de sens de le faire avec tous les mots a voir pour plus tard)\n"
   ]
  },
  {
   "cell_type": "code",
   "execution_count": 39,
   "metadata": {},
   "outputs": [
    {
     "data": {
      "text/html": [
       "<div>\n",
       "<style scoped>\n",
       "    .dataframe tbody tr th:only-of-type {\n",
       "        vertical-align: middle;\n",
       "    }\n",
       "\n",
       "    .dataframe tbody tr th {\n",
       "        vertical-align: top;\n",
       "    }\n",
       "\n",
       "    .dataframe thead th {\n",
       "        text-align: right;\n",
       "    }\n",
       "</style>\n",
       "<table border=\"1\" class=\"dataframe\">\n",
       "  <thead>\n",
       "    <tr style=\"text-align: right;\">\n",
       "      <th></th>\n",
       "      <th>Hub</th>\n",
       "      <th>Count</th>\n",
       "      <th>Normalized_Frequency</th>\n",
       "    </tr>\n",
       "  </thead>\n",
       "  <tbody>\n",
       "    <tr>\n",
       "      <th>0</th>\n",
       "      <td>United_States</td>\n",
       "      <td>7989</td>\n",
       "      <td>0.022804</td>\n",
       "    </tr>\n",
       "    <tr>\n",
       "      <th>1</th>\n",
       "      <td>Europe</td>\n",
       "      <td>11826</td>\n",
       "      <td>0.033756</td>\n",
       "    </tr>\n",
       "    <tr>\n",
       "      <th>2</th>\n",
       "      <td>United_Kingdom</td>\n",
       "      <td>2400</td>\n",
       "      <td>0.006851</td>\n",
       "    </tr>\n",
       "    <tr>\n",
       "      <th>3</th>\n",
       "      <td>England</td>\n",
       "      <td>6170</td>\n",
       "      <td>0.017612</td>\n",
       "    </tr>\n",
       "    <tr>\n",
       "      <th>4</th>\n",
       "      <td>Earth</td>\n",
       "      <td>6039</td>\n",
       "      <td>0.017238</td>\n",
       "    </tr>\n",
       "    <tr>\n",
       "      <th>...</th>\n",
       "      <td>...</td>\n",
       "      <td>...</td>\n",
       "      <td>...</td>\n",
       "    </tr>\n",
       "    <tr>\n",
       "      <th>95</th>\n",
       "      <td>Electricity</td>\n",
       "      <td>638</td>\n",
       "      <td>0.001821</td>\n",
       "    </tr>\n",
       "    <tr>\n",
       "      <th>96</th>\n",
       "      <td>Mediterranean_Sea</td>\n",
       "      <td>184</td>\n",
       "      <td>0.000525</td>\n",
       "    </tr>\n",
       "    <tr>\n",
       "      <th>97</th>\n",
       "      <td>New_York_City</td>\n",
       "      <td>612</td>\n",
       "      <td>0.001747</td>\n",
       "    </tr>\n",
       "    <tr>\n",
       "      <th>98</th>\n",
       "      <td>Oxygen</td>\n",
       "      <td>1104</td>\n",
       "      <td>0.003151</td>\n",
       "    </tr>\n",
       "    <tr>\n",
       "      <th>99</th>\n",
       "      <td>Greece</td>\n",
       "      <td>1275</td>\n",
       "      <td>0.003639</td>\n",
       "    </tr>\n",
       "  </tbody>\n",
       "</table>\n",
       "<p>100 rows × 3 columns</p>\n",
       "</div>"
      ],
      "text/plain": [
       "                  Hub  Count  Normalized_Frequency\n",
       "0       United_States   7989              0.022804\n",
       "1              Europe  11826              0.033756\n",
       "2      United_Kingdom   2400              0.006851\n",
       "3             England   6170              0.017612\n",
       "4               Earth   6039              0.017238\n",
       "..                ...    ...                   ...\n",
       "95        Electricity    638              0.001821\n",
       "96  Mediterranean_Sea    184              0.000525\n",
       "97      New_York_City    612              0.001747\n",
       "98             Oxygen   1104              0.003151\n",
       "99             Greece   1275              0.003639\n",
       "\n",
       "[100 rows x 3 columns]"
      ]
     },
     "metadata": {},
     "output_type": "display_data"
    }
   ],
   "source": [
    "def count_hub_appearances(text_file_dir, df_top_100_fin_hubs):\n",
    "    # Initialize a dictionary to hold the counts\n",
    "    hub_counts = {hub: 0 for hub in df_top_100_fin_hubs['Page']}\n",
    "    \n",
    "    # List all the .txt files in the directory\n",
    "    for filename in os.listdir(text_file_dir):\n",
    "        if filename.endswith('.txt'):\n",
    "            file_path = os.path.join(text_file_dir, filename)\n",
    "            \n",
    "            # Open and read the file\n",
    "            with open(file_path, 'r', encoding='utf-8') as file:\n",
    "                text = file.read().lower()\n",
    "                \n",
    "                # Check each hub in the DataFrame\n",
    "                for hub in hub_counts.keys():\n",
    "                    hub_name = hub.replace('_', ' ').lower()  # Replace underscores with spaces for the actual text\n",
    "                    hub_counts[hub] += text.count(hub_name)\n",
    "    \n",
    "    # Convert the counts dictionary to a DataFrame\n",
    "    df_hub_counts = pd.DataFrame(list(hub_counts.items()), columns=['Hub', 'Count'])\n",
    "\n",
    "    # Calculate the total sum of all counts\n",
    "    total_count = df_hub_counts['Count'].sum()\n",
    "\n",
    "    # Avoid division by zero in case total_count is 0\n",
    "    if total_count > 0:\n",
    "        # Calculate the normalized frequency\n",
    "        df_hub_counts['Normalized_Frequency'] = df_hub_counts['Count'] / total_count\n",
    "    else:\n",
    "        df_hub_counts['Normalized_Frequency'] = 0\n",
    "\n",
    "    return df_hub_counts\n",
    "\n",
    "# Assuming df_top_100_fin_hubs is already defined and contains the top 100 hubs\n",
    "# Example DataFrame:\n",
    "# df_top_100_fin_hubs = pd.DataFrame({'Page': ['United_States', 'Europe', ...], 'Count': [8896, 4362, ...]})\n",
    "\n",
    "# Call the function with the path to your text files and the top 100 hubs DataFrame\n",
    "text_file_dir = \"./data/wikispeedia_articles_plaintext/plaintext_articles/\"\n",
    "df_hub_appearance_counts = count_hub_appearances(text_file_dir, df_top_100_fin_hubs)\n",
    "\n",
    "# Display the result\n",
    "display(df_hub_appearance_counts)\n"
   ]
  },
  {
   "cell_type": "code",
   "execution_count": 44,
   "metadata": {},
   "outputs": [
    {
     "data": {
      "text/html": [
       "<div>\n",
       "<style scoped>\n",
       "    .dataframe tbody tr th:only-of-type {\n",
       "        vertical-align: middle;\n",
       "    }\n",
       "\n",
       "    .dataframe tbody tr th {\n",
       "        vertical-align: top;\n",
       "    }\n",
       "\n",
       "    .dataframe thead th {\n",
       "        text-align: right;\n",
       "    }\n",
       "</style>\n",
       "<table border=\"1\" class=\"dataframe\">\n",
       "  <thead>\n",
       "    <tr style=\"text-align: right;\">\n",
       "      <th></th>\n",
       "      <th>Page</th>\n",
       "      <th>Count_x</th>\n",
       "      <th>Normalized_Frequency_x</th>\n",
       "      <th>Hub</th>\n",
       "      <th>Count_y</th>\n",
       "      <th>Normalized_Frequency_y</th>\n",
       "    </tr>\n",
       "  </thead>\n",
       "  <tbody>\n",
       "    <tr>\n",
       "      <th>0</th>\n",
       "      <td>United_States</td>\n",
       "      <td>8896</td>\n",
       "      <td>0.079179</td>\n",
       "      <td>United_States</td>\n",
       "      <td>7989</td>\n",
       "      <td>0.022804</td>\n",
       "    </tr>\n",
       "    <tr>\n",
       "      <th>1</th>\n",
       "      <td>Europe</td>\n",
       "      <td>4362</td>\n",
       "      <td>0.038824</td>\n",
       "      <td>Europe</td>\n",
       "      <td>11826</td>\n",
       "      <td>0.033756</td>\n",
       "    </tr>\n",
       "    <tr>\n",
       "      <th>2</th>\n",
       "      <td>United_Kingdom</td>\n",
       "      <td>3904</td>\n",
       "      <td>0.034748</td>\n",
       "      <td>United_Kingdom</td>\n",
       "      <td>2400</td>\n",
       "      <td>0.006851</td>\n",
       "    </tr>\n",
       "    <tr>\n",
       "      <th>3</th>\n",
       "      <td>England</td>\n",
       "      <td>3332</td>\n",
       "      <td>0.029657</td>\n",
       "      <td>England</td>\n",
       "      <td>6170</td>\n",
       "      <td>0.017612</td>\n",
       "    </tr>\n",
       "    <tr>\n",
       "      <th>4</th>\n",
       "      <td>Earth</td>\n",
       "      <td>3223</td>\n",
       "      <td>0.028686</td>\n",
       "      <td>Earth</td>\n",
       "      <td>6039</td>\n",
       "      <td>0.017238</td>\n",
       "    </tr>\n",
       "    <tr>\n",
       "      <th>...</th>\n",
       "      <td>...</td>\n",
       "      <td>...</td>\n",
       "      <td>...</td>\n",
       "      <td>...</td>\n",
       "      <td>...</td>\n",
       "      <td>...</td>\n",
       "    </tr>\n",
       "    <tr>\n",
       "      <th>95</th>\n",
       "      <td>Electricity</td>\n",
       "      <td>522</td>\n",
       "      <td>0.004646</td>\n",
       "      <td>Electricity</td>\n",
       "      <td>638</td>\n",
       "      <td>0.001821</td>\n",
       "    </tr>\n",
       "    <tr>\n",
       "      <th>96</th>\n",
       "      <td>Mediterranean_Sea</td>\n",
       "      <td>519</td>\n",
       "      <td>0.004619</td>\n",
       "      <td>Mediterranean_Sea</td>\n",
       "      <td>184</td>\n",
       "      <td>0.000525</td>\n",
       "    </tr>\n",
       "    <tr>\n",
       "      <th>97</th>\n",
       "      <td>New_York_City</td>\n",
       "      <td>516</td>\n",
       "      <td>0.004593</td>\n",
       "      <td>New_York_City</td>\n",
       "      <td>612</td>\n",
       "      <td>0.001747</td>\n",
       "    </tr>\n",
       "    <tr>\n",
       "      <th>98</th>\n",
       "      <td>Oxygen</td>\n",
       "      <td>513</td>\n",
       "      <td>0.004566</td>\n",
       "      <td>Oxygen</td>\n",
       "      <td>1104</td>\n",
       "      <td>0.003151</td>\n",
       "    </tr>\n",
       "    <tr>\n",
       "      <th>99</th>\n",
       "      <td>Greece</td>\n",
       "      <td>510</td>\n",
       "      <td>0.004539</td>\n",
       "      <td>Greece</td>\n",
       "      <td>1275</td>\n",
       "      <td>0.003639</td>\n",
       "    </tr>\n",
       "  </tbody>\n",
       "</table>\n",
       "<p>100 rows × 6 columns</p>\n",
       "</div>"
      ],
      "text/plain": [
       "                 Page  Count_x  Normalized_Frequency_x                Hub  \\\n",
       "0       United_States     8896                0.079179      United_States   \n",
       "1              Europe     4362                0.038824             Europe   \n",
       "2      United_Kingdom     3904                0.034748     United_Kingdom   \n",
       "3             England     3332                0.029657            England   \n",
       "4               Earth     3223                0.028686              Earth   \n",
       "..                ...      ...                     ...                ...   \n",
       "95        Electricity      522                0.004646        Electricity   \n",
       "96  Mediterranean_Sea      519                0.004619  Mediterranean_Sea   \n",
       "97      New_York_City      516                0.004593      New_York_City   \n",
       "98             Oxygen      513                0.004566             Oxygen   \n",
       "99             Greece      510                0.004539             Greece   \n",
       "\n",
       "    Count_y  Normalized_Frequency_y  \n",
       "0      7989                0.022804  \n",
       "1     11826                0.033756  \n",
       "2      2400                0.006851  \n",
       "3      6170                0.017612  \n",
       "4      6039                0.017238  \n",
       "..      ...                     ...  \n",
       "95      638                0.001821  \n",
       "96      184                0.000525  \n",
       "97      612                0.001747  \n",
       "98     1104                0.003151  \n",
       "99     1275                0.003639  \n",
       "\n",
       "[100 rows x 6 columns]"
      ]
     },
     "metadata": {},
     "output_type": "display_data"
    }
   ],
   "source": [
    "comparison_df = pd.merge(df_top_100_fin_hubs, df_hub_appearance_counts, left_on='Page', right_on='Hub')\n",
    "display(comparison_df)\n"
   ]
  },
  {
   "cell_type": "code",
   "execution_count": 56,
   "metadata": {},
   "outputs": [
    {
     "data": {
      "text/html": [
       "<div>\n",
       "<style scoped>\n",
       "    .dataframe tbody tr th:only-of-type {\n",
       "        vertical-align: middle;\n",
       "    }\n",
       "\n",
       "    .dataframe tbody tr th {\n",
       "        vertical-align: top;\n",
       "    }\n",
       "\n",
       "    .dataframe thead th {\n",
       "        text-align: right;\n",
       "    }\n",
       "</style>\n",
       "<table border=\"1\" class=\"dataframe\">\n",
       "  <thead>\n",
       "    <tr style=\"text-align: right;\">\n",
       "      <th></th>\n",
       "      <th>Page</th>\n",
       "      <th>path_appearence</th>\n",
       "      <th>N_Frequency_hubs</th>\n",
       "      <th>Count</th>\n",
       "      <th>N_Frequency_hubs_article</th>\n",
       "    </tr>\n",
       "  </thead>\n",
       "  <tbody>\n",
       "    <tr>\n",
       "      <th>0</th>\n",
       "      <td>United_States</td>\n",
       "      <td>8896</td>\n",
       "      <td>0.079179</td>\n",
       "      <td>7989</td>\n",
       "      <td>0.022804</td>\n",
       "    </tr>\n",
       "    <tr>\n",
       "      <th>1</th>\n",
       "      <td>Europe</td>\n",
       "      <td>4362</td>\n",
       "      <td>0.038824</td>\n",
       "      <td>11826</td>\n",
       "      <td>0.033756</td>\n",
       "    </tr>\n",
       "    <tr>\n",
       "      <th>2</th>\n",
       "      <td>United_Kingdom</td>\n",
       "      <td>3904</td>\n",
       "      <td>0.034748</td>\n",
       "      <td>2400</td>\n",
       "      <td>0.006851</td>\n",
       "    </tr>\n",
       "    <tr>\n",
       "      <th>3</th>\n",
       "      <td>England</td>\n",
       "      <td>3332</td>\n",
       "      <td>0.029657</td>\n",
       "      <td>6170</td>\n",
       "      <td>0.017612</td>\n",
       "    </tr>\n",
       "    <tr>\n",
       "      <th>4</th>\n",
       "      <td>Earth</td>\n",
       "      <td>3223</td>\n",
       "      <td>0.028686</td>\n",
       "      <td>6039</td>\n",
       "      <td>0.017238</td>\n",
       "    </tr>\n",
       "    <tr>\n",
       "      <th>...</th>\n",
       "      <td>...</td>\n",
       "      <td>...</td>\n",
       "      <td>...</td>\n",
       "      <td>...</td>\n",
       "      <td>...</td>\n",
       "    </tr>\n",
       "    <tr>\n",
       "      <th>95</th>\n",
       "      <td>Electricity</td>\n",
       "      <td>522</td>\n",
       "      <td>0.004646</td>\n",
       "      <td>638</td>\n",
       "      <td>0.001821</td>\n",
       "    </tr>\n",
       "    <tr>\n",
       "      <th>96</th>\n",
       "      <td>Mediterranean_Sea</td>\n",
       "      <td>519</td>\n",
       "      <td>0.004619</td>\n",
       "      <td>184</td>\n",
       "      <td>0.000525</td>\n",
       "    </tr>\n",
       "    <tr>\n",
       "      <th>97</th>\n",
       "      <td>New_York_City</td>\n",
       "      <td>516</td>\n",
       "      <td>0.004593</td>\n",
       "      <td>612</td>\n",
       "      <td>0.001747</td>\n",
       "    </tr>\n",
       "    <tr>\n",
       "      <th>98</th>\n",
       "      <td>Oxygen</td>\n",
       "      <td>513</td>\n",
       "      <td>0.004566</td>\n",
       "      <td>1104</td>\n",
       "      <td>0.003151</td>\n",
       "    </tr>\n",
       "    <tr>\n",
       "      <th>99</th>\n",
       "      <td>Greece</td>\n",
       "      <td>510</td>\n",
       "      <td>0.004539</td>\n",
       "      <td>1275</td>\n",
       "      <td>0.003639</td>\n",
       "    </tr>\n",
       "  </tbody>\n",
       "</table>\n",
       "<p>100 rows × 5 columns</p>\n",
       "</div>"
      ],
      "text/plain": [
       "                 Page  path_appearence  N_Frequency_hubs  Count  \\\n",
       "0       United_States             8896          0.079179   7989   \n",
       "1              Europe             4362          0.038824  11826   \n",
       "2      United_Kingdom             3904          0.034748   2400   \n",
       "3             England             3332          0.029657   6170   \n",
       "4               Earth             3223          0.028686   6039   \n",
       "..                ...              ...               ...    ...   \n",
       "95        Electricity              522          0.004646    638   \n",
       "96  Mediterranean_Sea              519          0.004619    184   \n",
       "97      New_York_City              516          0.004593    612   \n",
       "98             Oxygen              513          0.004566   1104   \n",
       "99             Greece              510          0.004539   1275   \n",
       "\n",
       "    N_Frequency_hubs_article  \n",
       "0                   0.022804  \n",
       "1                   0.033756  \n",
       "2                   0.006851  \n",
       "3                   0.017612  \n",
       "4                   0.017238  \n",
       "..                       ...  \n",
       "95                  0.001821  \n",
       "96                  0.000525  \n",
       "97                  0.001747  \n",
       "98                  0.003151  \n",
       "99                  0.003639  \n",
       "\n",
       "[100 rows x 5 columns]"
      ]
     },
     "metadata": {},
     "output_type": "display_data"
    }
   ],
   "source": [
    "df_top_100_fin_hubs = df_top_100_fin_hubs.rename(columns={'Count': 'path_appearence'})\n",
    "df_top_100_fin_hubs = df_top_100_fin_hubs.rename(columns={'Normalized_Frequency': 'N_Frequency_hubs'})\n",
    "\n",
    "df_hub_appearance_counts = df_hub_appearance_counts.rename(columns={'Hub': 'Page'})\n",
    "df_hub_appearance_counts = df_hub_appearance_counts.rename(columns={'Normalized_Frequency': 'N_Frequency_hubs_article'})\n",
    "\n",
    "merged_df = pd.merge(df_top_100_fin_hubs, df_hub_appearance_counts, on='Page')\n",
    "\n",
    "display(merged_df)"
   ]
  },
  {
   "cell_type": "code",
   "execution_count": 62,
   "metadata": {},
   "outputs": [
    {
     "data": {
      "image/png": "[encoded data removed]",
      "text/plain": [
       "<Figure size 1000x600 with 1 Axes>"
      ]
     },
     "metadata": {},
     "output_type": "display_data"
    }
   ],
   "source": [
    "# Calculate correlation coefficient\n",
    "correlation = merged_df['N_Frequency_hubs'].corr(merged_df['N_Frequency_hubs_article'])\n",
    "\n",
    "# Create a scatter plot with a regression line\n",
    "sns.set_theme(color_codes=True)  # Use seaborn theme for nicer-looking plots\n",
    "plt.figure(figsize=(10, 6))\n",
    "\n",
    "# Use seaborn regplot to plot data and a regression model fit\n",
    "sns.regplot(x='N_Frequency_hubs', y='N_Frequency_hubs_article', data=merged_df, logx=True)\n",
    "\n",
    "# Annotate with the correlation coefficient\n",
    "plt.text(0.05, 0.95, f'Correlation: {correlation:.2f}', ha='left', va='center', transform=plt.gca().transAxes)\n",
    "\n",
    "# Create a title and labels\n",
    "plt.title('Scatter Plot with Regression Line of N_Frequency_hubs vs. N_Frequency_hubs_article')\n",
    "plt.xlabel('N_Frequency_hubs (log scale)')\n",
    "plt.ylabel('N_Frequency_hubs_article (log scale)')\n",
    "\n",
    "# Show grid\n",
    "plt.grid(True)\n",
    "\n",
    "# Show the plot\n",
    "plt.show()"
   ]
  },
  {
   "cell_type": "code",
   "execution_count": 67,
   "metadata": {},
   "outputs": [
    {
     "data": {
      "application/vnd.plotly.v1+json": {
       "config": {
        "plotlyServerURL": "https://plot.ly"
       },
       "data": [
        {
         "customdata": [
          [
           "United_States"
          ],
          [
           "Europe"
          ],
          [
           "United_Kingdom"
          ],
          [
           "England"
          ],
          [
           "Earth"
          ],
          [
           "Africa"
          ],
          [
           "World_War_II"
          ],
          [
           "North_America"
          ],
          [
           "Germany"
          ],
          [
           "Animal"
          ],
          [
           "Human"
          ],
          [
           "Mammal"
          ],
          [
           "France"
          ],
          [
           "Computer"
          ],
          [
           "Science"
          ],
          [
           "English_language"
          ],
          [
           "Periodic_table"
          ],
          [
           "Atlantic_Ocean"
          ],
          [
           "Brain"
          ],
          [
           "Telephone"
          ],
          [
           "India"
          ],
          [
           "Bird"
          ],
          [
           "Viking"
          ],
          [
           "Agriculture"
          ],
          [
           "Plant"
          ],
          [
           "Asia"
          ],
          [
           "Asteroid"
          ],
          [
           "China"
          ],
          [
           "Christianity"
          ],
          [
           "Japan"
          ],
          [
           "United_Nations"
          ],
          [
           "Internet"
          ],
          [
           "Zebra"
          ],
          [
           "Theatre"
          ],
          [
           "Russia"
          ],
          [
           "Australia"
          ],
          [
           "Chemistry"
          ],
          [
           "London"
          ],
          [
           "Sun"
          ],
          [
           "Canada"
          ],
          [
           "South_America"
          ],
          [
           "Water"
          ],
          [
           "European_Union"
          ],
          [
           "Adolf_Hitler"
          ],
          [
           "Solar_System"
          ],
          [
           "Italy"
          ],
          [
           "President_of_the_United_States"
          ],
          [
           "Physics"
          ],
          [
           "Pacific_Ocean"
          ],
          [
           "Chemical_element"
          ],
          [
           "Computer_science"
          ],
          [
           "Biology"
          ],
          [
           "Mathematics"
          ],
          [
           "Scotland"
          ],
          [
           "Fish"
          ],
          [
           "Great_Britain"
          ],
          [
           "Music"
          ],
          [
           "Ancient_Greece"
          ],
          [
           "20th_century"
          ],
          [
           "Fruit"
          ],
          [
           "Lion"
          ],
          [
           "Technology"
          ],
          [
           "British_Empire"
          ],
          [
           "Pyramid"
          ],
          [
           "California"
          ],
          [
           "Mexico"
          ],
          [
           "Communication"
          ],
          [
           "Bean"
          ],
          [
           "Ocean"
          ],
          [
           "Religion"
          ],
          [
           "Latin"
          ],
          [
           "Continent"
          ],
          [
           "Egypt"
          ],
          [
           "Moon"
          ],
          [
           "Dinosaur"
          ],
          [
           "Electronics"
          ],
          [
           "People%27s_Republic_of_China"
          ],
          [
           "South_Africa"
          ],
          [
           "Television"
          ],
          [
           "Roman_Empire"
          ],
          [
           "Norway"
          ],
          [
           "Batman"
          ],
          [
           "Film"
          ],
          [
           "Soviet_Union"
          ],
          [
           "Art"
          ],
          [
           "Jesus"
          ],
          [
           "Culture"
          ],
          [
           "Seed"
          ],
          [
           "World_War_I"
          ],
          [
           "Nuclear_weapon"
          ],
          [
           "Spain"
          ],
          [
           "Microsoft_Windows"
          ],
          [
           "Microsoft"
          ],
          [
           "19th_century"
          ],
          [
           "Brazil"
          ],
          [
           "Electricity"
          ],
          [
           "Mediterranean_Sea"
          ],
          [
           "New_York_City"
          ],
          [
           "Oxygen"
          ],
          [
           "Greece"
          ]
         ],
         "hovertemplate": "N_Frequency_hubs=%{x}<br>N_Frequency_hubs_article=%{y}<br>Page=%{customdata[0]}<extra></extra>",
         "legendgroup": "",
         "marker": {
          "color": "#636efa",
          "symbol": "circle"
         },
         "mode": "markers",
         "name": "",
         "orientation": "v",
         "showlegend": false,
         "type": "scatter",
         "x": [
          0.07917901613664077,
          0.038824063442898724,
          0.03474762578658336,
          0.02965652897563928,
          0.028686372415511825,
          0.02488585084510427,
          0.020480093989479586,
          0.016768577608074552,
          0.015745017934545583,
          0.015246588876131478,
          0.014614652034213594,
          0.014436641656208556,
          0.014392139061707297,
          0.013813605333190926,
          0.013324076793677071,
          0.012727742027360196,
          0.012576433206055913,
          0.011784287023933495,
          0.011784287023933495,
          0.01114344966311536,
          0.01100104136071133,
          0.010769627869304781,
          0.010662821642501758,
          0.010547114896798482,
          0.010502612302297223,
          0.010467010226696216,
          0.010449209188895713,
          0.010021984281683622,
          0.009763869233576318,
          0.009665963525673546,
          0.009470152109868006,
          0.009318843288563724,
          0.009274340694062464,
          0.009238738618461455,
          0.009069628759356671,
          0.00892722045695264,
          0.008820414230149618,
          0.00868690644664584,
          0.008295283615034756,
          0.008206278426032238,
          0.008188477388231735,
          0.008054969604727956,
          0.007930362340124428,
          0.007859158188922414,
          0.007832456632221658,
          0.007716749886518384,
          0.007565441065214102,
          0.007547640027413598,
          0.007512037951812591,
          0.007485336395111835,
          0.007423032762810072,
          0.007191619271403523,
          0.007164917714702767,
          0.007147116676902264,
          0.0069246037043959666,
          0.006826697996493196,
          0.00679999643979244,
          0.006773294883091684,
          0.006728792288590425,
          0.006710991250789921,
          0.006666488656288661,
          0.0066575881373884096,
          0.006639787099587906,
          0.006639787099587906,
          0.006470677240483121,
          0.006443975683782364,
          0.006381672051480602,
          0.006381672051480602,
          0.006310467900278586,
          0.006132457522273548,
          0.006123557003373296,
          0.006114656484473045,
          0.0060701538899717855,
          0.006061253371071534,
          0.005927745587567756,
          0.005883242993066496,
          0.005874342474166244,
          0.005865441955265992,
          0.005838740398565237,
          0.005829839879664985,
          0.005678531058360702,
          0.005634028463859443,
          0.005518321718156169,
          0.005456018085854405,
          0.0053937144535526425,
          0.005313609783450375,
          0.00528690822674962,
          0.005171201481046345,
          0.005144499924345589,
          0.0049575890274403,
          0.004939787989639796,
          0.004788479168335514,
          0.004743976573834255,
          0.004690573460432743,
          0.004646070865931484,
          0.004646070865931484,
          0.004619369309230728,
          0.004592667752529972,
          0.004565966195829217,
          0.004539264639128461
         ],
         "xaxis": "x",
         "y": [
          0.02280395279932864,
          0.03375635821815753,
          0.006850605422254192,
          0.01761176477304515,
          0.01723783589374711,
          0.023180736097552623,
          0.00443291259198365,
          0.004652702849280972,
          0.012285419057242517,
          0.012399595814280087,
          0.02458225579018879,
          0.0029343426558655454,
          0.016293023229261218,
          0.008497605142521137,
          0.011172195676126212,
          0.0006964782179291762,
          0.0010846791918569137,
          0.001030445232264068,
          0.003650801806276296,
          0.0016013290174519174,
          0.024430971587114013,
          0.009199792198302192,
          0.0017783029908601505,
          0.003174113845644442,
          0.015385318010812539,
          0.013504255938618575,
          0.0012188368813760583,
          0.01280492330176346,
          0.0028087482231242186,
          0.015847733876814697,
          0.0024376737627521167,
          0.0038991362528330107,
          0.0005366307580765784,
          0.006833478908698556,
          0.01826542670708524,
          0.01553660221388732,
          0.0023206425867886077,
          0.01238817813857633,
          0.018251154612455543,
          0.007889613911296077,
          0.002326351424640486,
          0.032745893918375034,
          0.0019724034778240192,
          0.00046241586600215793,
          0.0015185508685996792,
          0.0073843817614048304,
          0.0005195042445209428,
          0.0038249213607585903,
          0.0009590847591155868,
          0.0007792563667814144,
          0.0003311125954089526,
          0.0017668853151563935,
          0.0025775402901231396,
          0.007116066382366542,
          0.011469055244423893,
          0.0023320602624923646,
          0.026800139295643587,
          0.00040818190640931227,
          0.004829676822689206,
          0.004284482807834809,
          0.03379632008312068,
          0.005920064852397998,
          0.000776401947855475,
          0.001549949476785011,
          0.005483338756729293,
          0.004966688931134289,
          0.004764025187392602,
          0.004198850240056631,
          0.009236899644339401,
          0.007658405978294999,
          0.0129533530859123,
          0.007027579395662425,
          0.008003790668333647,
          0.0057316732032860074,
          0.002745951006753555,
          0.0008591800967077132,
          0,
          0.004866784268726415,
          0.006468113286178333,
          0.002189339316195402,
          0.0023234970057145468,
          0.0007935284614111105,
          0.019027556560311017,
          0.003870592063573618,
          0.2540375755707411,
          0.0030856268589403257,
          0.01766028989478612,
          0.004116072091204393,
          0.0066365240028087484,
          0.0010247363944121896,
          0.007056123584921818,
          0.00025404328440859294,
          0.0017668853151563935,
          0.004615595403243761,
          0.003976205563833371,
          0.0018211192747492394,
          0.0005252130823728214,
          0.001746904382674819,
          0.0031512784942369283,
          0.003639384130572539
         ],
         "yaxis": "y"
        }
       ],
       "layout": {
        "legend": {
         "tracegroupgap": 0
        },
        "template": {
         "data": {
          "bar": [
           {
            "error_x": {
             "color": "#2a3f5f"
            },
            "error_y": {
             "color": "#2a3f5f"
            },
            "marker": {
             "line": {
              "color": "#E5ECF6",
              "width": 0.5
             },
             "pattern": {
              "fillmode": "overlay",
              "size": 10,
              "solidity": 0.2
             }
            },
            "type": "bar"
           }
          ],
          "barpolar": [
           {
            "marker": {
             "line": {
              "color": "#E5ECF6",
              "width": 0.5
             },
             "pattern": {
              "fillmode": "overlay",
              "size": 10,
              "solidity": 0.2
             }
            },
            "type": "barpolar"
           }
          ],
          "carpet": [
           {
            "aaxis": {
             "endlinecolor": "#2a3f5f",
             "gridcolor": "white",
             "linecolor": "white",
             "minorgridcolor": "white",
             "startlinecolor": "#2a3f5f"
            },
            "baxis": {
             "endlinecolor": "#2a3f5f",
             "gridcolor": "white",
             "linecolor": "white",
             "minorgridcolor": "white",
             "startlinecolor": "#2a3f5f"
            },
            "type": "carpet"
           }
          ],
          "choropleth": [
           {
            "colorbar": {
             "outlinewidth": 0,
             "ticks": ""
            },
            "type": "choropleth"
           }
          ],
          "contour": [
           {
            "colorbar": {
             "outlinewidth": 0,
             "ticks": ""
            },
            "colorscale": [
             [
              0,
              "#0d0887"
             ],
             [
              0.1111111111111111,
              "#46039f"
             ],
             [
              0.2222222222222222,
              "#7201a8"
             ],
             [
              0.3333333333333333,
              "#9c179e"
             ],
             [
              0.4444444444444444,
              "#bd3786"
             ],
             [
              0.5555555555555556,
              "#d8576b"
             ],
             [
              0.6666666666666666,
              "#ed7953"
             ],
             [
              0.7777777777777778,
              "#fb9f3a"
             ],
             [
              0.8888888888888888,
              "#fdca26"
             ],
             [
              1,
              "#f0f921"
             ]
            ],
            "type": "contour"
           }
          ],
          "contourcarpet": [
           {
            "colorbar": {
             "outlinewidth": 0,
             "ticks": ""
            },
            "type": "contourcarpet"
           }
          ],
          "heatmap": [
           {
            "colorbar": {
             "outlinewidth": 0,
             "ticks": ""
            },
            "colorscale": [
             [
              0,
              "#0d0887"
             ],
             [
              0.1111111111111111,
              "#46039f"
             ],
             [
              0.2222222222222222,
              "#7201a8"
             ],
             [
              0.3333333333333333,
              "#9c179e"
             ],
             [
              0.4444444444444444,
              "#bd3786"
             ],
             [
              0.5555555555555556,
              "#d8576b"
             ],
             [
              0.6666666666666666,
              "#ed7953"
             ],
             [
              0.7777777777777778,
              "#fb9f3a"
             ],
             [
              0.8888888888888888,
              "#fdca26"
             ],
             [
              1,
              "#f0f921"
             ]
            ],
            "type": "heatmap"
           }
          ],
          "heatmapgl": [
           {
            "colorbar": {
             "outlinewidth": 0,
             "ticks": ""
            },
            "colorscale": [
             [
              0,
              "#0d0887"
             ],
             [
              0.1111111111111111,
              "#46039f"
             ],
             [
              0.2222222222222222,
              "#7201a8"
             ],
             [
              0.3333333333333333,
              "#9c179e"
             ],
             [
              0.4444444444444444,
              "#bd3786"
             ],
             [
              0.5555555555555556,
              "#d8576b"
             ],
             [
              0.6666666666666666,
              "#ed7953"
             ],
             [
              0.7777777777777778,
              "#fb9f3a"
             ],
             [
              0.8888888888888888,
              "#fdca26"
             ],
             [
              1,
              "#f0f921"
             ]
            ],
            "type": "heatmapgl"
           }
          ],
          "histogram": [
           {
            "marker": {
             "pattern": {
              "fillmode": "overlay",
              "size": 10,
              "solidity": 0.2
             }
            },
            "type": "histogram"
           }
          ],
          "histogram2d": [
           {
            "colorbar": {
             "outlinewidth": 0,
             "ticks": ""
            },
            "colorscale": [
             [
              0,
              "#0d0887"
             ],
             [
              0.1111111111111111,
              "#46039f"
             ],
             [
              0.2222222222222222,
              "#7201a8"
             ],
             [
              0.3333333333333333,
              "#9c179e"
             ],
             [
              0.4444444444444444,
              "#bd3786"
             ],
             [
              0.5555555555555556,
              "#d8576b"
             ],
             [
              0.6666666666666666,
              "#ed7953"
             ],
             [
              0.7777777777777778,
              "#fb9f3a"
             ],
             [
              0.8888888888888888,
              "#fdca26"
             ],
             [
              1,
              "#f0f921"
             ]
            ],
            "type": "histogram2d"
           }
          ],
          "histogram2dcontour": [
           {
            "colorbar": {
             "outlinewidth": 0,
             "ticks": ""
            },
            "colorscale": [
             [
              0,
              "#0d0887"
             ],
             [
              0.1111111111111111,
              "#46039f"
             ],
             [
              0.2222222222222222,
              "#7201a8"
             ],
             [
              0.3333333333333333,
              "#9c179e"
             ],
             [
              0.4444444444444444,
              "#bd3786"
             ],
             [
              0.5555555555555556,
              "#d8576b"
             ],
             [
              0.6666666666666666,
              "#ed7953"
             ],
             [
              0.7777777777777778,
              "#fb9f3a"
             ],
             [
              0.8888888888888888,
              "#fdca26"
             ],
             [
              1,
              "#f0f921"
             ]
            ],
            "type": "histogram2dcontour"
           }
          ],
          "mesh3d": [
           {
            "colorbar": {
             "outlinewidth": 0,
             "ticks": ""
            },
            "type": "mesh3d"
           }
          ],
          "parcoords": [
           {
            "line": {
             "colorbar": {
              "outlinewidth": 0,
              "ticks": ""
             }
            },
            "type": "parcoords"
           }
          ],
          "pie": [
           {
            "automargin": true,
            "type": "pie"
           }
          ],
          "scatter": [
           {
            "fillpattern": {
             "fillmode": "overlay",
             "size": 10,
             "solidity": 0.2
            },
            "type": "scatter"
           }
          ],
          "scatter3d": [
           {
            "line": {
             "colorbar": {
              "outlinewidth": 0,
              "ticks": ""
             }
            },
            "marker": {
             "colorbar": {
              "outlinewidth": 0,
              "ticks": ""
             }
            },
            "type": "scatter3d"
           }
          ],
          "scattercarpet": [
           {
            "marker": {
             "colorbar": {
              "outlinewidth": 0,
              "ticks": ""
             }
            },
            "type": "scattercarpet"
           }
          ],
          "scattergeo": [
           {
            "marker": {
             "colorbar": {
              "outlinewidth": 0,
              "ticks": ""
             }
            },
            "type": "scattergeo"
           }
          ],
          "scattergl": [
           {
            "marker": {
             "colorbar": {
              "outlinewidth": 0,
              "ticks": ""
             }
            },
            "type": "scattergl"
           }
          ],
          "scattermapbox": [
           {
            "marker": {
             "colorbar": {
              "outlinewidth": 0,
              "ticks": ""
             }
            },
            "type": "scattermapbox"
           }
          ],
          "scatterpolar": [
           {
            "marker": {
             "colorbar": {
              "outlinewidth": 0,
              "ticks": ""
             }
            },
            "type": "scatterpolar"
           }
          ],
          "scatterpolargl": [
           {
            "marker": {
             "colorbar": {
              "outlinewidth": 0,
              "ticks": ""
             }
            },
            "type": "scatterpolargl"
           }
          ],
          "scatterternary": [
           {
            "marker": {
             "colorbar": {
              "outlinewidth": 0,
              "ticks": ""
             }
            },
            "type": "scatterternary"
           }
          ],
          "surface": [
           {
            "colorbar": {
             "outlinewidth": 0,
             "ticks": ""
            },
            "colorscale": [
             [
              0,
              "#0d0887"
             ],
             [
              0.1111111111111111,
              "#46039f"
             ],
             [
              0.2222222222222222,
              "#7201a8"
             ],
             [
              0.3333333333333333,
              "#9c179e"
             ],
             [
              0.4444444444444444,
              "#bd3786"
             ],
             [
              0.5555555555555556,
              "#d8576b"
             ],
             [
              0.6666666666666666,
              "#ed7953"
             ],
             [
              0.7777777777777778,
              "#fb9f3a"
             ],
             [
              0.8888888888888888,
              "#fdca26"
             ],
             [
              1,
              "#f0f921"
             ]
            ],
            "type": "surface"
           }
          ],
          "table": [
           {
            "cells": {
             "fill": {
              "color": "#EBF0F8"
             },
             "line": {
              "color": "white"
             }
            },
            "header": {
             "fill": {
              "color": "#C8D4E3"
             },
             "line": {
              "color": "white"
             }
            },
            "type": "table"
           }
          ]
         },
         "layout": {
          "annotationdefaults": {
           "arrowcolor": "#2a3f5f",
           "arrowhead": 0,
           "arrowwidth": 1
          },
          "autotypenumbers": "strict",
          "coloraxis": {
           "colorbar": {
            "outlinewidth": 0,
            "ticks": ""
           }
          },
          "colorscale": {
           "diverging": [
            [
             0,
             "#8e0152"
            ],
            [
             0.1,
             "#c51b7d"
            ],
            [
             0.2,
             "#de77ae"
            ],
            [
             0.3,
             "#f1b6da"
            ],
            [
             0.4,
             "#fde0ef"
            ],
            [
             0.5,
             "#f7f7f7"
            ],
            [
             0.6,
             "#e6f5d0"
            ],
            [
             0.7,
             "#b8e186"
            ],
            [
             0.8,
             "#7fbc41"
            ],
            [
             0.9,
             "#4d9221"
            ],
            [
             1,
             "#276419"
            ]
           ],
           "sequential": [
            [
             0,
             "#0d0887"
            ],
            [
             0.1111111111111111,
             "#46039f"
            ],
            [
             0.2222222222222222,
             "#7201a8"
            ],
            [
             0.3333333333333333,
             "#9c179e"
            ],
            [
             0.4444444444444444,
             "#bd3786"
            ],
            [
             0.5555555555555556,
             "#d8576b"
            ],
            [
             0.6666666666666666,
             "#ed7953"
            ],
            [
             0.7777777777777778,
             "#fb9f3a"
            ],
            [
             0.8888888888888888,
             "#fdca26"
            ],
            [
             1,
             "#f0f921"
            ]
           ],
           "sequentialminus": [
            [
             0,
             "#0d0887"
            ],
            [
             0.1111111111111111,
             "#46039f"
            ],
            [
             0.2222222222222222,
             "#7201a8"
            ],
            [
             0.3333333333333333,
             "#9c179e"
            ],
            [
             0.4444444444444444,
             "#bd3786"
            ],
            [
             0.5555555555555556,
             "#d8576b"
            ],
            [
             0.6666666666666666,
             "#ed7953"
            ],
            [
             0.7777777777777778,
             "#fb9f3a"
            ],
            [
             0.8888888888888888,
             "#fdca26"
            ],
            [
             1,
             "#f0f921"
            ]
           ]
          },
          "colorway": [
           "#636efa",
           "#EF553B",
           "#00cc96",
           "#ab63fa",
           "#FFA15A",
           "#19d3f3",
           "#FF6692",
           "#B6E880",
           "#FF97FF",
           "#FECB52"
          ],
          "font": {
           "color": "#2a3f5f"
          },
          "geo": {
           "bgcolor": "white",
           "lakecolor": "white",
           "landcolor": "#E5ECF6",
           "showlakes": true,
           "showland": true,
           "subunitcolor": "white"
          },
          "hoverlabel": {
           "align": "left"
          },
          "hovermode": "closest",
          "mapbox": {
           "style": "light"
          },
          "paper_bgcolor": "white",
          "plot_bgcolor": "#E5ECF6",
          "polar": {
           "angularaxis": {
            "gridcolor": "white",
            "linecolor": "white",
            "ticks": ""
           },
           "bgcolor": "#E5ECF6",
           "radialaxis": {
            "gridcolor": "white",
            "linecolor": "white",
            "ticks": ""
           }
          },
          "scene": {
           "xaxis": {
            "backgroundcolor": "#E5ECF6",
            "gridcolor": "white",
            "gridwidth": 2,
            "linecolor": "white",
            "showbackground": true,
            "ticks": "",
            "zerolinecolor": "white"
           },
           "yaxis": {
            "backgroundcolor": "#E5ECF6",
            "gridcolor": "white",
            "gridwidth": 2,
            "linecolor": "white",
            "showbackground": true,
            "ticks": "",
            "zerolinecolor": "white"
           },
           "zaxis": {
            "backgroundcolor": "#E5ECF6",
            "gridcolor": "white",
            "gridwidth": 2,
            "linecolor": "white",
            "showbackground": true,
            "ticks": "",
            "zerolinecolor": "white"
           }
          },
          "shapedefaults": {
           "line": {
            "color": "#2a3f5f"
           }
          },
          "ternary": {
           "aaxis": {
            "gridcolor": "white",
            "linecolor": "white",
            "ticks": ""
           },
           "baxis": {
            "gridcolor": "white",
            "linecolor": "white",
            "ticks": ""
           },
           "bgcolor": "#E5ECF6",
           "caxis": {
            "gridcolor": "white",
            "linecolor": "white",
            "ticks": ""
           }
          },
          "title": {
           "x": 0.05
          },
          "xaxis": {
           "automargin": true,
           "gridcolor": "white",
           "linecolor": "white",
           "ticks": "",
           "title": {
            "standoff": 15
           },
           "zerolinecolor": "white",
           "zerolinewidth": 2
          },
          "yaxis": {
           "automargin": true,
           "gridcolor": "white",
           "linecolor": "white",
           "ticks": "",
           "title": {
            "standoff": 15
           },
           "zerolinecolor": "white",
           "zerolinewidth": 2
          }
         }
        },
        "title": {
         "text": "Interactive Scatter Plot of N_Frequency_hubs vs. N_Frequency_hubs_article"
        },
        "xaxis": {
         "anchor": "y",
         "domain": [
          0,
          1
         ],
         "title": {
          "text": "N_Frequency_hubs"
         },
         "type": "log"
        },
        "yaxis": {
         "anchor": "x",
         "domain": [
          0,
          1
         ],
         "title": {
          "text": "N_Frequency_hubs_article"
         },
         "type": "log"
        }
       }
      }
     },
     "metadata": {},
     "output_type": "display_data"
    }
   ],
   "source": [
    "import plotly.express as px\n",
    "\n",
    "fig = px.scatter(merged_df, \n",
    "                 x='N_Frequency_hubs', \n",
    "                 y='N_Frequency_hubs_article', \n",
    "                 hover_data=['Page'], \n",
    "                 log_x=True, log_y=True, \n",
    "                 title='Interactive Scatter Plot of N_Frequency_hubs vs. N_Frequency_hubs_article')\n",
    "\n",
    "# Show the plot\n",
    "fig.show()\n",
    "\n"
   ]
  },
  {
   "cell_type": "code",
   "execution_count": null,
   "metadata": {},
   "outputs": [],
   "source": []
  },
  {
   "cell_type": "code",
   "execution_count": null,
   "metadata": {},
   "outputs": [],
   "source": []
  },
  {
   "cell_type": "code",
   "execution_count": null,
   "metadata": {},
   "outputs": [],
   "source": []
  }
 ],
 "metadata": {
  "interpreter": {
   "hash": "80cb37bc2d42b2b9c870b925efa172e827005716ae1398da0cba93cb169c5b64"
  },
  "kernelspec": {
   "display_name": "Python 3.9.18 64-bit ('ada': conda)",
   "name": "python3"
  },
  "language_info": {
   "codemirror_mode": {
    "name": "ipython",
    "version": 3
   },
   "file_extension": ".py",
   "mimetype": "text/x-python",
   "name": "python",
   "nbconvert_exporter": "python",
   "pygments_lexer": "ipython3",
   "version": "3.9.18"
  },
  "orig_nbformat": 4
 },
 "nbformat": 4,
 "nbformat_minor": 2
}
