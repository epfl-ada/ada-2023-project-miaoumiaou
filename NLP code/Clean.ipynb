{
 "cells": [
  {
   "cell_type": "code",
   "execution_count": 1,
   "metadata": {},
   "outputs": [],
   "source": [
    "import matplotlib.pyplot as plt\n",
    "import seaborn as sns\n",
    "\n",
    "#NLP libraries\n",
    "import nltk\n",
    "from gensim.models import Doc2Vec\n",
    "import gensim\n",
    "from gensim.models.doc2vec import TaggedDocument\n",
    "import urllib\n",
    "\n",
    "#Machine learning libraries\n",
    "from sklearn import utils\n",
    "from sklearn.model_selection import train_test_split\n",
    "from sklearn.naive_bayes import GaussianNB\n",
    "from sklearn.ensemble import RandomForestClassifier\n",
    "from sklearn.svm import SVC\n",
    "from sklearn.model_selection import GridSearchCV\n",
    "from sklearn.utils import shuffle\n",
    "\n",
    "#Helper libraries\n",
    "import multiprocessing\n",
    "import numpy as np\n",
    "import pandas as pd\n",
    "import math\n",
    "from bs4 import BeautifulSoup\n",
    "import re\n",
    "import os\n"
   ]
  },
  {
   "cell_type": "code",
   "execution_count": 2,
   "metadata": {},
   "outputs": [],
   "source": [
    "#Training data\n",
    "path=\"..\"\n",
    "train_data_0=pd.read_csv(path+\"/scraped_data/3000_rationalwiki_training_articles.csv\")\n",
    "train_data_0[\"text_content\"]=train_data_0[\"text_content\"].replace({r\"\\r\\n\" : \" \", \"\\n\": \" \"},regex=True)\n",
    "train_data_0[\"bias\"]=0\n",
    "\n",
    "train_data_2=pd.read_csv(path+\"/scraped_data/3000_infogalactic_training_articles.csv\")\n",
    "train_data_2[\"text_content\"]=train_data_2[\"text_content\"].replace({r\"\\r\\n\" : \" \", \"\\n\": \" \"},regex=True)\n",
    "train_data_2[\"bias\"]=1\n",
    "\n",
    "train_data=pd.concat([train_data_0,train_data_2], ignore_index=True)\n",
    "\n",
    "\n",
    "\n",
    "#Pred data\n",
    "text_file_dir=path+\"/data/wikispeedia_articles_plaintext/plaintext_articles/\"\n",
    "file_data=[]\n",
    "\n",
    "for filename in os.listdir(text_file_dir):\n",
    "    with open(os.path.join(text_file_dir, filename), \"r\") as file:\n",
    "        content = file.read()\n",
    "\n",
    "        # Split the content into lines to remove the header\n",
    "    lines = content.split('\\n')\n",
    "\n",
    "    #Removing the header (line 0)\n",
    "    if lines:\n",
    "        lines.pop(0)\n",
    "\n",
    "    # Making it an array and removing all \\n\n",
    "    content = '\\n'.join(lines)\n",
    "    content = content.replace(\"\\n\", \" \")\n",
    "\n",
    "    filename_fin=filename[:-4]\n",
    "    new_file_content= {\"text_content\": content, \"title\": urllib.parse.unquote(filename_fin , encoding = 'utf-8')}\n",
    "\n",
    "    file_data.append(new_file_content)\n",
    "\n",
    "pred_data = pd.DataFrame(file_data)\n"
   ]
  },
  {
   "cell_type": "code",
   "execution_count": 6,
   "metadata": {},
   "outputs": [],
   "source": [
    "def clean(text):  #Removing unecessary punctuation and all lower case.\n",
    "    text = re.sub(r'\\|\\|\\|', r' ', text)\n",
    "    text = text.replace('„','')\n",
    "    text = text.replace('“','')\n",
    "    text = text.replace('\"','')\n",
    "    text = text.replace('\\'','')\n",
    "    text = text.replace('-','')\n",
    "\n",
    "    for i in range(692): #removing annotations\n",
    "        text= text.replace(f\"[{i}]\",\"\")\n",
    "        text= text.replace(f\"[note {i}]\", \"\")\n",
    "\n",
    "    text = text.lower()\n",
    "    return text"
   ]
  },
  {
   "cell_type": "code",
   "execution_count": 7,
   "metadata": {},
   "outputs": [],
   "source": [
    "train_data['text_content'] = train_data['text_content'].apply(clean)\n",
    "pred_data['text_content'] = pred_data['text_content'].apply(clean)"
   ]
  },
  {
   "cell_type": "code",
   "execution_count": 8,
   "metadata": {},
   "outputs": [],
   "source": [
    "train_data.to_csv(\"./cleaned_train.csv\", index=False)\n",
    "pred_data.to_csv(\"./cleaned_pred.csv\", index=False)"
   ]
  },
  {
   "cell_type": "code",
   "execution_count": 9,
   "metadata": {},
   "outputs": [
    {
     "data": {
      "text/plain": [
       "'electroconvulsive therapy electroconvulsive therapy  ( ect ), also known by the nowdisfavored terms  electroshock therapy  or  shock treatment , is one of the most controversial aspects of 20 th  and 21 st  century  psychiatry . the idea that strapping a distressed patient to a bed and artificially inducing seizures via shocks to the brain can have a worthwhile, safe, and therapeutic effect for mood is as ridiculous as it sounds. ect has had a rollercoaster ride in reputation: once viewed as a  miracle  cure, it became (along with the equally maligned practice of  lobotomy ) a symbol of the evils and undeniable ethical failures of psychiatry in the 1960s to today. ect has been applied in clinical practice for over 70 years,     and today is mainly used on severe and vulnerable depressives, such as those who did not respond to drug interventions and could not or would not escape psychiatry altogether. ect is performed involuntarily on many such patients, including today,     against united nations advice. a neuropsychopharmacology journal study found that ect produces slow reaction time as well as severe and persistent retrograde amnesia.     a separate study concludes that up to half of ect patients report persistent memory loss.     a metastudy of 91 studies found no evidence that ect performs better than  placebo .   according to the us fda, the longterm safety and effectiveness of ect treatment has not been demonstrated.   contents history victor  frankenstein  stands in his lab, waiting for a lightning bolt to surge through his experimental apparatus and spark his hideous collection of dismembered corpsepieces back into life… it is sometimes claimed that the idea behind ect comes from a doctor visiting a slaughterhouse, seeing a pig being electrically stunned before death, and noticing its surprising appearance of calm.     actually, the idea behind ect is very old, and goes back to early observations of epilepsy patients, who often appeared calm and peaceful after a seizure. although the mechanisms of mental illness or mental function were largely uncomprehended, chemicallyinduced seizures were sometimes used for therapeutic purposes as far back as the 16 th  century, and were a common part of the therapeutic arsenal from the 18 th  century.     admittedly, this was not a terribly effective therapeutic arsenal, with 18 th  and 19 th  century fashions ranging from fresh air, sunshine, and exercise (  moral treatment     ) to  corporal punishment ,  bloodletting , bizarre devices involving spinning chairs, and use of restraints. almost as soon as electricity began to be studied scientifically, people wondered about the effects it would have on the human body and on animals. some of the earliest research took place in alessandro voltas experiments with frogs. this led to wide use of electrical shock therapy by the 19 th  century for applications including weight loss, toothache, and neuralgia.         this early use was generally quackery, as sciencebased medicine was just beginning to catch on. the modern application of induced seizures in psychiatry goes back to the 1930s.  hungarian  psychiatrist   ladislas j. meduna      experimented with chemicallyinduced seizures as a treatment for  schizophrenia , using camphor and metrazol (cardiazol).   ugo cerletti      and lucio bini in  italy  began to experiment with electric shocks in the late 1930s. at the time there were few other options for treating serious mental illness. by the mid1940s, ect was widespread in western europe and north america. past criticism starting in the late 1950s hostility began to grow in some sectors of society towards psychiatry, broadly labeled as the  antipsychiatry  movement. psychiatry was seen as an instrument to impose conformity on the population and turn creative individuals into automatons. ken keseys novel  one flew over the cuckoos nest  and its 1975 film adaptation cemented ects reputation in the popular mind as a brutal implement of social control akin to torture. psychiatrist alan stone suggested in the 1960s that the books portrayal of institutional malpractice was not far from the truth,     describing his experience as an army doctor: the colonel in charge of the psychiatric unit prescribed a course of 20 to 25 unmodified ect’s for virtually every soldier requiring admission to the inpatient unit.     ect is still portrayed to this day in media as a dire terror, such as in the tv drama  homeland .   ect, particularly in its earlier years, was sometimes done with little care and minimal pain relief or anaesthesia. it can potentially have serious side effects. these include retrograde amnesia (although this was often seen as a positive side effect if the patient could not remember the traumatic treatment). patients are often confused and disoriented after therapy, and can also experience anterograde amnesia (memory loss for a short time after treatment). there is also a serious risk of physical trauma, including broken bones, from convulsions if the patient is not sedated. there are also risks of hypoxia or anoxia causing brain damage, particularly if the patient is heavily sedated and not monitored properly. thus, although ect worked on some patients, the negatives were significant. a particular issue was that of  informed consent . ect was sometimes forcibly administered, as stone described, and even patients who opted for the treatment were not made aware of the risks.     it is still involuntarily administered today. while psychiatry makes mistakes and many patients rights are still not respected, the antipsychiatry critique omits the fact that without a harmful placebo, many people would be unable to lead any kind of normal life, or would be dead. [  citation\\xa0needed  ]  in the 1940s, there were few other effective options for treatment for serious mental illness. apart from ect, other traumatic or potentially dangerous treatments were also used in the 1950s and 1960s, such as the insulin subcoma therapy, which was administered to   john nash      (as depicted in the film  a beautiful mind ).     the decline in popularity of ect coincided with the development and introduction of many psychiatric medications. efficacy and safety today, ect is broadly accepted in psychiatry as a treatment for severe depression. it is not routinely used for schizophrenia or mild or moderate depression.     the american psychiatric association says, ect is an effective antidepressant in all subtypes of major depressive disorder.     perrin calls it the most potent treatment in severe depression.     charles h kellner says, ect is the only somatic treatment from the early 20 th  century that has survived. it has done so because of its unparalleled efficacy and safety. ect is the most effective antidepressant treatment we have; response rates are typically in the 60% to 90% range.     a 2008 study found it highly effective in severely treatmentresistant patients with major depressive disorder.     in severe depression it has been shown to be superior to  placebo  ect, where the patient is anaesthetised and otherwise treated as if they would be getting ect, but does not receive a shock.   the exact mechanism of action is still not fully understood,     but the same is true of many,  many  accepted medical treatments, including many widelyused drugs. research shows that ect affects blood flow in the brain and brain chemistry, and may promote the growth of new neurons and neuron pathways. it is hypothesized that the therapeutic effect is not a direct result of the electric shocks, but rather of the resulting seizures.   headaches, amnesia, memory loss, and confusion are common effects.     issues of informed consent have improved greatly; kelner says because ect is so closely scrutinized, more attention is paid to the process of informed consent with ect than for most other medical procedures. patients are given detailed information about the medical and cognitive risks of ect; when balanced against the risks of remaining seriously depressed, many patients choose to have the treatment.   other side effects may include tooth damage and other damage to the mouth. longerterm memory impairment has been reported, although this may also be caused by the depressive illness itself.   adverse cognitive effects due to ect treatment were found as late as 6 months after acute ect treatment. such effects could last longer, however the relevant study did not track these symptoms after 6 months.   clinical use today throughout its history there have been improvements in ect, to make it more effective and reduce side effects. these include changes to reduce the electrical current received by the patient, by moving from sine wave sources to brief pulses, and precautions to protect the patient from physical convulsions. both bilateral and unilateral ect may be used; the former passes a current across the entire brain while the latter is administered to only one brain hemisphere, which can reduce side effects but also may be less effective.   in modern practice, general anaesthesia and muscle relaxants are administered before therapy. the patient is unconscious for the procedure, which lasts around 30 minutes.     it commonly takes 4 or 5 treatments over 23 weeks before improvement; up to 12 treatments may be given at 2 a week.     patient lucy tallon described the modern experience as quite unlike the media depictions of patients strapped down and electrocuted against their will: you go in, have your blood pressure taken, sign a form, lie down, go to sleep, wake up with a slight headache and go home. and often, you feel instantly better.   ect is used either in situations where other therapies have failed, or where very rapid improvement is important. in the  uk  it is used primarily for severe depression after the failure of medication and talking therapies; also as a potentially rapid solution for postnatal depression where it is important to allow the mother to bond with her baby as soon as possible; and more rarely for extreme manic episodes or catatonia.   modern opposition as well as a general public suspicion based on old ideas of what treatment involves (brainfrying), there is more some fundamental opposition to ect. this is mainly from modern antipsychiatry campaigners who oppose all psychiatry. this includes the british group speak out against psychiatry.     soap opposes virtually all psychiatric treatment other than talk therapy, believing (incorrectly) that most schizophrenia is caused by  child sexual abuse , psychiatric medications have no effect even on severe depression,  adhd  has no scientific basis, and ect is just about useless.   scientology , and its front organisation the citizens commission on human rights,     condemns all psychiatric treatment from drugs to ect (or electro–convulsive therapy that caused broken teeth and bones, not to mention loss of memory and regression into a vegetable state) for negating the spirit itself — claiming that  all is physical  and only so much matter and chemicals.     despite the large body of evidence supporting ect, scientology in the  us  has called for arduous and expensive retesting of ect equipment.   notable recipients a number of famous people have received ect, with variable results.     this is no more than  anecdotal evidence . references navigation menu personal tools namespaces variants views more search navigation support community social media tools '"
      ]
     },
     "execution_count": 9,
     "metadata": {},
     "output_type": "execute_result"
    }
   ],
   "source": [
    "train_data[\"text_content\"][0]"
   ]
  }
 ],
 "metadata": {
  "kernelspec": {
   "display_name": "envADA",
   "language": "python",
   "name": "python3"
  },
  "language_info": {
   "codemirror_mode": {
    "name": "ipython",
    "version": 3
   },
   "file_extension": ".py",
   "mimetype": "text/x-python",
   "name": "python",
   "nbconvert_exporter": "python",
   "pygments_lexer": "ipython3",
   "version": "3.9.18"
  }
 },
 "nbformat": 4,
 "nbformat_minor": 2
}
