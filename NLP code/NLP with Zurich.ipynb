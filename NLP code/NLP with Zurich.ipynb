{
 "cells": [
  {
   "cell_type": "markdown",
   "metadata": {},
   "source": [
    "# Natural Language processing (NLP)"
   ]
  },
  {
   "cell_type": "markdown",
   "metadata": {},
   "source": [
    "Political Bias Detection with our dataset defined with Rationnal wiki and Conservpedia"
   ]
  },
  {
   "cell_type": "markdown",
   "metadata": {},
   "source": [
    "\"Biased left\" = 0, \"Neutral\" = 1, \"Biased right\" = 2"
   ]
  },
  {
   "cell_type": "markdown",
   "metadata": {},
   "source": [
    "The training set only contain left and right biased text, a threshold will be applied on the test set to define Neutral text"
   ]
  },
  {
   "cell_type": "markdown",
   "metadata": {},
   "source": [
    "## Importing Libraries"
   ]
  },
  {
   "cell_type": "code",
   "execution_count": 1,
   "metadata": {},
   "outputs": [
    {
     "name": "stderr",
     "output_type": "stream",
     "text": [
      "[nltk_data] Downloading package punkt to ./data_model/...\n",
      "[nltk_data]   Package punkt is already up-to-date!\n",
      "[nltk_data] Downloading package stopwords to ./data_model/...\n",
      "[nltk_data]   Package stopwords is already up-to-date!\n"
     ]
    }
   ],
   "source": [
    "import matplotlib.pyplot as plt\n",
    "import seaborn as sns\n",
    "\n",
    "#NLP libraries\n",
    "import nltk\n",
    "from gensim.models import Doc2Vec\n",
    "import gensim\n",
    "from gensim.models.doc2vec import TaggedDocument\n",
    "import urllib\n",
    "\n",
    "#Machine learning libraries\n",
    "from sklearn import utils\n",
    "from sklearn.model_selection import train_test_split\n",
    "from sklearn.naive_bayes import GaussianNB\n",
    "from sklearn.ensemble import RandomForestClassifier\n",
    "from sklearn.svm import SVC\n",
    "from sklearn.model_selection import GridSearchCV\n",
    "\n",
    "#Helper libraries\n",
    "import multiprocessing\n",
    "import numpy as np\n",
    "import pandas as pd\n",
    "import math\n",
    "from bs4 import BeautifulSoup\n",
    "import re\n",
    "import os\n",
    "\n",
    "\n",
    "nltk.download('punkt', download_dir=\"./data_model/\")\n",
    "nltk.download(\"stopwords\", download_dir=\"./data_model/\")\n",
    "nltk.data.path.append(os.path.abspath(\"./data_model/\"))"
   ]
  },
  {
   "cell_type": "markdown",
   "metadata": {},
   "source": [
    "## Importing All the data : \n",
    "- Training data : Rationnal wiki (biased left) and Conservpedia (biased right)\n",
    "- Test data : Wikispeedia pages that we want to predict the bias\n",
    "- Verification data : Dataset of university of Zurich that treat bias with text"
   ]
  },
  {
   "cell_type": "code",
   "execution_count": 21,
   "metadata": {},
   "outputs": [],
   "source": [
    "#Training data\n",
    "train_data=pd.read_csv(\"./data_model/labeled_dataset_english.csv\", header=0, usecols=[\"article\", \"type\"], dtype=str)\n",
    "\n",
    "train_data[\"type\"]=train_data[\"type\"].replace(['left','center','right'],[0,1,2])\n",
    "\n",
    "train_data=train_data.rename(columns={\"type\": \"bias\", \"article\": \"text_content\"})\n",
    "\n",
    "train_data[\"text_content\"]=train_data[\"text_content\"].replace({r\"\\r\\n\" : \" \", \"\\n\": \" \"},regex=True)\n",
    "\n",
    "\n",
    "train_data = train_data.dropna()\n",
    "\n",
    "\n",
    "\n",
    "#Test data\n",
    "text_file_dir=\"./data/wikispeedia_articles_plaintext/plaintext_articles/\"\n",
    "file_data=[]\n",
    "\n",
    "for filename in os.listdir(text_file_dir):\n",
    "    with open(os.path.join(text_file_dir, filename), \"r\") as file:\n",
    "        content = file.read()\n",
    "    \n",
    "        # Split the content into lines to remove the header\n",
    "    lines = content.split('\\n')\n",
    "\n",
    "    #Removing the header (line 0)\n",
    "    if lines:\n",
    "        lines.pop(0)\n",
    "\n",
    "    # Making it an array and removing all \\n\n",
    "    content = '\\n'.join(lines)\n",
    "    content = content.replace(\"\\n\", \" \")\n",
    "\n",
    "    filename_fin=filename[:-4]\n",
    "    new_file_content= {\"text_content\": content, \"title\": urllib.parse.unquote(filename_fin , encoding = 'utf-8')}\n",
    "    \n",
    "    file_data.append(new_file_content)\n",
    "\n",
    "test_data = pd.DataFrame(file_data)\n"
   ]
  },
  {
   "cell_type": "markdown",
   "metadata": {},
   "source": [
    "### Verification on the data"
   ]
  },
  {
   "cell_type": "code",
   "execution_count": 17,
   "metadata": {},
   "outputs": [
    {
     "data": {
      "image/png": "[encoded data removed]",
      "text/plain": [
       "<Figure size 640x480 with 1 Axes>"
      ]
     },
     "metadata": {},
     "output_type": "display_data"
    }
   ],
   "source": [
    "bias_vals = train_data['bias'].value_counts()\n",
    "plt.figure()\n",
    "sns.barplot(x=bias_vals.index, y=bias_vals.values)\n",
    "plt.show()"
   ]
  },
  {
   "cell_type": "markdown",
   "metadata": {},
   "source": [
    "## Preprocessing All Dataset"
   ]
  },
  {
   "cell_type": "markdown",
   "metadata": {},
   "source": [
    "### Cleaning and removing non necessary words"
   ]
  },
  {
   "cell_type": "markdown",
   "metadata": {},
   "source": [
    "english _stop words\n"
   ]
  },
  {
   "cell_type": "code",
   "execution_count": 18,
   "metadata": {},
   "outputs": [],
   "source": [
    "_stopwords = nltk.corpus.stopwords.words(\"english\")"
   ]
  },
  {
   "cell_type": "markdown",
   "metadata": {},
   "source": [
    "Cleaning dataset:\n"
   ]
  },
  {
   "cell_type": "code",
   "execution_count": 19,
   "metadata": {},
   "outputs": [
    {
     "name": "stdout",
     "output_type": "stream",
     "text": [
      "<class 'str'>\n"
     ]
    }
   ],
   "source": [
    "print(type(train_data[\"text_content\"][0]))"
   ]
  },
  {
   "cell_type": "code",
   "execution_count": 22,
   "metadata": {},
   "outputs": [],
   "source": [
    "def clean(text):  #Removing unecessary punctuation and all lower case.\n",
    "    text = re.sub(r'\\|\\|\\|', r' ', text) \n",
    "    text = text.replace('„','')\n",
    "    text = text.replace('“','')\n",
    "    text = text.replace('\"','')\n",
    "    text = text.replace('\\'','')\n",
    "    text = text.replace('-','')\n",
    "\n",
    "    for i in range(330):\n",
    "        text= text.replace(f\"[{i}]\",\"\")\n",
    "\n",
    "    text = text.lower()\n",
    "    return text\n",
    "\n",
    "def remove_stopwords(content): #Removing stopwords that are not needed for NLP\n",
    "    for word in _stopwords:\n",
    "        content = content.replace(' '+word+' ',' ')\n",
    "    return content\n",
    "\n",
    "#train_data\n",
    "train_data['text_content'] = train_data['text_content'].apply(clean)\n",
    "train_data['text_content'] = train_data['text_content'].apply(remove_stopwords)\n",
    "\n",
    "#test_data\n",
    "test_data['text_content'] = test_data['text_content'].apply(clean)\n",
    "test_data['text_content'] = test_data['text_content'].apply(remove_stopwords)"
   ]
  },
  {
   "cell_type": "markdown",
   "metadata": {},
   "source": [
    "### Creating balanced train set (if already balanced : no valid_train dataset)"
   ]
  },
  {
   "cell_type": "code",
   "execution_count": 26,
   "metadata": {},
   "outputs": [
    {
     "name": "stdout",
     "output_type": "stream",
     "text": [
      "bias\n",
      "1    200\n",
      "0    200\n",
      "2    200\n",
      "Name: count, dtype: int64\n",
      "bias\n",
      "0    491\n",
      "2    491\n",
      "1     18\n",
      "Name: count, dtype: int64\n"
     ]
    }
   ],
   "source": [
    "np.random.seed=10\n",
    "length = [len(train_data[train_data[\"bias\"] == i]) for i in [0,1,2]] #Define if a class is underpresented\n",
    "a=np.min(length)\n",
    "a=200\n",
    "# Select rows for each class and combine them\n",
    "indices = []\n",
    "indices_test=[]\n",
    "\n",
    "for bias_class in [0,1,2]:\n",
    "    indices.extend(train_data[train_data[\"bias\"] == bias_class].index[:a])\n",
    "    indices_test.extend(train_data[train_data[\"bias\"] == bias_class].index[a:])\n",
    "# Create the training dataset\n",
    "train = train_data.loc[indices[:]]\n",
    "train = train.iloc[np.random.permutation(len(train))]\n",
    "print(train[\"bias\"].value_counts())\n",
    "test_train= train_data.loc[indices_test[:]]\n",
    "test_train = test_train.iloc[np.random.permutation(len(test_train))]\n",
    "print(test_train[\"bias\"].value_counts())\n"
   ]
  },
  {
   "cell_type": "code",
   "execution_count": 27,
   "metadata": {},
   "outputs": [
    {
     "data": {
      "image/png": "[encoded data removed]",
      "text/plain": [
       "<Figure size 640x480 with 1 Axes>"
      ]
     },
     "metadata": {},
     "output_type": "display_data"
    }
   ],
   "source": [
    "bias_vals = train['bias'].value_counts()\n",
    "plt.figure()\n",
    "sns.barplot(x=bias_vals.index, y=bias_vals.values)\n",
    "plt.show()"
   ]
  },
  {
   "cell_type": "markdown",
   "metadata": {},
   "source": [
    "### Tokenize the text content of all dataset"
   ]
  },
  {
   "cell_type": "code",
   "execution_count": 28,
   "metadata": {},
   "outputs": [],
   "source": [
    "def tokenize_text(text):\n",
    "    tokens = []\n",
    "    for sent in nltk.sent_tokenize(text):\n",
    "        for word in nltk.word_tokenize(sent):\n",
    "            if len(word) < 3:\n",
    "                continue\n",
    "            tokens.append(word.lower())\n",
    "    return tokens\n",
    "\n",
    "\n",
    "#Train dataset\n",
    "train_tagged = train.apply(\n",
    "   lambda r: TaggedDocument(words=tokenize_text(r['text_content']), tags=  [r.bias]), axis=1)\n",
    "\n",
    "valid_train_tagged = test_train.apply(\n",
    "   lambda r: TaggedDocument(words=tokenize_text(r['text_content']), tags=  [r.bias]), axis=1)\n",
    "\n",
    "#Pred dataset\n",
    "test_data_tagged = test_data.apply(\n",
    "   lambda r: TaggedDocument(words=tokenize_text(r['text_content']), tags=[]), axis=1)"
   ]
  },
  {
   "cell_type": "markdown",
   "metadata": {},
   "source": [
    "## Vectorizing each document from the data\n",
    "(May take some times: up to 15 mins, we use the Distributed bag of word D-BOW)"
   ]
  },
  {
   "cell_type": "markdown",
   "metadata": {},
   "source": [
    "Elements in Doc2Vec :\n",
    "\n",
    "vector_size (int): Dimensionality of the feature vectors. This is the size of the vectors that represent each document.\n",
    "\n",
    "window (int): Maximum distance between the current and predicted word within a sentence. It influences the context window for word prediction.\n",
    "\n",
    "min_count (int): Ignores all words with a total frequency lower than this.\n",
    "\n",
    "workers (int): Number of CPU cores to use when training the model. Parallelization speeds up training.\n",
    "\n",
    "epochs (int): Number of iterations (epochs) over the corpus during training. This parameter controls how many times the model iterates over the entire dataset.\n",
    "\n",
    "dm (int, {1, 0}): Defines the training algorithm. If dm=1, the PV-DM (Distributed Memory) model is used. If dm=0, the PV-DBOW (Distributed Bag of Words) model is used.\n",
    "\n",
    "dbow_words (int, {1, 0}): If set to 1, trains word vectors as well as document vectors. This is only effective when using the PV-DBOW model.\n",
    "\n",
    "dm_concat (int, {1, 0}): If set to 1, concatenates paragraph vectors rather than averaging them in the PV-DM model.\n",
    "\n",
    "dm_tag_count (int): Expected constant number of document tags per document during training.\n",
    "\n",
    "hs (int, {1, 0}): If set to 1, hierarchical softmax will be used for model training.\n",
    "\n",
    "negative (int): If > 0, negative sampling will be used, the int for negative specifies how many \"noise words\" should be drawn (usually between 5-20)."
   ]
  },
  {
   "cell_type": "markdown",
   "metadata": {},
   "source": [
    "### Initialize model and training it on the train dataset"
   ]
  },
  {
   "cell_type": "code",
   "execution_count": 34,
   "metadata": {},
   "outputs": [],
   "source": [
    "cores = multiprocessing.cpu_count()\n",
    "model = Doc2Vec(dm=0, vector_size=100, negative=5, hs=0, sample=0, min_count=0, workers=cores, epochs=25) # dm=0 --> PV-DBOW\n",
    "\n",
    "model.build_vocab(train_tagged.values)  #The model builds his vocabulary on the training set\n",
    "model.train(utils.shuffle(train_tagged.values), #model train on a mixed trained values and 50 steps\n",
    "    total_examples=len(train_tagged.values),epochs=model.epochs)  \n"
   ]
  },
  {
   "cell_type": "markdown",
   "metadata": {},
   "source": [
    "### Using trained model to learn to return document vectors and labels"
   ]
  },
  {
   "cell_type": "code",
   "execution_count": 35,
   "metadata": {},
   "outputs": [],
   "source": [
    "def vec_for_learning(model, tagged_docs):\n",
    "    sents = tagged_docs.values\n",
    "    classes, features = zip(*[(doc.tags[0],\n",
    "      model.infer_vector(doc_words=doc.words, epochs=model.epochs)) for doc in sents]) #steps=epochs increase steps for better precision but more running time\n",
    "    return features, classes\n",
    "\n",
    "\n",
    "train_x, train_y= vec_for_learning(model, train_tagged) #Train data\n",
    "test_train_x, test_train_y= vec_for_learning(model, valid_train_tagged) #test train data"
   ]
  },
  {
   "cell_type": "markdown",
   "metadata": {},
   "source": [
    "## Classification methods : We use Support Vector Machine for Classification (SVM-C)"
   ]
  },
  {
   "cell_type": "code",
   "execution_count": 36,
   "metadata": {},
   "outputs": [],
   "source": [
    "#Helper function for calculating accuracy on the test set.\n",
    "def acc(true, pred):\n",
    "  acc = 0\n",
    "  for x,y in zip(true,pred):\n",
    "    if(x == y): acc += 1\n",
    "  return acc/len(pred)"
   ]
  },
  {
   "cell_type": "markdown",
   "metadata": {},
   "source": [
    "### Creating the classifier model and cross validation"
   ]
  },
  {
   "cell_type": "code",
   "execution_count": 37,
   "metadata": {},
   "outputs": [
    {
     "name": "stdout",
     "output_type": "stream",
     "text": [
      "Accuracy of the model trained = 99.83 %\n",
      "Accuracy of the model with test train data = 63.20 %\n"
     ]
    }
   ],
   "source": [
    "svc = SVC()\n",
    "\n",
    "param_grid = {\n",
    "    'C': [0.1, 1, 10, 100],            # Regularization parameter\n",
    "    'kernel': ['linear', 'rbf', 'poly'],  # Kernel type\n",
    "    'degree': [2, 3, 4],               # Degree of the polynomial kernel (if kernel is 'poly')\n",
    "    'gamma': ['scale', 'auto', 0.1, 1],  # Kernel coefficient for 'rbf' and 'poly'\n",
    "    'coef0': [0.0, 1.0],   \n",
    "}\n",
    "\n",
    "grid_search=GridSearchCV(svc, param_grid, cv=5, scoring=\"accuracy\")\n",
    "\n",
    "grid_search.fit(train_x, train_y)\n",
    "best_param= grid_search.best_params_\n",
    "\n",
    "\n",
    "svc =SVC(**best_param, probability=True)\n",
    "\n",
    "svc.fit(train_x,train_y)\n",
    "\n",
    "print(\"Accuracy of the model trained = %0.2f %%\"%(acc(train_y,svc.predict(train_x))*100)) #Accuracy of model depending on the fitting\n",
    "print(\"Accuracy of the model with test train data = %0.2f %%\"%(acc(test_train_y,svc.predict(test_train_x))*100)) #Accuracy of the model on verifying data"
   ]
  },
  {
   "cell_type": "code",
   "execution_count": 38,
   "metadata": {},
   "outputs": [
    {
     "data": {
      "text/plain": [
       "{'C': 0.1, 'coef0': 0.0, 'degree': 2, 'gamma': 'scale', 'kernel': 'linear'}"
      ]
     },
     "execution_count": 38,
     "metadata": {},
     "output_type": "execute_result"
    }
   ],
   "source": [
    "best_param\n",
    "#{'C': 0.1, 'coef0': 1.0, 'degree': 3, 'gamma': 'auto', 'kernel': 'poly'}"
   ]
  },
  {
   "cell_type": "markdown",
   "metadata": {},
   "source": [
    "### Vectorizing the test data (using D-BOW model)"
   ]
  },
  {
   "cell_type": "code",
   "execution_count": 39,
   "metadata": {},
   "outputs": [],
   "source": [
    "def vectorizing_project_data(model, tagged_docs):\n",
    "    sents = tagged_docs.values\n",
    "    features = [model.infer_vector(doc.words, epochs=model.epochs) for doc in sents]\n",
    "    return features\n",
    "\n",
    "test_x = vectorizing_project_data(model, test_data_tagged)"
   ]
  },
  {
   "cell_type": "markdown",
   "metadata": {},
   "source": [
    "### Prediction of Classes on the Test Set"
   ]
  },
  {
   "cell_type": "code",
   "execution_count": 44,
   "metadata": {},
   "outputs": [
    {
     "data": {
      "text/plain": [
       "Bias\n",
       "2    2050\n",
       "0    1964\n",
       "1     590\n",
       "Name: count, dtype: int64"
      ]
     },
     "execution_count": 44,
     "metadata": {},
     "output_type": "execute_result"
    }
   ],
   "source": [
    "test_labels=svc.predict(test_x)\n",
    "\n",
    "test_data[\"Bias\"] = test_labels\n",
    "test_data[\"Bias\"].value_counts()"
   ]
  },
  {
   "cell_type": "code",
   "execution_count": 45,
   "metadata": {},
   "outputs": [
    {
     "data": {
      "image/png": "[encoded data removed]",
      "text/plain": [
       "<Figure size 640x480 with 1 Axes>"
      ]
     },
     "metadata": {},
     "output_type": "display_data"
    }
   ],
   "source": [
    "plt.figure()\n",
    "sns.barplot(x=test_data[\"Bias\"].value_counts().index, y=test_data[\"Bias\"].value_counts())\n",
    "plt.show()"
   ]
  },
  {
   "cell_type": "code",
   "execution_count": 46,
   "metadata": {},
   "outputs": [
    {
     "name": "stdout",
     "output_type": "stream",
     "text": [
      "0.9716666666666667\n",
      "0.546\n"
     ]
    }
   ],
   "source": [
    "from sklearn.naive_bayes import MultinomialNB, BernoulliNB\n",
    "from sklearn.feature_extraction.text import CountVectorizer\n",
    "\n",
    "\n",
    "model2=BernoulliNB()\n",
    "model2.fit(train_x, train_y)\n",
    "print(acc(train_y,model2.predict(train_x)))\n",
    "print(acc(test_train_y, model2.predict(test_train_x)))"
   ]
  },
  {
   "cell_type": "code",
   "execution_count": 49,
   "metadata": {},
   "outputs": [],
   "source": [
    "selected_columns=[\"title\",\"Bias\"]\n",
    "test_data[selected_columns].to_csv(\"political_bias.csv\")"
   ]
  }
 ],
 "metadata": {
  "kernelspec": {
   "display_name": "envADA",
   "language": "python",
   "name": "python3"
  },
  "language_info": {
   "codemirror_mode": {
    "name": "ipython",
    "version": 3
   },
   "file_extension": ".py",
   "mimetype": "text/x-python",
   "name": "python",
   "nbconvert_exporter": "python",
   "pygments_lexer": "ipython3",
   "version": "3.9.18"
  }
 },
 "nbformat": 4,
 "nbformat_minor": 2
}
