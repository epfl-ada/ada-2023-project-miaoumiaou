{
 "cells": [
  {
   "cell_type": "markdown",
   "metadata": {},
   "source": [
    "# Natural Language processing (NLP)"
   ]
  },
  {
   "cell_type": "markdown",
   "metadata": {},
   "source": [
    "Political Bias Detection with our dataset defined with Rationnal wiki and Conservpedia"
   ]
  },
  {
   "cell_type": "markdown",
   "metadata": {},
   "source": [
    "\"Biased left\" = 0, \"Neutral\" = 1, \"Biased right\" = 2"
   ]
  },
  {
   "cell_type": "markdown",
   "metadata": {},
   "source": [
    "The training set only contain left and right biased text, a threshold will be applied on the test set to define Neutral text"
   ]
  },
  {
   "cell_type": "markdown",
   "metadata": {},
   "source": [
    "## Importing Libraries"
   ]
  },
  {
   "cell_type": "code",
   "execution_count": 150,
   "metadata": {},
   "outputs": [
    {
     "name": "stderr",
     "output_type": "stream",
     "text": [
      "[nltk_data] Downloading package punkt to ./data_model/...\n",
      "[nltk_data]   Package punkt is already up-to-date!\n",
      "[nltk_data] Downloading package stopwords to ./data_model/...\n",
      "[nltk_data]   Package stopwords is already up-to-date!\n"
     ]
    }
   ],
   "source": [
    "import matplotlib.pyplot as plt\n",
    "import seaborn as sns\n",
    "\n",
    "#NLP libraries\n",
    "import nltk\n",
    "from gensim.models import Doc2Vec\n",
    "import gensim\n",
    "from gensim.models.doc2vec import TaggedDocument\n",
    "import urllib\n",
    "\n",
    "#Machine learning libraries\n",
    "from sklearn import utils\n",
    "from sklearn.model_selection import train_test_split\n",
    "from sklearn.naive_bayes import GaussianNB\n",
    "from sklearn.ensemble import RandomForestClassifier\n",
    "from sklearn.svm import SVC\n",
    "from sklearn.model_selection import GridSearchCV\n",
    "\n",
    "#Helper libraries\n",
    "import multiprocessing\n",
    "import numpy as np\n",
    "import pandas as pd\n",
    "import math\n",
    "from bs4 import BeautifulSoup\n",
    "import re\n",
    "import os\n",
    "\n",
    "\n",
    "nltk.download('punkt', download_dir=\"./data_model/\")\n",
    "nltk.download(\"stopwords\", download_dir=\"./data_model/\")\n",
    "nltk.data.path.append(os.path.abspath(\"./data_model/\"))"
   ]
  },
  {
   "cell_type": "markdown",
   "metadata": {},
   "source": [
    "## Importing All the data : \n",
    "- Training data : Rationnal wiki (biased left) and Conservpedia (biased right)\n",
    "- Test data : Wikispeedia pages that we want to predict the bias\n",
    "- Verification data : Dataset of university of Zurich that treat bias with text"
   ]
  },
  {
   "cell_type": "code",
   "execution_count": 131,
   "metadata": {},
   "outputs": [],
   "source": [
    "#Training data\n",
    "train_data_0=pd.read_csv(\"./scraped_data/rationalwiki_articles.csv\")\n",
    "train_data_0[\"text_content\"]=train_data_0[\"text_content\"].replace({r\"\\r\\n\" : \" \", \"\\n\": \" \"},regex=True)\n",
    "train_data_0[\"bias\"]=0\n",
    "\n",
    "train_data_2=pd.read_csv(\"./scraped_data/infogalactic_articles.csv\")\n",
    "train_data_2[\"text_content\"]=train_data_2[\"text_content\"].replace({r\"\\r\\n\" : \" \", \"\\n\": \" \"},regex=True)\n",
    "train_data_2[\"bias\"]=2\n",
    "\n",
    "train_data=pd.concat([train_data_0,train_data_2], ignore_index=True)\n",
    "\n",
    "\n",
    "\n",
    "#Test data\n",
    "text_file_dir=\"./data/wikispeedia_articles_plaintext/plaintext_articles/\"\n",
    "file_data=[]\n",
    "\n",
    "for filename in os.listdir(text_file_dir):\n",
    "    with open(os.path.join(text_file_dir, filename), \"r\") as file:\n",
    "        content = file.read()\n",
    "    \n",
    "        # Split the content into lines to remove the header\n",
    "    lines = content.split('\\n')\n",
    "\n",
    "    #Removing the header (line 0)\n",
    "    if lines:\n",
    "        lines.pop(0)\n",
    "\n",
    "    # Making it an array and removing all \\n\n",
    "    content = '\\n'.join(lines)\n",
    "    content = content.replace(\"\\n\", \" \")\n",
    "\n",
    "    filename_fin=filename[:-4]\n",
    "    new_file_content= {\"text_content\": content, \"title\": urllib.parse.unquote(filename_fin , encoding = 'utf-8')}\n",
    "    \n",
    "    file_data.append(new_file_content)\n",
    "\n",
    "test_data = pd.DataFrame(file_data)\n",
    "\n",
    "#Verification Data\n",
    "verif_data= pd.read_csv(\"./data_model/labeled_dataset_english.csv\", header=0, usecols=[\"Label_bias\", \"article\", \"type\"])\n",
    "\n",
    "verif_data[\"type\"]=verif_data[\"type\"].replace(['left','center','right'],[0,1,2])\n",
    "\n",
    "verif_data=verif_data.rename(columns={\"type\": \"orientation\", \"article\": \"text_content\", \"Label_bias\": \"bias\"})\n",
    "\n",
    "verif_data = verif_data.dropna()\n",
    "\n",
    "\n",
    "\n",
    "#WHEN FINAL REMOVE THIS\n",
    "\n",
    "train_data=verif_data.copy().drop(columns=\"bias\").rename(columns={\"orientation\": \"bias\"})\n",
    "train_data=train_data[train_data[\"bias\"] !=1]"
   ]
  },
  {
   "cell_type": "markdown",
   "metadata": {},
   "source": [
    "### Verification on the data"
   ]
  },
  {
   "cell_type": "code",
   "execution_count": 132,
   "metadata": {},
   "outputs": [
    {
     "data": {
      "image/png": "[encoded data removed]",
      "text/plain": [
       "<Figure size 640x480 with 1 Axes>"
      ]
     },
     "metadata": {},
     "output_type": "display_data"
    }
   ],
   "source": [
    "bias_vals = train_data['bias'].value_counts()\n",
    "plt.figure()\n",
    "sns.barplot(x=bias_vals.index, y=bias_vals.values)\n",
    "plt.show()"
   ]
  },
  {
   "cell_type": "markdown",
   "metadata": {},
   "source": [
    "## Preprocessing All Dataset"
   ]
  },
  {
   "cell_type": "markdown",
   "metadata": {},
   "source": [
    "### Cleaning and removing non necessary words"
   ]
  },
  {
   "cell_type": "markdown",
   "metadata": {},
   "source": [
    "english _stop words\n"
   ]
  },
  {
   "cell_type": "code",
   "execution_count": 133,
   "metadata": {},
   "outputs": [],
   "source": [
    "_stopwords = nltk.corpus.stopwords.words(\"english\")"
   ]
  },
  {
   "cell_type": "markdown",
   "metadata": {},
   "source": [
    "Cleaning dataset:\n"
   ]
  },
  {
   "cell_type": "code",
   "execution_count": 134,
   "metadata": {},
   "outputs": [],
   "source": [
    "def clean(text):  #Removing unecessary punctuation and all lower case.\n",
    "    text = re.sub(r'\\|\\|\\|', r' ', text) \n",
    "    text = text.replace('„','')\n",
    "    text = text.replace('“','')\n",
    "    text = text.replace('\"','')\n",
    "    text = text.replace('\\'','')\n",
    "    text = text.replace('-','')\n",
    "\n",
    "    for i in range(330):\n",
    "        text= text.replace(f\"[{i}]\",\"\")\n",
    "\n",
    "    text = text.lower()\n",
    "    return text\n",
    "\n",
    "def remove_stopwords(content): #Removing stopwords that are not needed for NLP\n",
    "    for word in _stopwords:\n",
    "        content = content.replace(' '+word+' ',' ')\n",
    "    return content\n",
    "\n",
    "#train_data\n",
    "train_data['text_content'] = train_data['text_content'].apply(clean)\n",
    "train_data['text_content'] = train_data['text_content'].apply(remove_stopwords)\n",
    "\n",
    "#test_data\n",
    "test_data['text_content'] = test_data['text_content'].apply(clean)\n",
    "test_data['text_content'] = test_data['text_content'].apply(remove_stopwords)\n",
    "\n",
    "#verif_data\n",
    "verif_data['text_content'] = verif_data['text_content'].apply(clean)\n",
    "verif_data['text_content'] = verif_data['text_content'].apply(remove_stopwords)"
   ]
  },
  {
   "cell_type": "markdown",
   "metadata": {},
   "source": [
    "### Creating balanced train set (if already balanced : no valid_train dataset)"
   ]
  },
  {
   "cell_type": "code",
   "execution_count": 135,
   "metadata": {},
   "outputs": [
    {
     "data": {
      "text/plain": [
       "bias\n",
       "0    691\n",
       "2    691\n",
       "Name: count, dtype: int64"
      ]
     },
     "execution_count": 135,
     "metadata": {},
     "output_type": "execute_result"
    }
   ],
   "source": [
    "np.random.seed=10\n",
    "length = [len(train_data[train_data[\"bias\"] == i]) for i in [0,2]] #Define if a class is underpresented\n",
    "a=np.min(length)\n",
    "\n",
    "# Select rows for each class and combine them\n",
    "indices = []\n",
    "\n",
    "for bias_class in [0, 2]:\n",
    "    indices.extend(train_data[train_data[\"bias\"] == bias_class].index[:a])\n",
    "\n",
    "# Create the training dataset\n",
    "train = train_data.loc[indices[:]]\n",
    "train = train.iloc[np.random.permutation(len(train))]\n",
    "train[\"bias\"].value_counts()"
   ]
  },
  {
   "cell_type": "code",
   "execution_count": 136,
   "metadata": {},
   "outputs": [
    {
     "data": {
      "image/png": "[encoded data removed]",
      "text/plain": [
       "<Figure size 640x480 with 1 Axes>"
      ]
     },
     "metadata": {},
     "output_type": "display_data"
    }
   ],
   "source": [
    "bias_vals = train['bias'].value_counts()\n",
    "plt.figure()\n",
    "sns.barplot(x=bias_vals.index, y=bias_vals.values)\n",
    "plt.show()"
   ]
  },
  {
   "cell_type": "markdown",
   "metadata": {},
   "source": [
    "### creating the train data and validation train data"
   ]
  },
  {
   "cell_type": "code",
   "execution_count": 137,
   "metadata": {},
   "outputs": [],
   "source": [
    "split_index=int(len(train)*0.8)\n",
    "valid_train=train.iloc[split_index:]\n",
    "train=train.iloc[:split_index]\n"
   ]
  },
  {
   "cell_type": "code",
   "execution_count": 138,
   "metadata": {},
   "outputs": [
    {
     "data": {
      "text/plain": [
       "bias\n",
       "0    553\n",
       "2    552\n",
       "Name: count, dtype: int64"
      ]
     },
     "execution_count": 138,
     "metadata": {},
     "output_type": "execute_result"
    }
   ],
   "source": [
    "train[\"bias\"].value_counts()"
   ]
  },
  {
   "cell_type": "markdown",
   "metadata": {},
   "source": [
    "### Tokenize the text content of all dataset"
   ]
  },
  {
   "cell_type": "code",
   "execution_count": 139,
   "metadata": {},
   "outputs": [],
   "source": [
    "def tokenize_text(text):\n",
    "    tokens = []\n",
    "    for sent in nltk.sent_tokenize(text):\n",
    "        for word in nltk.word_tokenize(sent):\n",
    "            if len(word) < 3:\n",
    "                continue\n",
    "            tokens.append(word.lower())\n",
    "    return tokens\n",
    "\n",
    "\n",
    "#Train dataset\n",
    "train_tagged = train.apply(\n",
    "   lambda r: TaggedDocument(words=tokenize_text(r['text_content']), tags=  [r.bias]), axis=1)\n",
    "\n",
    "valid_train_tagged = valid_train.apply(\n",
    "   lambda r: TaggedDocument(words=tokenize_text(r['text_content']), tags=  [r.bias]), axis=1)\n",
    "\n",
    "#Pred dataset\n",
    "test_data_tagged = test_data.apply(\n",
    "   lambda r: TaggedDocument(words=tokenize_text(r['text_content']), tags=[]), axis=1)\n",
    "\n",
    "#Verification dataset\n",
    "verif_data_tagged = verif_data.apply(\n",
    "   lambda r: TaggedDocument(words=tokenize_text(r['text_content']), tags=[r.orientation]), axis=1)"
   ]
  },
  {
   "cell_type": "markdown",
   "metadata": {},
   "source": [
    "## Vectorizing each document from the data\n",
    "(May take some times: up to 15 mins, we use the Distributed bag of word D-BOW)"
   ]
  },
  {
   "cell_type": "markdown",
   "metadata": {},
   "source": [
    "Elements in Doc2Vec :\n",
    "\n",
    "vector_size (int): Dimensionality of the feature vectors. This is the size of the vectors that represent each document.\n",
    "\n",
    "window (int): Maximum distance between the current and predicted word within a sentence. It influences the context window for word prediction.\n",
    "\n",
    "min_count (int): Ignores all words with a total frequency lower than this.\n",
    "\n",
    "workers (int): Number of CPU cores to use when training the model. Parallelization speeds up training.\n",
    "\n",
    "epochs (int): Number of iterations (epochs) over the corpus during training. This parameter controls how many times the model iterates over the entire dataset.\n",
    "\n",
    "dm (int, {1, 0}): Defines the training algorithm. If dm=1, the PV-DM (Distributed Memory) model is used. If dm=0, the PV-DBOW (Distributed Bag of Words) model is used.\n",
    "\n",
    "dbow_words (int, {1, 0}): If set to 1, trains word vectors as well as document vectors. This is only effective when using the PV-DBOW model.\n",
    "\n",
    "dm_concat (int, {1, 0}): If set to 1, concatenates paragraph vectors rather than averaging them in the PV-DM model.\n",
    "\n",
    "dm_tag_count (int): Expected constant number of document tags per document during training.\n",
    "\n",
    "hs (int, {1, 0}): If set to 1, hierarchical softmax will be used for model training.\n",
    "\n",
    "negative (int): If > 0, negative sampling will be used, the int for negative specifies how many \"noise words\" should be drawn (usually between 5-20)."
   ]
  },
  {
   "cell_type": "markdown",
   "metadata": {},
   "source": [
    "### Initialize model and training it on the train dataset"
   ]
  },
  {
   "cell_type": "code",
   "execution_count": 146,
   "metadata": {},
   "outputs": [],
   "source": [
    "cores = multiprocessing.cpu_count()\n",
    "model = Doc2Vec(dm=0, vector_size=400, negative=5, hs=0, sample=0, min_count=0, workers=cores, epochs=50) # dm=0 --> PV-DBOW\n",
    "\n",
    "model.build_vocab(train_tagged.values)  #The model builds his vocabulary on the training set\n",
    "model.train(utils.shuffle(train_tagged.values), #model train on a mixed trained values and 50 steps\n",
    "    total_examples=len(train_tagged.values),epochs=model.epochs)  \n"
   ]
  },
  {
   "cell_type": "markdown",
   "metadata": {},
   "source": [
    "### Using trained model to learn to return document vectors and labels"
   ]
  },
  {
   "cell_type": "code",
   "execution_count": 147,
   "metadata": {},
   "outputs": [],
   "source": [
    "def vec_for_learning(model, tagged_docs):\n",
    "    sents = tagged_docs.values\n",
    "    classes, features = zip(*[(doc.tags[0],\n",
    "      model.infer_vector(doc_words=doc.words, epochs=model.epochs)) for doc in sents]) #steps=epochs increase steps for better precision but more running time\n",
    "    return features, classes\n",
    "\n",
    "\n",
    "train_x, train_y= vec_for_learning(model, train_tagged) #Train data\n",
    "test_train_x, test_train_y= vec_for_learning(model, valid_train_tagged) #test train data\n",
    "verif_x, verif_y = vec_for_learning(model, verif_data_tagged) # Verif data"
   ]
  },
  {
   "cell_type": "markdown",
   "metadata": {},
   "source": [
    "## Classification methods : We use Support Vector Machine for Classification (SVM-C)"
   ]
  },
  {
   "cell_type": "code",
   "execution_count": 142,
   "metadata": {},
   "outputs": [],
   "source": [
    "#Helper function for calculating accuracy on the test set.\n",
    "def acc(true, pred):\n",
    "  acc = 0\n",
    "  for x,y in zip(true,pred):\n",
    "    if(x == y): acc += 1\n",
    "  return acc/len(pred)"
   ]
  },
  {
   "cell_type": "markdown",
   "metadata": {},
   "source": [
    "### Creating the classifier model and cross validation"
   ]
  },
  {
   "cell_type": "code",
   "execution_count": 148,
   "metadata": {},
   "outputs": [
    {
     "name": "stdout",
     "output_type": "stream",
     "text": [
      "Accuracy of the model trained = 99.73 %\n",
      "Accuracy of the model with test train data = 83.03 %\n"
     ]
    }
   ],
   "source": [
    "\n",
    "\"\"\"\n",
    "svc = SVC()\n",
    "\n",
    "param_grid = {\n",
    "    'C': [0.1, 1, 10, 100],            # Regularization parameter\n",
    "    'kernel': ['linear', 'rbf', 'poly'],  # Kernel type\n",
    "    'degree': [2, 3, 4],               # Degree of the polynomial kernel (if kernel is 'poly')\n",
    "    'gamma': ['scale', 'auto', 0.1, 1],  # Kernel coefficient for 'rbf' and 'poly'\n",
    "    'coef0': [0.0, 1.0],   \n",
    "}\n",
    "\n",
    "grid_search=GridSearchCV(svc, param_grid, cv=10, scoring=\"accuracy\")\n",
    "\n",
    "grid_search.fit(train_x, train_y)\n",
    "best_param= grid_search.best_params_\n",
    "\"\"\"\n",
    "svc=SVC()\n",
    "param_grid = {'C': [0.1, 1, 10],\n",
    "        'kernel': ['linear', 'rbf', 'poly'],\n",
    "        'gamma': ['scale', 'auto', 0.1, 1],\n",
    "    }\n",
    "    \n",
    "grid_search=GridSearchCV(svc, param_grid, cv=5, scoring=\"accuracy\")\n",
    "\n",
    "grid_search.fit(train_x, train_y)\n",
    "best_param= grid_search.best_params_#{'C': 0.1, 'gamma': 'scale', 'kernel': 'rbf'} for zurich\n",
    "#best_param={'C': 0.1, 'coef0': 1.0, 'degree': 3, 'gamma': 'auto', 'kernel': 'poly'} # for long text\n",
    "svc =SVC(**best_param, probability=True)\n",
    "#svc=SVC(probability=True)\n",
    "svc.fit(train_x,train_y)\n",
    "\n",
    "print(\"Accuracy of the model trained = %0.2f %%\"%(acc(train_y,svc.predict(train_x))*100)) #Accuracy of model depending on the fitting\n",
    "print(\"Accuracy of the model with test train data = %0.2f %%\"%(acc(test_train_y,svc.predict(test_train_x))*100)) #Accuracy of the model on verifying data"
   ]
  },
  {
   "cell_type": "code",
   "execution_count": 88,
   "metadata": {},
   "outputs": [
    {
     "data": {
      "text/plain": [
       "{'C': 0.1, 'coef0': 1.0, 'degree': 3, 'gamma': 'auto', 'kernel': 'poly'}"
      ]
     },
     "execution_count": 88,
     "metadata": {},
     "output_type": "execute_result"
    }
   ],
   "source": [
    "best_param\n",
    "#{'C': 0.1, 'coef0': 1.0, 'degree': 3, 'gamma': 'auto', 'kernel': 'poly'}"
   ]
  },
  {
   "cell_type": "code",
   "execution_count": 108,
   "metadata": {},
   "outputs": [
    {
     "name": "stdout",
     "output_type": "stream",
     "text": [
      "Accuracy of the model with verification data = 46.31 %\n"
     ]
    }
   ],
   "source": [
    "print(\"Accuracy of the model with verification data = %0.2f %%\"%(acc(verif_y,svc.predict(verif_x))*100)) #Accuracy of the model on verifying data"
   ]
  },
  {
   "cell_type": "markdown",
   "metadata": {},
   "source": [
    "### Vectorizing the test data (using D-BOW model)"
   ]
  },
  {
   "cell_type": "code",
   "execution_count": 83,
   "metadata": {},
   "outputs": [],
   "source": [
    "def vectorizing_project_data(model, tagged_docs):\n",
    "    sents = tagged_docs.values\n",
    "    features = [model.infer_vector(doc.words, epochs=model.epochs) for doc in sents]\n",
    "    return features\n",
    "\n",
    "test_x = vectorizing_project_data(model, test_data_tagged)"
   ]
  },
  {
   "cell_type": "markdown",
   "metadata": {},
   "source": [
    "### Prediction of Classes on the Test Set"
   ]
  },
  {
   "cell_type": "code",
   "execution_count": 84,
   "metadata": {},
   "outputs": [
    {
     "data": {
      "text/plain": [
       "Bias\n",
       "0    2318\n",
       "2    1218\n",
       "1    1068\n",
       "Name: count, dtype: int64"
      ]
     },
     "execution_count": 84,
     "metadata": {},
     "output_type": "execute_result"
    }
   ],
   "source": [
    "class_probabilities=svc.predict_proba(test_x)\n",
    "test_labels=[]\n",
    "threshold=0.49\n",
    "\n",
    "for i in range(len(class_probabilities)):\n",
    "    if class_probabilities[i,0]>threshold and class_probabilities[i,0]<1-threshold:# [0,4-0,6]\n",
    "        label=1\n",
    "    else: \n",
    "        label=np.argmax(class_probabilities[i,:])\n",
    "        if label==1:\n",
    "            label=2\n",
    "    test_labels.append(label)\n",
    "\n",
    "test_data[\"Bias\"] = test_labels\n",
    "test_data[\"Bias\"].value_counts()"
   ]
  },
  {
   "cell_type": "code",
   "execution_count": 109,
   "metadata": {},
   "outputs": [
    {
     "data": {
      "image/png": "[encoded data removed]",
      "text/plain": [
       "<Figure size 640x480 with 2 Axes>"
      ]
     },
     "metadata": {},
     "output_type": "display_data"
    }
   ],
   "source": [
    "plt.figure()\n",
    "\n",
    "#density plot\n",
    "hist, xedges, yedges = np.histogram2d(class_probabilities[:, 0], class_probabilities[:, 1], bins=(50, 50))\n",
    "\n",
    "#Colorbar\n",
    "plt.pcolormesh(xedges, yedges, hist.T, cmap=\"viridis\") #color-blind friendly\n",
    "\n",
    "# Add colorbar\n",
    "cbar = plt.colorbar()\n",
    "cbar.set_label('Density')\n",
    "\n",
    "# Set labels and title\n",
    "plt.xlabel(\"Probability to be Left\")\n",
    "plt.ylabel(\"Probability to be Right\")\n",
    "plt.title(\"Density of Probability from Classification\")\n",
    "\n",
    "# Display legend with colorbar values\n",
    "legend_values = np.linspace(hist.min(), hist.max(), num=10)  \n",
    "cbar.set_ticks(legend_values)\n",
    "cbar.set_ticklabels([f'{int(value)}' for value in legend_values])\n",
    "\n",
    "# Show the plot\n",
    "plt.show()"
   ]
  },
  {
   "cell_type": "code",
   "execution_count": 86,
   "metadata": {},
   "outputs": [
    {
     "data": {
      "image/png": "[encoded data removed]",
      "text/plain": [
       "<Figure size 640x480 with 1 Axes>"
      ]
     },
     "metadata": {},
     "output_type": "display_data"
    }
   ],
   "source": [
    "plt.figure()\n",
    "sns.barplot(x=test_data[\"Bias\"].value_counts().index, y=test_data[\"Bias\"].value_counts())\n",
    "plt.show()"
   ]
  },
  {
   "cell_type": "code",
   "execution_count": 110,
   "metadata": {},
   "outputs": [
    {
     "data": {
      "text/html": [
       "<div>\n",
       "<style scoped>\n",
       "    .dataframe tbody tr th:only-of-type {\n",
       "        vertical-align: middle;\n",
       "    }\n",
       "\n",
       "    .dataframe tbody tr th {\n",
       "        vertical-align: top;\n",
       "    }\n",
       "\n",
       "    .dataframe thead th {\n",
       "        text-align: right;\n",
       "    }\n",
       "</style>\n",
       "<table border=\"1\" class=\"dataframe\">\n",
       "  <thead>\n",
       "    <tr style=\"text-align: right;\">\n",
       "      <th></th>\n",
       "      <th>text_content</th>\n",
       "      <th>title</th>\n",
       "      <th>Bias</th>\n",
       "    </tr>\n",
       "  </thead>\n",
       "  <tbody>\n",
       "    <tr>\n",
       "      <th>3319</th>\n",
       "      <td>portuguese communist party  2007 schools wiki...</td>\n",
       "      <td>Portuguese_Communist_Party</td>\n",
       "      <td>1</td>\n",
       "    </tr>\n",
       "  </tbody>\n",
       "</table>\n",
       "</div>"
      ],
      "text/plain": [
       "                                           text_content  \\\n",
       "3319   portuguese communist party  2007 schools wiki...   \n",
       "\n",
       "                           title  Bias  \n",
       "3319  Portuguese_Communist_Party     1  "
      ]
     },
     "execution_count": 110,
     "metadata": {},
     "output_type": "execute_result"
    }
   ],
   "source": [
    "test_data[test_data[\"title\"]==\"Portuguese_Communist_Party\"]"
   ]
  },
  {
   "cell_type": "code",
   "execution_count": 123,
   "metadata": {},
   "outputs": [
    {
     "name": "stdout",
     "output_type": "stream",
     "text": [
      "0.6018518518518519\n",
      "0.19262295081967212\n"
     ]
    }
   ],
   "source": [
    "from sklearn.naive_bayes import MultinomialNB, BernoulliNB\n",
    "from sklearn.feature_extraction.text import CountVectorizer\n",
    "\n",
    "\n",
    "model2=BernoulliNB()\n",
    "model2.fit(train_x, train_y)\n",
    "print(acc(train_y,model2.predict(train_x)))\n",
    "print(acc(test_train_y, model2.predict(test_train_x)))"
   ]
  }
 ],
 "metadata": {
  "kernelspec": {
   "display_name": "envADA",
   "language": "python",
   "name": "python3"
  },
  "language_info": {
   "codemirror_mode": {
    "name": "ipython",
    "version": 3
   },
   "file_extension": ".py",
   "mimetype": "text/x-python",
   "name": "python",
   "nbconvert_exporter": "python",
   "pygments_lexer": "ipython3",
   "version": "3.9.18"
  }
 },
 "nbformat": 4,
 "nbformat_minor": 2
}
