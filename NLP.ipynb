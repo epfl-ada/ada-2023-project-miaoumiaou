{
 "cells": [
  {
   "cell_type": "markdown",
   "metadata": {},
   "source": [
    "### Essai de Natural Language processing (NLP)"
   ]
  },
  {
   "cell_type": "markdown",
   "metadata": {},
   "source": [
    "Political Bias Detection"
   ]
  },
  {
   "cell_type": "markdown",
   "metadata": {},
   "source": [
    "S: \"Biased left\" (0), N : \"Neutral\"(1), V: \"biased right\"(2)"
   ]
  },
  {
   "cell_type": "code",
   "execution_count": 95,
   "metadata": {},
   "outputs": [
    {
     "name": "stderr",
     "output_type": "stream",
     "text": [
      "[nltk_data] Downloading package punkt to ./data_model/...\n",
      "[nltk_data]   Package punkt is already up-to-date!\n"
     ]
    },
    {
     "data": {
      "text/plain": [
       "True"
      ]
     },
     "execution_count": 95,
     "metadata": {},
     "output_type": "execute_result"
    }
   ],
   "source": [
    "\n",
    "import matplotlib.pyplot as plt\n",
    "import seaborn as sns\n",
    "#NLP libraries\n",
    "import nltk\n",
    "from gensim.models import Doc2Vec\n",
    "import gensim\n",
    "from gensim.models.doc2vec import TaggedDocument\n",
    "#Machine learning libraries\n",
    "from sklearn import utils\n",
    "from sklearn.model_selection import train_test_split\n",
    "from sklearn.naive_bayes import GaussianNB\n",
    "from sklearn.ensemble import RandomForestClassifier\n",
    "from sklearn.svm import SVC\n",
    "#Helper libraries\n",
    "import multiprocessing\n",
    "import numpy as np\n",
    "import pandas as pd\n",
    "import math\n",
    "from bs4 import BeautifulSoup\n",
    "import re\n",
    "import os\n",
    "\n",
    "\n",
    "nltk.download('punkt', download_dir=\"./data_model/\")"
   ]
  },
  {
   "cell_type": "code",
   "execution_count": 96,
   "metadata": {},
   "outputs": [
    {
     "name": "stdout",
     "output_type": "stream",
     "text": [
      "                                                content bias\n",
      "4348  Претседателот Стево Пендаровски посети волонте...    N\n",
      "3262  Куманово 16676, Активни 5 Битола 15654, Активн...    N\n",
      "4720  Времето денеска ќе биде сончево со мала до уме...    N\n",
      "1814  Граѓаните во Република Македонија повторно ќе ...    V\n",
      "652   Еден од врвните приоритети на СДСМ во време на...    S\n",
      "...                                                 ...  ...\n",
      "670   Некој во Белиот дворец треба да му каже на Хри...    S\n",
      "296   Тоа што беше најавувано како активната блокада...    S\n",
      "2882  По тешката корупција за избор на фаворитот на ...    V\n",
      "4457  Еднакви услови за сите ученици во Северна Маке...    N\n",
      "3311  Бетон вели – разликата ќе ви ја платиме. Два м...    N\n",
      "\n",
      "[5735 rows x 2 columns]\n"
     ]
    }
   ],
   "source": [
    "dataset = pd.read_csv('./data_model/dataset.csv', header=0)\n",
    "dataset = dataset.drop('url',axis=1)\n",
    "dataset = dataset.iloc[np.random.permutation(len(dataset))]\n",
    "print(dataset)"
   ]
  },
  {
   "cell_type": "code",
   "execution_count": 97,
   "metadata": {},
   "outputs": [
    {
     "data": {
      "text/html": [
       "<div>\n",
       "<style scoped>\n",
       "    .dataframe tbody tr th:only-of-type {\n",
       "        vertical-align: middle;\n",
       "    }\n",
       "\n",
       "    .dataframe tbody tr th {\n",
       "        vertical-align: top;\n",
       "    }\n",
       "\n",
       "    .dataframe thead th {\n",
       "        text-align: right;\n",
       "    }\n",
       "</style>\n",
       "<table border=\"1\" class=\"dataframe\">\n",
       "  <thead>\n",
       "    <tr style=\"text-align: right;\">\n",
       "      <th></th>\n",
       "      <th>content</th>\n",
       "      <th>bias</th>\n",
       "    </tr>\n",
       "  </thead>\n",
       "  <tbody>\n",
       "    <tr>\n",
       "      <th>4348</th>\n",
       "      <td>Претседателот Стево Пендаровски посети волонте...</td>\n",
       "      <td>1</td>\n",
       "    </tr>\n",
       "    <tr>\n",
       "      <th>3262</th>\n",
       "      <td>Куманово 16676, Активни 5 Битола 15654, Активн...</td>\n",
       "      <td>1</td>\n",
       "    </tr>\n",
       "    <tr>\n",
       "      <th>4720</th>\n",
       "      <td>Времето денеска ќе биде сончево со мала до уме...</td>\n",
       "      <td>1</td>\n",
       "    </tr>\n",
       "    <tr>\n",
       "      <th>1814</th>\n",
       "      <td>Граѓаните во Република Македонија повторно ќе ...</td>\n",
       "      <td>2</td>\n",
       "    </tr>\n",
       "    <tr>\n",
       "      <th>652</th>\n",
       "      <td>Еден од врвните приоритети на СДСМ во време на...</td>\n",
       "      <td>0</td>\n",
       "    </tr>\n",
       "    <tr>\n",
       "      <th>4304</th>\n",
       "      <td>Цената на електричната енергија нема да поскап...</td>\n",
       "      <td>1</td>\n",
       "    </tr>\n",
       "    <tr>\n",
       "      <th>4792</th>\n",
       "      <td>Патријархот Порфириј на заедничката литургија ...</td>\n",
       "      <td>1</td>\n",
       "    </tr>\n",
       "    <tr>\n",
       "      <th>5235</th>\n",
       "      <td>Од 1 до 5 часот на територијата на Општина Кар...</td>\n",
       "      <td>1</td>\n",
       "    </tr>\n",
       "    <tr>\n",
       "      <th>2412</th>\n",
       "      <td>Портпаролот на ВМРО-ДПМНЕ, Димче Арсовски одго...</td>\n",
       "      <td>2</td>\n",
       "    </tr>\n",
       "    <tr>\n",
       "      <th>3703</th>\n",
       "      <td>Салата од која се слушаа звуците на домашни и ...</td>\n",
       "      <td>1</td>\n",
       "    </tr>\n",
       "  </tbody>\n",
       "</table>\n",
       "</div>"
      ],
      "text/plain": [
       "                                                content  bias\n",
       "4348  Претседателот Стево Пендаровски посети волонте...     1\n",
       "3262  Куманово 16676, Активни 5 Битола 15654, Активн...     1\n",
       "4720  Времето денеска ќе биде сончево со мала до уме...     1\n",
       "1814  Граѓаните во Република Македонија повторно ќе ...     2\n",
       "652   Еден од врвните приоритети на СДСМ во време на...     0\n",
       "4304  Цената на електричната енергија нема да поскап...     1\n",
       "4792  Патријархот Порфириј на заедничката литургија ...     1\n",
       "5235  Од 1 до 5 часот на територијата на Општина Кар...     1\n",
       "2412  Портпаролот на ВМРО-ДПМНЕ, Димче Арсовски одго...     2\n",
       "3703  Салата од која се слушаа звуците на домашни и ...     1"
      ]
     },
     "execution_count": 97,
     "metadata": {},
     "output_type": "execute_result"
    }
   ],
   "source": [
    "dataset['bias'] = dataset['bias'].replace(['S','N','V'],[0,1,2])\n",
    "dataset.head(10)"
   ]
  },
  {
   "cell_type": "code",
   "execution_count": 98,
   "metadata": {},
   "outputs": [
    {
     "data": {
      "image/png": "[encoded data removed]",
      "text/plain": [
       "<Figure size 640x480 with 1 Axes>"
      ]
     },
     "metadata": {},
     "output_type": "display_data"
    }
   ],
   "source": [
    "bias_vals = dataset['bias'].value_counts()\n",
    "plt.figure()\n",
    "sns.barplot(x=bias_vals.index, y=bias_vals.values)\n",
    "plt.show()"
   ]
  },
  {
   "cell_type": "markdown",
   "metadata": {},
   "source": [
    "_stop word russes (notre dataset de train est russe pour le moment)"
   ]
  },
  {
   "cell_type": "code",
   "execution_count": 99,
   "metadata": {},
   "outputs": [],
   "source": [
    "_stopwords = set(u\"\"\"\n",
    "беше\n",
    "еден\n",
    "едно\n",
    "јас\n",
    "рече\n",
    "сите\n",
    "сум\n",
    "ние\n",
    "сме\n",
    "овде\n",
    "исто\n",
    "така\n",
    "на\n",
    "и\n",
    "во\n",
    "се\n",
    "го\n",
    "не\n",
    "да\n",
    "е\n",
    "што\n",
    "од\n",
    "со\n",
    "за\n",
    "или\n",
    "тоа\n",
    "ја\n",
    "по\n",
    "тој\n",
    "но\n",
    "а\n",
    "ги\n",
    "до\n",
    "таа\n",
    "му\n",
    "кои\n",
    "па\n",
    "нив\n",
    "ни\n",
    "ќе\n",
    "кој\n",
    "итн\n",
    "бил\n",
    "кај\n",
    "ова\n",
    "врз\n",
    "над\n",
    "тие\n",
    "a\n",
    "две\n",
    "би\n",
    "она\n",
    "неа\n",
    "си\n",
    "кое\n",
    "ако\n",
    "два\n",
    "има\n",
    "в\n",
    "како\n",
    "само\n",
    "дека\n",
    "една\n",
    "туку\n",
    "кога\n",
    "сега\n",
    "ми\n",
    "потоа\n",
    "низ\n",
    "ти\n",
    "кон\n",
    "додека\n",
    "веќе\n",
    "нешто\n",
    "него\n",
    "уште\n",
    "таму\n",
    "ли\n",
    "под\n",
    "беа\n",
    "ме\n",
    "некој\n",
    "ништо\n",
    "тука\n",
    "пред\n",
    "им\n",
    "каде\n",
    "повторно\n",
    "ниту\n",
    "биде\n",
    "толку\n",
    "никогаш\n",
    "мене\n",
    "дали\n",
    "тогаш\n",
    "своите\n",
    "сето\n",
    "без\n",
    "нема\n",
    "околу\n",
    "многу\n",
    "полека\n",
    "секогаш\n",
    "зошто\n",
    "те\n",
    "добро\n",
    "можеби\n",
    "колку\n",
    "можеше\n",
    "нивните\n",
    "преку\n",
    "миг\n",
    "знам\n",
    "малку\n",
    "вратата\n",
    "ох\n",
    "навистина\n",
    "оваа\n",
    "покрај\n",
    "повеќе\n",
    "овој\n",
    "сеуште\n",
    "имаше\n",
    "својата\n",
    "неговите\n",
    "неговата\n",
    "друго\n",
    "зашто\n",
    "немаше\n",
    "воопшто\n",
    "понекогаш\n",
    "ах\n",
    "зад\n",
    "еднаш\n",
    "својот\n",
    "дури\n",
    "себе\n",
    "ви\n",
    "токму\n",
    "зарем\n",
    "сте\n",
    "било\n",
    "сосема\n",
    "секој\n",
    "неговото\n",
    "друг\n",
    "мошне\n",
    "ајде\n",
    "можел\n",
    "може\n",
    "која\n",
    "при\n",
    "пак\n",
    "сè\n",
    "други\n",
    "треба\n",
    "ама\n",
    "после\n",
    "некоја\n",
    "нас\n",
    "бе\n",
    "никој\n",
    "одма\n",
    "сѐ\n",
    "ај\n",
    "нѐ\n",
    "неколку\n",
    "вие\n",
    "оние\n",
    "мора\n",
    "оди\n",
    "еј\n",
    "\"\"\".strip().split('\\n'))"
   ]
  },
  {
   "cell_type": "markdown",
   "metadata": {},
   "source": [
    "Cleaning dataset:\n"
   ]
  },
  {
   "cell_type": "code",
   "execution_count": 100,
   "metadata": {},
   "outputs": [
    {
     "name": "stderr",
     "output_type": "stream",
     "text": [
      "C:\\Users\\Adrien\\AppData\\Local\\Temp\\ipykernel_4072\\2298218591.py:2: MarkupResemblesLocatorWarning: The input looks more like a filename than markup. You may want to open this file and pass the filehandle into Beautiful Soup.\n",
      "  text = BeautifulSoup(text, \"lxml\").text\n"
     ]
    }
   ],
   "source": [
    "def clean(text):  #Removing unecessary punctuation and all lower case.\n",
    "    text = BeautifulSoup(text, \"lxml\").text\n",
    "    text = re.sub(r'\\|\\|\\|', r' ', text) \n",
    "    text = text.replace('„','')\n",
    "    text = text.replace('“','')\n",
    "    text = text.replace('\"','')\n",
    "    text = text.replace('\\'','')\n",
    "    text = text.replace('-','')\n",
    "    text = text.lower()\n",
    "    return text\n",
    "\n",
    "def remove_stopwords(content):\n",
    "    for word in _stopwords:\n",
    "        content = content.replace(' '+word+' ',' ')\n",
    "    return content\n",
    "\n",
    "dataset['content'] = dataset['content'].apply(clean)\n",
    "dataset['content'] = dataset['content'].apply(remove_stopwords)"
   ]
  },
  {
   "cell_type": "markdown",
   "metadata": {},
   "source": [
    "Splitting test / train data (20% test)"
   ]
  },
  {
   "cell_type": "code",
   "execution_count": 101,
   "metadata": {},
   "outputs": [],
   "source": [
    "train, test = train_test_split(dataset, test_size=0.2)"
   ]
  },
  {
   "cell_type": "markdown",
   "metadata": {},
   "source": [
    "Transforming language to vectors\n",
    " "
   ]
  },
  {
   "cell_type": "code",
   "execution_count": 102,
   "metadata": {},
   "outputs": [],
   "source": [
    "def tokenize_text(text):\n",
    "    tokens = []\n",
    "    for sent in nltk.sent_tokenize(text):\n",
    "        for word in nltk.word_tokenize(sent):\n",
    "            if len(word) < 3:\n",
    "                continue\n",
    "            tokens.append(word.lower())\n",
    "    return tokens\n",
    "\n",
    "train_tagged = train.apply(\n",
    "   lambda r: TaggedDocument(words=tokenize_text(r['content']), tags=  [r.bias]), axis=1)\n",
    "test_tagged = test.apply(\n",
    "   lambda r: TaggedDocument(words=tokenize_text(r['content']), tags=[r.bias]), axis=1)"
   ]
  },
  {
   "cell_type": "markdown",
   "metadata": {},
   "source": [
    "PV-DBOW or PV-DM (PV-DBOW works better for short text, distributed bag of words)"
   ]
  },
  {
   "cell_type": "code",
   "execution_count": 103,
   "metadata": {},
   "outputs": [
    {
     "name": "stdout",
     "output_type": "stream",
     "text": [
      "[TaggedDocument(words=['тажен', 'ден', 'македонското', 'здравство', 'чаир', 'почина', 'годишна', 'родилка', 'породување', 'битола', 'годишна', 'девојка', 'притоа', 'познати', 'детално', 'причините', 'смртта', 'присутна', 'македонското', 'здравство', 'венко', 'филипче', 'награден', 'ноемвриска', 'награда', 'шилегов', 'здравството', 'ветуваше', 'премиерот', 'заминување', 'контрола', 'македонското', 'здравство', 'филипче', 'вели', 'луѓе', 'загинаа', 'струен', 'кабел', 'тетово', 'обвинителството', 'вели', 'крив', 'денес', 'трагичен', 'ден', 'околностите', 'починаа', 'овие', 'луѓе', 'испита', 'власта', 'заев', 'способна', 'контрола', 'системот', 'распаѓање'], tags=[2])\n",
      " TaggedDocument(words=['охрид', 'денеска', 'почнува', 'дводневната', 'меѓународна', 'конференција', 'преспа', 'форум', 'дијалог', 'организација', 'министерството', 'надворешни', 'работи', 'чие', 'овогодинешно', 'издание', 'носи', 'името', 'градењето', 'иднината', 'западниот', 'балкан', 'современата', 'безбедносна', 'архитектура', 'преспа', 'форумот', 'дијалог', 'опфати', 'најгорливите', 'безбедносни', 'политички', 'економски', 'прашања', 'денес', 'соочуваат', 'европа', 'западниот', 'балкан', 'посебен', 'осврт', 'импликациите', 'војната', 'украина', 'севкупните', 'меѓународни', 'политички', 'безбедносни', 'економски', 'прилики', 'европа', 'пошироко', 'дискусиите', 'бидат', 'поделени', 'сесии', 'панели', 'активно', 'земат', 'учество', 'претседатели', 'држави', 'премиери', 'шефови', 'дипломати/други', 'ресорни', 'министри', 'меѓународни', 'експерти', 'потврдено', 'учество', 'претседателот', 'европскиот', 'совет', 'шарл', 'мишел', 'претседателите', 'црна', 'гора', 'мило', 'ѓукановиќ', 'косово', 'вјоса', 'османи', 'словенечкиот', 'претседател', 'борут', 'пахор', 'хрватскиот', 'зоран', 'милановиќ', 'меѓу', 'учесниците', 'премиерката', 'србија', 'ана', 'брнабиќ', 'премиерот', 'косово', 'албин', 'курти', 'потсекретарот', 'политички', 'прашања', 'розмари', 'карло', 'шефовите', 'дипломатиите', 'австрија', 'александар', 'шаленберг', 'полска', 'збигњев', 'рау', 'хрватска', 'гордан', 'грлиќ', 'радман', 'турција', 'мевљут', 'чавушоглу', 'словачка', 'иван', 'корчок', 'грција', 'никос', 'дендиас', 'босна', 'херцеговина', 'ватикан', 'сад', 'помошникот', 'државен', 'секретар', 'габриел', 'ескобар', 'форумот', 'земат', 'учество', 'еврокомесарот', 'проширување', 'соседска', 'политика', 'оливер', 'вархеји', 'генералните', 'секретари', 'обсе', 'специјалните', 'пратеници', 'западен', 'балкан', 'сад', 'велика', 'британија', 'германија', 'австрија', 'бројни', 'ресорни', 'министри', 'европски', 'прашања', 'финансии', 'економија', 'животна', 'средина', 'претставници', 'најважните', 'меѓународни', 'регионални', 'владини', 'невладини', 'организации', 'домаќин', 'отворањето', 'претседателот', 'стево', 'пендаровски', 'година', 'покровител', 'настанот', 'средба', 'претседателот', 'европскиот', 'совет', 'шарл', 'мишел', 'двајцата', 'одржат', 'пресконференција', 'премиерот', 'димитар', 'ковачевски', 'земе', 'учество', 'форумот', 'негови', 'рамки', 'оствари', 'бројни', 'средби', 'меѓу', 'специјалните', 'претставници', 'регионот', 'сад', 'габриел', 'ескобар', 'мирослав', 'лајчак', 'розмари', 'карло', 'подгенерален', 'секретар', 'оон', 'политички', 'прашања', 'ковачевски', 'петок', 'главен', 'говорник', 'отвори', 'сесијата', 'тема', 'години', 'римскиот', 'договор', 'европа', 'целосно', 'економски', 'реконструирана', 'интегрирана', 'панел', 'сесијата', 'предвидено', 'учество', 'премиерите', 'србија', 'ана', 'брнабиќ', 'косово', 'албин', 'курти', 'мајлинда', 'брегу', 'генералната', 'секретарка', 'регионалниот', 'совет', 'соработка', 'матео', 'бономи', 'експерт', 'економија', 'меѓународниот', 'институт', 'рим'], tags=[1])\n",
      " TaggedDocument(words=['премиерот', 'димитар', 'ковачевски', 'вели', 'апсолутно', 'неодговорно', 'услови', 'криза', 'блокира', 'собранието', 'додавајќи', 'пратениците', 'бираат', 'политички', 'партии', 'граѓаните', 'вмродпмне', 'објави', 'активна', 'блокада', 'собранието', 'мај', 'граѓаните', 'заслужуваат', 'пратениците', 'бидат', 'одговорни', 'бидејќи', 'бираат', 'политички', 'партии', 'бираат', 'граѓаните', 'бидат', 'часа', 'наведено', 'самиот', 'деловник', 'собранието', 'бидејќи', 'собранието', 'практично', 'постојано', 'заседавање', 'носи', 'одлуки', 'значат', 'подобро', 'граѓани', 'државата', 'кажа', 'ковачевски', 'одговарајќи', 'новинарско', 'прашање', 'време', 'денешната', 'посета', 'прилеп', 'сепак', 'вели', 'блокадата', 'страна', 'вмродпмне', 'целата', 'опозиција', 'собранието', 'функционира', 'лидерот', 'вмродпмне', 'христијан', 'мицкоски', 'денеска', 'скопската', 'општина', 'кисела', 'вода', 'кажа', 'блокадата', 'собранието', 'прв', 'чекор', 'нивната', 'стратегија', 'уривање', 'владата', 'најави', 'понеделник', 'партијата', 'расправа', 'следните', 'чекори', 'интерес', 'граѓаните', 'блокираме', 'парламентот', 'прв', 'чекор', 'понеделник', 'имаме', 'седница', 'извршниот', 'комитет', 'отвориме', 'дискусија', 'вториот', 'третиот', 'чекор', 'стратегија', 'трае', 'инстант', 'акција', 'заврши', 'денес', 'утре', 'стратегија', 'трае', 'очекувам', 'напуштат', 'луѓето', 'фотелјата', 'држат', 'кажа', 'мицкоски'], tags=[1])\n",
      " ...\n",
      " TaggedDocument(words=['комисијата', 'финансирање', 'буџет', 'одржува', 'седница', 'расправа', 'ребалансот', 'буџетот', '2022', 'година', 'причина', 'отсуството', 'претседалот', 'комисија', 'пратеникот', 'бојан', 'стојановски', 'вмродпмне', 'деновиве', 'посета', 'египет', 'наместо', 'интересите', 'граѓаните', 'наместо', 'побрзо', 'усвојување', 'ребалансот', 'стојановски', 'вмродпмне', 'одбра', 'шетање', 'египет', 'грижата', 'вмродпмне', 'граѓаните', 'партија', 'покажа', 'единствено', 'грижи', 'лични', 'партиски', 'интереси', 'ребалансот', 'буџетот', 'важен', 'продолжи', 'помошта', 'граѓаните', 'стопанството', 'важен', 'растот', 'платите', 'пензиите', 'инвестиции', 'капитални', 'проекти', 'усвоен', 'побрзо', 'побрзо', 'парите', 'стигнат', 'граѓаните', 'очигледно', 'важно', 'стојановски', 'партија', 'вмродпмне'], tags=[0])\n",
      " TaggedDocument(words=['полноќ', 'цената', 'бензинот', 'зголемува', '5,5', 'денари', 'литар', 'дизелот', 'денари', 'соопшти', 'регулаторната', 'комисија', 'енергетика', 'цената', 'бензин', 'еуросупер', '89,50', 'денари', 'бензин', 'еуросупер', '91,50', 'денари', 'новата', 'цена', 'дизел', 'горивото', '85,50', 'денари', 'литар', 'малопродажната', 'цена', 'екстра', 'лесното', 'масло', 'домаќинство', 'зголемува', 'денари', 'литар', '83,50', 'мазурот', '6,1', 'денари', '54,319', 'денари', 'килограм', 'изминатиот', 'седумдневен', 'период', 'референтните', 'цени', 'нафтени', 'деривати', 'светските', 'берзи', 'бележат', 'незабележан', 'рекорден', 'раст', 'бензинот', '10,990', 'дизелот', '21,147', 'екстра', 'лесното', 'масло', '18,278', 'мазутот', 'зголемување', '13,830', 'паралелно', 'истиот', 'период', 'курсот', 'доларот', 'однос', 'светски', 'валути', 'зајакнува', 'однос', 'денарот', 'зголемен', 'значителни', '1,401', 'согласно', 'овие', 'податоци', 'велат', 'регулаторна', 'донесе', 'одлука', 'вкалкулирани', 'овие', 'трендови', 'врши', 'зголемување', 'малопродажните', 'цени', 'нафтените', 'деривати', 'просек', '10,21', 'однос', 'одлуката', '28.2.2022', 'година', 'поради', 'сложената', 'геополитичката', 'состојба', 'одразува', 'цената', 'енергенсите', 'цел', 'обезбеди', 'сигурност', 'стабилност', 'пазарот', 'нафтените', 'деривати', 'заштитат', 'потрошувачите', 'големи', 'ценовни', 'осцилации', 'натаму', 'регулаторна', 'носи', 'одлуки', 'дневно', 'ниво', 'цени', 'нафтени', 'деривати', 'доколку', 'берзанските', 'цени', 'имаат', 'значителни', 'промени', 'принцип', 'применува', 'состојби', 'екстремни', 'дневни', 'промени', 'берзанските', 'цени', 'состојбата', 'нафтениот', 'сектор', 'информиравме', 'владата', 'детално', 'анализите', 'ставени', 'располагање', 'цел', 'носат', 'соодветни', 'одлуки', 'заштити', 'стандардот', 'граѓаните', 'вели', 'марко', 'бислимоски', 'претседател', 'регулаторната', 'комисија', 'енергетика', 'регулаторна', 'додаваат', 'нафтени', 'деривати', 'доволни', 'количини', 'проблем', 'високата', 'цена', 'нас', 'цела', 'европа', 'споредбено', 'регионот', 'согласно', 'последните', 'достапни', 'податоците', 'март', '2022', 'земјава', 'еуродизелот', 'најниска', 'цена', 'изнесува', '1,388', 'евра/литар', 'додека', 'србија', 'изнесува', '1,552', 'евра/литар', 'бугарија', '1,457', 'евра/литар', 'албанија', '1,616', 'евра/литар', 'грција', '1,678', 'евра/литар', 'хрватска', '1,497евра/литар', 'еуросупер', 'најниска', 'цена', 'земјава', '1,453', 'евра/литар', 'цена', 'актуелна', 'полноќ', 'разлика', 'србија', 'цената', 'еуросупер', 'изнесува', '1,482', 'евра/литар', 'албанија', '1,632', 'евра/литар', 'грција', '1,951', 'евра/литар', 'хрватска', '1,507', 'евра/литар', 'бугарија', 'цената', 'пониска', 'изнесува', '1,427', 'евра/литар', 'напоменуваме', 'максималните', 'цени', 'нафтените', 'деривати', 'полноќ.трговците', 'големо', 'трговците', 'мало', 'нафтени', 'деривати', 'горива', 'транспорт', 'можат', 'формираат', 'цените', 'одделни', 'нафтени', 'деривати', 'горива', 'транспорт', 'пониско', 'највисоките', 'утврдени', 'цени', 'вели', 'регулаторната', 'комисија'], tags=[1])\n",
      " TaggedDocument(words=['преговарачките', 'позиции', 'подриваат', 'лицитира', 'идентитетот', 'македонскиот', 'народ', 'идентитетот', 'македонија', 'држава', 'артан', 'груби', 'али', 'ахмети', 'бујар', 'османи', 'лицитираат', 'промена', 'устав', 'потврдува', 'администраторот', 'ковачевски', 'слепиот', 'следбеник', 'заевизмот', 'подриваат', 'преговарачките', 'позиции', 'вака', 'одговори', 'претседателот', 'вмродпмне', 'новинарско', 'прашање', 'изјава', 'договор', 'донесен', 'шверцерски', 'начин', 'прашањето', 'бугарија', 'прифатлив', 'наредната', 'власт', 'била', 'предводена', 'вмродпмне', 'подриваат', 'преговарачките', 'позиции', 'мицкоски', 'додаде', 'преговарачките', 'позиции', 'зацврстиле', 'доколку', 'прифати', 'барањето', 'вмродпмне', 'подржи', 'декларацијата', 'гоце', 'делчев', 'собранието', 'барање', 'подржи', 'декларација', 'титанот', 'великанот', 'ѓорѓи', 'делчев', 'собранието', 'зацврстуваат', 'начин', 'дава', 'тежина', 'преговарачи', 'маса', 'преговараат', 'тезата', 'каква', 'погрешна', 'одговара', 'реалноста', 'затоа', 'понудив', 'единство', 'затоа', 'понудив', 'застанеме', 'заедно', 'одбрана', 'македонските', 'национални', 'интереси', 'затоа', 'народот', 'глава', 'корумпирани', 'криминализирани', 'политичари', 'сметка', 'идентитетот', 'македонскиот', 'народ', 'богатат', 'градат', 'политички', 'кариери', 'потенцираше', 'мицкоски'], tags=[2])]\n"
     ]
    }
   ],
   "source": [
    "print(train_tagged.values)"
   ]
  },
  {
   "cell_type": "code",
   "execution_count": 104,
   "metadata": {},
   "outputs": [],
   "source": [
    "cores = multiprocessing.cpu_count()\n",
    "model = Doc2Vec(dm=0, vector_size=300, negative=5, hs=0, sample=0, min_count=2, workers=cores) # PV-DBOW\n",
    "\n",
    "\n",
    "model.build_vocab(train_tagged.values)  #The model builds his vocabulary on the training set\n",
    "model.train(utils.shuffle(train_tagged.values), #model train on a mixed trained values and 30 steps\n",
    "total_examples=len(train_tagged.values),epochs=30)  \n",
    "\n",
    "model.save(\"./data_model/doc2vec_articles_0.model\")\n"
   ]
  },
  {
   "cell_type": "markdown",
   "metadata": {},
   "source": [
    "Using trained model (PV-DBOW)"
   ]
  },
  {
   "cell_type": "code",
   "execution_count": 105,
   "metadata": {},
   "outputs": [],
   "source": [
    "def vec_for_learning(model, tagged_docs):\n",
    "    sents = tagged_docs.values\n",
    "    classes, features = zip(*[(doc.tags[0],\n",
    "      model.infer_vector(doc_words=doc.words, epochs=20)) for doc in sents]) #steps=epochs increase steps for better precision but more running time\n",
    "    return features, classes\n",
    "\n",
    "# PV_DBOW encoded text\n",
    "\n",
    "train_x_0, train_y_0 = vec_for_learning(model, train_tagged)\n",
    "test_x_0, test_y_0 = vec_for_learning(model, test_tagged)"
   ]
  },
  {
   "cell_type": "markdown",
   "metadata": {},
   "source": [
    "### Classification methods : Naive Bayes, RandomForest, SVM, CNN ?"
   ]
  },
  {
   "cell_type": "markdown",
   "metadata": {},
   "source": [
    "SVM parait bien dans le cas de classification d'articles :"
   ]
  },
  {
   "cell_type": "code",
   "execution_count": 106,
   "metadata": {},
   "outputs": [],
   "source": [
    "#Helper function for calculating accuracy on the test set.\n",
    "def acc(true, pred):\n",
    "  acc = 0\n",
    "  for x,y in zip(true,pred):\n",
    "    if(x == y): acc += 1\n",
    "  return acc/len(pred)"
   ]
  },
  {
   "cell_type": "code",
   "execution_count": 107,
   "metadata": {},
   "outputs": [
    {
     "name": "stdout",
     "output_type": "stream",
     "text": [
      "0.9459459459459459\n"
     ]
    }
   ],
   "source": [
    "svc_0 = SVC()\n",
    "\n",
    "svc_0.fit(train_x_0,train_y_0)\n",
    "print(acc(test_y_0,svc_0.predict(test_x_0))) #Accuracy of model depending on know y_true and y_predict"
   ]
  },
  {
   "cell_type": "markdown",
   "metadata": {},
   "source": [
    "### Importing data from project to predict Political Bias"
   ]
  },
  {
   "cell_type": "code",
   "execution_count": 108,
   "metadata": {},
   "outputs": [
    {
     "data": {
      "text/html": [
       "<div>\n",
       "<style scoped>\n",
       "    .dataframe tbody tr th:only-of-type {\n",
       "        vertical-align: middle;\n",
       "    }\n",
       "\n",
       "    .dataframe tbody tr th {\n",
       "        vertical-align: top;\n",
       "    }\n",
       "\n",
       "    .dataframe thead th {\n",
       "        text-align: right;\n",
       "    }\n",
       "</style>\n",
       "<table border=\"1\" class=\"dataframe\">\n",
       "  <thead>\n",
       "    <tr style=\"text-align: right;\">\n",
       "      <th></th>\n",
       "      <th>text_content</th>\n",
       "    </tr>\n",
       "  </thead>\n",
       "  <tbody>\n",
       "    <tr>\n",
       "      <th>0</th>\n",
       "      <td>Áedán mac Gabráin  2007 Schools Wikipedia Sel...</td>\n",
       "    </tr>\n",
       "    <tr>\n",
       "      <th>1</th>\n",
       "      <td>Åland  2007 Schools Wikipedia Selection. Rela...</td>\n",
       "    </tr>\n",
       "    <tr>\n",
       "      <th>2</th>\n",
       "      <td>Édouard Manet  2007 Schools Wikipedia Selecti...</td>\n",
       "    </tr>\n",
       "    <tr>\n",
       "      <th>3</th>\n",
       "      <td>Éire  2007 Schools Wikipedia Selection. Relat...</td>\n",
       "    </tr>\n",
       "    <tr>\n",
       "      <th>4</th>\n",
       "      <td>Óengus I of the Picts  2007 Schools Wikipedia...</td>\n",
       "    </tr>\n",
       "    <tr>\n",
       "      <th>...</th>\n",
       "      <td>...</td>\n",
       "    </tr>\n",
       "    <tr>\n",
       "      <th>4599</th>\n",
       "      <td>Zirconium  2007 Schools Wikipedia Selection. ...</td>\n",
       "    </tr>\n",
       "    <tr>\n",
       "      <th>4600</th>\n",
       "      <td>Zoroaster  2007 Schools Wikipedia Selection. ...</td>\n",
       "    </tr>\n",
       "    <tr>\n",
       "      <th>4601</th>\n",
       "      <td>Zuid-Gelders  2007 Schools Wikipedia Selectio...</td>\n",
       "    </tr>\n",
       "    <tr>\n",
       "      <th>4602</th>\n",
       "      <td>Zulu  2007 Schools Wikipedia Selection. Relat...</td>\n",
       "    </tr>\n",
       "    <tr>\n",
       "      <th>4603</th>\n",
       "      <td>ZX Spectrum  2007 Schools Wikipedia Selection...</td>\n",
       "    </tr>\n",
       "  </tbody>\n",
       "</table>\n",
       "<p>4604 rows × 1 columns</p>\n",
       "</div>"
      ],
      "text/plain": [
       "                                           text_content\n",
       "0      Áedán mac Gabráin  2007 Schools Wikipedia Sel...\n",
       "1      Åland  2007 Schools Wikipedia Selection. Rela...\n",
       "2      Édouard Manet  2007 Schools Wikipedia Selecti...\n",
       "3      Éire  2007 Schools Wikipedia Selection. Relat...\n",
       "4      Óengus I of the Picts  2007 Schools Wikipedia...\n",
       "...                                                 ...\n",
       "4599   Zirconium  2007 Schools Wikipedia Selection. ...\n",
       "4600   Zoroaster  2007 Schools Wikipedia Selection. ...\n",
       "4601   Zuid-Gelders  2007 Schools Wikipedia Selectio...\n",
       "4602   Zulu  2007 Schools Wikipedia Selection. Relat...\n",
       "4603   ZX Spectrum  2007 Schools Wikipedia Selection...\n",
       "\n",
       "[4604 rows x 1 columns]"
      ]
     },
     "execution_count": 108,
     "metadata": {},
     "output_type": "execute_result"
    }
   ],
   "source": [
    "text_file_dir=\"./data/wikispeedia_articles_plaintext/plaintext_articles/\"\n",
    "file_data=[]\n",
    "\n",
    "for filename in os.listdir(text_file_dir):\n",
    "    with open(os.path.join(text_file_dir, filename), \"r\") as file:\n",
    "        content = file.read()\n",
    "    \n",
    "        # Split the content into lines to remove the header\n",
    "    lines = content.split('\\n')\n",
    "\n",
    "    #Removing the header (line 0)\n",
    "    if lines:\n",
    "        lines.pop(0)\n",
    "\n",
    "    # Making it an array and removing all \\n\n",
    "    content = '\\n'.join(lines)\n",
    "    content = content.replace(\"\\n\", \" \")\n",
    "\n",
    "\n",
    "    new_file_content= {\"text_content\": content}\n",
    "    \n",
    "    file_data.append(new_file_content)\n",
    "\n",
    "project_data = pd.DataFrame(file_data)\n",
    "\n",
    "project_data"
   ]
  },
  {
   "cell_type": "code",
   "execution_count": 109,
   "metadata": {},
   "outputs": [],
   "source": [
    "_stopwords = set(u\"\"\"\n",
    "a\n",
    "an\n",
    "and\n",
    "the\n",
    "in\n",
    "of\n",
    "on\n",
    "for\n",
    "with\n",
    "as\n",
    "by\n",
    "to\n",
    "at\n",
    "is\n",
    "it\n",
    "that\n",
    "was\n",
    "were\n",
    "be\n",
    "been\n",
    "have\n",
    "has\n",
    "do\n",
    "does\n",
    "I\n",
    "you\n",
    "he\n",
    "she\n",
    "we\n",
    "they\n",
    "not\n",
    "can\n",
    "will\n",
    "should\n",
    "would\n",
    "could\n",
    "may\n",
    "might\n",
    "must\n",
    "shall\n",
    "\"\"\".strip().split('\\n'))"
   ]
  },
  {
   "cell_type": "markdown",
   "metadata": {},
   "source": [
    "Cleaning the data and removing useless word for prediction"
   ]
  },
  {
   "cell_type": "code",
   "execution_count": 110,
   "metadata": {},
   "outputs": [],
   "source": [
    "project_data['text_content'] = project_data['text_content'].apply(clean)\n",
    "project_data['text_content'] = project_data['text_content'].apply(remove_stopwords)"
   ]
  },
  {
   "cell_type": "markdown",
   "metadata": {},
   "source": [
    "Putting lowercase and tokenize the text"
   ]
  },
  {
   "cell_type": "code",
   "execution_count": 111,
   "metadata": {},
   "outputs": [],
   "source": [
    "project_tagged = project_data.apply(\n",
    "   lambda r: TaggedDocument(words=tokenize_text(r['text_content']), tags=  []), axis=1)"
   ]
  },
  {
   "cell_type": "code",
   "execution_count": 112,
   "metadata": {},
   "outputs": [
    {
     "data": {
      "text/plain": [
       "0       ([áedán, mac, gabráin, 2007, schools, wikipedi...\n",
       "1       ([åland, 2007, schools, wikipedia, selection, ...\n",
       "2       ([édouard, manet, 2007, schools, wikipedia, se...\n",
       "3       ([éire, 2007, schools, wikipedia, selection, r...\n",
       "4       ([óengus, picts, 2007, schools, wikipedia, sel...\n",
       "                              ...                        \n",
       "4599    ([zirconium, 2007, schools, wikipedia, selecti...\n",
       "4600    ([zoroaster, 2007, schools, wikipedia, selecti...\n",
       "4601    ([zuidgelders, 2007, schools, wikipedia, selec...\n",
       "4602    ([zulu, 2007, schools, wikipedia, selection, r...\n",
       "4603    ([spectrum, 2007, schools, wikipedia, selectio...\n",
       "Length: 4604, dtype: object"
      ]
     },
     "execution_count": 112,
     "metadata": {},
     "output_type": "execute_result"
    }
   ],
   "source": [
    "project_tagged"
   ]
  },
  {
   "cell_type": "code",
   "execution_count": 113,
   "metadata": {},
   "outputs": [],
   "source": [
    "def vectorizing_project_data(model, tagged_docs):\n",
    "    sents = tagged_docs.values\n",
    "    features = [model.infer_vector(doc.words, epochs=20) for doc in sents]\n",
    "    return features\n",
    "\n",
    "project_vector=vectorizing_project_data(model, project_tagged)"
   ]
  },
  {
   "cell_type": "markdown",
   "metadata": {},
   "source": [
    "Prediction of Classes:"
   ]
  },
  {
   "cell_type": "code",
   "execution_count": 116,
   "metadata": {},
   "outputs": [
    {
     "name": "stdout",
     "output_type": "stream",
     "text": [
      "[1 2]\n",
      "4604 4604\n"
     ]
    }
   ],
   "source": [
    "prediction=svc_0.predict(project_vector)\n",
    "print(np.unique(prediction))\n",
    "print(len(project_data), len(prediction))\n",
    "project_data[\"Bias\"]=prediction"
   ]
  },
  {
   "cell_type": "code",
   "execution_count": 115,
   "metadata": {},
   "outputs": [
    {
     "data": {
      "text/html": [
       "<div>\n",
       "<style scoped>\n",
       "    .dataframe tbody tr th:only-of-type {\n",
       "        vertical-align: middle;\n",
       "    }\n",
       "\n",
       "    .dataframe tbody tr th {\n",
       "        vertical-align: top;\n",
       "    }\n",
       "\n",
       "    .dataframe thead th {\n",
       "        text-align: right;\n",
       "    }\n",
       "</style>\n",
       "<table border=\"1\" class=\"dataframe\">\n",
       "  <thead>\n",
       "    <tr style=\"text-align: right;\">\n",
       "      <th></th>\n",
       "      <th>text_content</th>\n",
       "      <th>Bias</th>\n",
       "    </tr>\n",
       "  </thead>\n",
       "  <tbody>\n",
       "    <tr>\n",
       "      <th>1349</th>\n",
       "      <td>elementary group theory  2007 schools wikipedi...</td>\n",
       "      <td>2</td>\n",
       "    </tr>\n",
       "  </tbody>\n",
       "</table>\n",
       "</div>"
      ],
      "text/plain": [
       "                                           text_content  Bias\n",
       "1349  elementary group theory  2007 schools wikipedi...     2"
      ]
     },
     "execution_count": 115,
     "metadata": {},
     "output_type": "execute_result"
    }
   ],
   "source": [
    "project_data[project_data[\"Bias\"]==2]"
   ]
  },
  {
   "cell_type": "markdown",
   "metadata": {},
   "source": [
    "Le modèle prédit que tous les articles de notre dataset sont neutres sauf un qui est de droite :)))"
   ]
  },
  {
   "cell_type": "markdown",
   "metadata": {},
   "source": [
    "Il faut trouver un vrai dataset pour entrainer le modèle\n",
    "\n",
    "--> Trouver un dataset anglais qui classifie le biais politique d'articles (pas obligatoirement de 0-2, peut avoir d'autres classifications)\n",
    "\n",
    "--> Ou alors on split notre dataset (4063 Articles) et on définit un biais politique sur certains que l'on utilise pour train notre modèle (problèmes : subjectivité, difficile à faire)"
   ]
  }
 ],
 "metadata": {
  "kernelspec": {
   "display_name": "envADA",
   "language": "python",
   "name": "python3"
  },
  "language_info": {
   "codemirror_mode": {
    "name": "ipython",
    "version": 3
   },
   "file_extension": ".py",
   "mimetype": "text/x-python",
   "name": "python",
   "nbconvert_exporter": "python",
   "pygments_lexer": "ipython3",
   "version": "3.9.18"
  }
 },
 "nbformat": 4,
 "nbformat_minor": 2
}
