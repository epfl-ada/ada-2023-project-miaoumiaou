{
 "cells": [
  {
   "cell_type": "code",
   "execution_count": 10,
   "metadata": {},
   "outputs": [],
   "source": [
    "import pandas as pd \n",
    "import numpy as np\n",
    "from sklearn import utils\n",
    "from sklearn.model_selection import train_test_split\n",
    "from sklearn.naive_bayes import GaussianNB\n",
    "from sklearn.ensemble import RandomForestClassifier\n",
    "from sklearn.svm import SVC"
   ]
  },
  {
   "cell_type": "code",
   "execution_count": 11,
   "metadata": {},
   "outputs": [
    {
     "data": {
      "text/html": [
       "<div>\n",
       "<style scoped>\n",
       "    .dataframe tbody tr th:only-of-type {\n",
       "        vertical-align: middle;\n",
       "    }\n",
       "\n",
       "    .dataframe tbody tr th {\n",
       "        vertical-align: top;\n",
       "    }\n",
       "\n",
       "    .dataframe thead th {\n",
       "        text-align: right;\n",
       "    }\n",
       "</style>\n",
       "<table border=\"1\" class=\"dataframe\">\n",
       "  <thead>\n",
       "    <tr style=\"text-align: right;\">\n",
       "      <th></th>\n",
       "      <th>URI</th>\n",
       "      <th>name</th>\n",
       "      <th>text</th>\n",
       "    </tr>\n",
       "  </thead>\n",
       "  <tbody>\n",
       "    <tr>\n",
       "      <th>0</th>\n",
       "      <td>&lt;http://dbpedia.org/resource/Digby_Morrell&gt;</td>\n",
       "      <td>Digby Morrell</td>\n",
       "      <td>digby morrell born 10 october 1979 is a former...</td>\n",
       "    </tr>\n",
       "    <tr>\n",
       "      <th>1</th>\n",
       "      <td>&lt;http://dbpedia.org/resource/Alfred_J._Lewy&gt;</td>\n",
       "      <td>Alfred J. Lewy</td>\n",
       "      <td>alfred j lewy aka sandy lewy graduated from un...</td>\n",
       "    </tr>\n",
       "    <tr>\n",
       "      <th>2</th>\n",
       "      <td>&lt;http://dbpedia.org/resource/Harpdog_Brown&gt;</td>\n",
       "      <td>Harpdog Brown</td>\n",
       "      <td>harpdog brown is a singer and harmonica player...</td>\n",
       "    </tr>\n",
       "    <tr>\n",
       "      <th>3</th>\n",
       "      <td>&lt;http://dbpedia.org/resource/Franz_Rottensteiner&gt;</td>\n",
       "      <td>Franz Rottensteiner</td>\n",
       "      <td>franz rottensteiner born in waidmannsfeld lowe...</td>\n",
       "    </tr>\n",
       "    <tr>\n",
       "      <th>4</th>\n",
       "      <td>&lt;http://dbpedia.org/resource/G-Enka&gt;</td>\n",
       "      <td>G-Enka</td>\n",
       "      <td>henry krvits born 30 december 1974 in tallinn ...</td>\n",
       "    </tr>\n",
       "  </tbody>\n",
       "</table>\n",
       "</div>"
      ],
      "text/plain": [
       "                                                 URI                 name  \\\n",
       "0        <http://dbpedia.org/resource/Digby_Morrell>        Digby Morrell   \n",
       "1       <http://dbpedia.org/resource/Alfred_J._Lewy>       Alfred J. Lewy   \n",
       "2        <http://dbpedia.org/resource/Harpdog_Brown>        Harpdog Brown   \n",
       "3  <http://dbpedia.org/resource/Franz_Rottensteiner>  Franz Rottensteiner   \n",
       "4               <http://dbpedia.org/resource/G-Enka>               G-Enka   \n",
       "\n",
       "                                                text  \n",
       "0  digby morrell born 10 october 1979 is a former...  \n",
       "1  alfred j lewy aka sandy lewy graduated from un...  \n",
       "2  harpdog brown is a singer and harmonica player...  \n",
       "3  franz rottensteiner born in waidmannsfeld lowe...  \n",
       "4  henry krvits born 30 december 1974 in tallinn ...  "
      ]
     },
     "execution_count": 11,
     "metadata": {},
     "output_type": "execute_result"
    }
   ],
   "source": [
    "people_data = pd.read_csv(\"./data_model/people_wiki.csv\")\n",
    "people_data.head()"
   ]
  },
  {
   "cell_type": "code",
   "execution_count": 33,
   "metadata": {},
   "outputs": [
    {
     "data": {
      "text/plain": [
       "24426    william bradley brad pitt born december 18 196...\n",
       "Name: text, dtype: object"
      ]
     },
     "execution_count": 33,
     "metadata": {},
     "output_type": "execute_result"
    }
   ],
   "source": [
    "brad = people_data[people_data['name'] == 'Brad Pitt']\n",
    "brad['text']\n"
   ]
  },
  {
   "cell_type": "code",
   "execution_count": 16,
   "metadata": {},
   "outputs": [],
   "source": [
    "def sortedbow(wordstring):\n",
    "    wordlist = wordstring.split()\n",
    "    bow = {}\n",
    "    for w in wordlist:\n",
    "        bow[w] = 0\n",
    "    for w in wordlist:\n",
    "        bow[w] += 1 \n",
    "    print (sorted (bow.items(), key=lambda x: x[1], reverse=True))"
   ]
  },
  {
   "cell_type": "code",
   "execution_count": 18,
   "metadata": {},
   "outputs": [
    {
     "name": "stdout",
     "output_type": "stream",
     "text": [
      "[('24426', 1), ('william', 1), ('bradley', 1), ('brad', 1), ('pitt', 1), ('born', 1), ('december', 1), ('18', 1), ('196...', 1), ('Name:', 1), ('text,', 1), ('dtype:', 1), ('object', 1)]\n"
     ]
    }
   ],
   "source": [
    "sortedbow(str(brad['text']))"
   ]
  },
  {
   "cell_type": "code",
   "execution_count": 35,
   "metadata": {},
   "outputs": [],
   "source": [
    "\n",
    "\n",
    "from sklearn.feature_extraction.text import CountVectorizer\n",
    "count_vectorizer = CountVectorizer()\n",
    "word_count = count_vectorizer.fit_transform(people_data['text'])\n",
    "from sklearn.feature_extraction.text import TfidfTransformer\n",
    "tfidf_transformer = TfidfTransformer()\n",
    "tfidf = tfidf_transformer.fit_transform(word_count)\n",
    "\n"
   ]
  },
  {
   "cell_type": "code",
   "execution_count": 36,
   "metadata": {},
   "outputs": [
    {
     "name": "stdout",
     "output_type": "stream",
     "text": [
      "[[37466 32112 37965 24426 29417 16488 13967  9480  3282  5510]]\n"
     ]
    }
   ],
   "source": [
    "brad_words_count = count_vectorizer.transform(['Brad Pitt'])\n",
    "brad_tfidf = tfidf_transformer.transform(brad_words_count)\n",
    "res = neigh.kneighbors(brad_tfidf, return_distance=False)\n",
    "print (res)"
   ]
  },
  {
   "cell_type": "code",
   "execution_count": 38,
   "metadata": {},
   "outputs": [
    {
     "name": "stdout",
     "output_type": "stream",
     "text": [
      "                                                     URI  \\\n",
      "37466          <http://dbpedia.org/resource/Warren_Pitt>   \n",
      "32112  <http://dbpedia.org/resource/Charles_Redding_P...   \n",
      "37965  <http://dbpedia.org/resource/Bill_Pitt_(racing...   \n",
      "24426            <http://dbpedia.org/resource/Brad_Pitt>   \n",
      "29417        <http://dbpedia.org/resource/Joe_Luxbacher>   \n",
      "16488         <http://dbpedia.org/resource/Tim_Grgurich>   \n",
      "13967  <http://dbpedia.org/resource/Brad_Williams_(co...   \n",
      "9480           <http://dbpedia.org/resource/Brad_Nichol>   \n",
      "3282          <http://dbpedia.org/resource/Naomi_Wilson>   \n",
      "5510            <http://dbpedia.org/resource/Freddie_Fu>   \n",
      "\n",
      "                            name  \\\n",
      "37466                Warren Pitt   \n",
      "32112       Charles Redding Pitt   \n",
      "37965  Bill Pitt (racing driver)   \n",
      "24426                  Brad Pitt   \n",
      "29417              Joe Luxbacher   \n",
      "16488               Tim Grgurich   \n",
      "13967   Brad Williams (comedian)   \n",
      "9480                 Brad Nichol   \n",
      "3282                Naomi Wilson   \n",
      "5510                  Freddie Fu   \n",
      "\n",
      "                                                    text  \n",
      "37466  frederick warren pitt born 14 march 1948 is an...  \n",
      "32112  charles redding pitt born march 29 1944 is an ...  \n",
      "37965  william bill pitt is a former australian racin...  \n",
      "24426  william bradley brad pitt born december 18 196...  \n",
      "29417  joe luxbacher born february 10 1951 in beadlin...  \n",
      "16488  tim grgurich born june 10 1942 is an american ...  \n",
      "13967  brad williams born 1984 is an american comedia...  \n",
      "9480   brad nichol born september 11 1979 in concord ...  \n",
      "3282   naomi kate wynn wilson born 27 january 1940 is...  \n",
      "5510   freddie h fu md pinyin f hoqing is a pioneer a...  \n"
     ]
    }
   ],
   "source": [
    "for i in res: \n",
    "    print (people_data.iloc[i])"
   ]
  }
 ],
 "metadata": {
  "kernelspec": {
   "display_name": "ada",
   "language": "python",
   "name": "python3"
  },
  "language_info": {
   "codemirror_mode": {
    "name": "ipython",
    "version": 3
   },
   "file_extension": ".py",
   "mimetype": "text/x-python",
   "name": "python",
   "nbconvert_exporter": "python",
   "pygments_lexer": "ipython3",
   "version": "3.9.18"
  }
 },
 "nbformat": 4,
 "nbformat_minor": 2
}
