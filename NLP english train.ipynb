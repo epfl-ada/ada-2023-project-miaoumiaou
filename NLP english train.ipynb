{
 "cells": [
  {
   "cell_type": "markdown",
   "metadata": {},
   "source": [
    "### Natural Language processing (NLP)"
   ]
  },
  {
   "cell_type": "markdown",
   "metadata": {},
   "source": [
    "Political Bias Detection with English dataset (labeled_dataset_english.csv)"
   ]
  },
  {
   "cell_type": "markdown",
   "metadata": {},
   "source": [
    "left: \"Biased left\" (0), central : \"Neutral\"(1), right: \"biased right\"(2)"
   ]
  },
  {
   "cell_type": "code",
   "execution_count": 51,
   "metadata": {},
   "outputs": [
    {
     "name": "stderr",
     "output_type": "stream",
     "text": [
      "[nltk_data] Downloading package punkt to ./data_model/...\n",
      "[nltk_data]   Package punkt is already up-to-date!\n",
      "[nltk_data] Downloading package stopwords to ./data_model/...\n",
      "[nltk_data]   Package stopwords is already up-to-date!\n"
     ]
    }
   ],
   "source": [
    "\n",
    "import matplotlib.pyplot as plt\n",
    "import seaborn as sns\n",
    "\n",
    "#NLP libraries\n",
    "import nltk\n",
    "from gensim.models import Doc2Vec\n",
    "import gensim\n",
    "from gensim.models.doc2vec import TaggedDocument\n",
    "\n",
    "#Machine learning libraries\n",
    "from sklearn import utils\n",
    "from sklearn.model_selection import train_test_split\n",
    "from sklearn.naive_bayes import GaussianNB\n",
    "from sklearn.ensemble import RandomForestClassifier\n",
    "from sklearn.svm import SVC\n",
    "\n",
    "#Helper libraries\n",
    "import multiprocessing\n",
    "import numpy as np\n",
    "import pandas as pd\n",
    "import math\n",
    "from bs4 import BeautifulSoup\n",
    "import re\n",
    "import os\n",
    "\n",
    "\n",
    "nltk.download('punkt', download_dir=\"./data_model/\")\n",
    "nltk.download(\"stopwords\", download_dir=\"./data_model/\")\n",
    "nltk.data.path.append(os.path.abspath(\"./data_model/\"))"
   ]
  },
  {
   "cell_type": "code",
   "execution_count": 52,
   "metadata": {},
   "outputs": [
    {
     "name": "stdout",
     "output_type": "stream",
     "text": [
      "1600\n",
      "   bias                                            content\n",
      "0     1  YouTube says no ‘deepfakes’ or ‘birther’ video...\n",
      "1     0  FRISCO, Texas — The increasingly bitter disput...\n",
      "2     0  Speaking to the country for the first time fro...\n",
      "3     2  A professor who teaches climate change classes...\n",
      "4     2  The left has a thing for taking babies hostage...\n",
      "5     1  (Reuters) - The World Anti-Doping Agency on Tu...\n",
      "6     0  In Barack Obama’s first term, the administrati...\n",
      "7     2  Republicans should stop fighting amnesty, Pres...\n",
      "8     1  Doctor's pro-vaccine TikTok went viral. Then c...\n",
      "9     1  'Horrifying': Mass burial held for 2,411 fetal...\n"
     ]
    }
   ],
   "source": [
    "dataset_eng= pd.read_csv(\"./data_model/labeled_dataset_english.csv\", header=0, usecols=[\"Label_bias\", \"article\", \"type\"])\n",
    "#dataset_eng=dataset_eng[dataset_eng[\"Label_bias\"]==\"Biased\"]\n",
    "dataset_eng[\"type\"]=dataset_eng[\"type\"].replace(['left','center','right'],[0,1,2])\n",
    "dataset_eng=dataset_eng.drop([\"Label_bias\"], axis=1)\n",
    "dataset=dataset_eng.rename(columns={\"type\": \"bias\", \"article\": \"content\"})\n",
    "#dataset = dataset.iloc[np.random.permutation(len(dataset))]\n",
    "dataset = dataset.dropna()\n",
    "print(len(dataset))\n",
    "print(dataset.head(10))"
   ]
  },
  {
   "cell_type": "code",
   "execution_count": 53,
   "metadata": {},
   "outputs": [
    {
     "data": {
      "image/png": "[encoded data removed]",
      "text/plain": [
       "<Figure size 640x480 with 1 Axes>"
      ]
     },
     "metadata": {},
     "output_type": "display_data"
    }
   ],
   "source": [
    "bias_vals = dataset['bias'].value_counts()\n",
    "plt.figure()\n",
    "sns.barplot(x=bias_vals.index, y=bias_vals.values)\n",
    "plt.show()"
   ]
  },
  {
   "cell_type": "markdown",
   "metadata": {},
   "source": [
    "_stop word anglais\n"
   ]
  },
  {
   "cell_type": "code",
   "execution_count": 54,
   "metadata": {},
   "outputs": [],
   "source": [
    "_stopwords = nltk.corpus.stopwords.words(\"english\")"
   ]
  },
  {
   "cell_type": "markdown",
   "metadata": {},
   "source": [
    "Cleaning dataset:\n"
   ]
  },
  {
   "cell_type": "code",
   "execution_count": 55,
   "metadata": {},
   "outputs": [
    {
     "name": "stderr",
     "output_type": "stream",
     "text": [
      "C:\\Users\\Adrien\\AppData\\Local\\Temp\\ipykernel_17788\\2298218591.py:2: MarkupResemblesLocatorWarning: The input looks more like a filename than markup. You may want to open this file and pass the filehandle into Beautiful Soup.\n",
      "  text = BeautifulSoup(text, \"lxml\").text\n"
     ]
    }
   ],
   "source": [
    "def clean(text):  #Removing unecessary punctuation and all lower case.\n",
    "    text = BeautifulSoup(text, \"lxml\").text\n",
    "    text = re.sub(r'\\|\\|\\|', r' ', text) \n",
    "    text = text.replace('„','')\n",
    "    text = text.replace('“','')\n",
    "    text = text.replace('\"','')\n",
    "    text = text.replace('\\'','')\n",
    "    text = text.replace('-','')\n",
    "    text = text.lower()\n",
    "    return text\n",
    "\n",
    "def remove_stopwords(content):\n",
    "    for word in _stopwords:\n",
    "        content = content.replace(' '+word+' ',' ')\n",
    "    return content\n",
    "\n",
    "dataset['content'] = dataset['content'].apply(clean)\n",
    "dataset['content'] = dataset['content'].apply(remove_stopwords)"
   ]
  },
  {
   "cell_type": "markdown",
   "metadata": {},
   "source": [
    "Creating balanced train set"
   ]
  },
  {
   "cell_type": "code",
   "execution_count": 56,
   "metadata": {},
   "outputs": [
    {
     "data": {
      "text/plain": [
       "bias\n",
       "1    218\n",
       "0    218\n",
       "2    218\n",
       "Name: count, dtype: int64"
      ]
     },
     "execution_count": 56,
     "metadata": {},
     "output_type": "execute_result"
    }
   ],
   "source": [
    "np.random.seed=10\n",
    "a = len(dataset[dataset[\"bias\"] == 1])\n",
    "\n",
    "# Select rows for each class and combine them\n",
    "indices = []\n",
    "\n",
    "for bias_class in [0, 1, 2]:\n",
    "    indices.extend(dataset[dataset[\"bias\"] == bias_class].index[:a])\n",
    "\n",
    "# Create the training dataset\n",
    "train = dataset.loc[indices[:]]\n",
    "train = train.iloc[np.random.permutation(len(train))]\n",
    "train[\"bias\"].value_counts()"
   ]
  },
  {
   "cell_type": "code",
   "execution_count": 57,
   "metadata": {},
   "outputs": [
    {
     "data": {
      "image/png": "[encoded data removed]",
      "text/plain": [
       "<Figure size 640x480 with 1 Axes>"
      ]
     },
     "metadata": {},
     "output_type": "display_data"
    }
   ],
   "source": [
    "bias_vals = train['bias'].value_counts()\n",
    "plt.figure()\n",
    "sns.barplot(x=bias_vals.index, y=bias_vals.values)\n",
    "plt.show()"
   ]
  },
  {
   "cell_type": "code",
   "execution_count": 58,
   "metadata": {},
   "outputs": [
    {
     "data": {
      "text/html": [
       "<div>\n",
       "<style scoped>\n",
       "    .dataframe tbody tr th:only-of-type {\n",
       "        vertical-align: middle;\n",
       "    }\n",
       "\n",
       "    .dataframe tbody tr th {\n",
       "        vertical-align: top;\n",
       "    }\n",
       "\n",
       "    .dataframe thead th {\n",
       "        text-align: right;\n",
       "    }\n",
       "</style>\n",
       "<table border=\"1\" class=\"dataframe\">\n",
       "  <thead>\n",
       "    <tr style=\"text-align: right;\">\n",
       "      <th></th>\n",
       "      <th>bias</th>\n",
       "      <th>content</th>\n",
       "    </tr>\n",
       "  </thead>\n",
       "  <tbody>\n",
       "    <tr>\n",
       "      <th>541</th>\n",
       "      <td>0</td>\n",
       "      <td>huffpost part verizon media. partners store an...</td>\n",
       "    </tr>\n",
       "    <tr>\n",
       "      <th>543</th>\n",
       "      <td>0</td>\n",
       "      <td>get breaking news alerts special reports. news...</td>\n",
       "    </tr>\n",
       "    <tr>\n",
       "      <th>545</th>\n",
       "      <td>0</td>\n",
       "      <td>sports neutral. political battlefield. especia...</td>\n",
       "    </tr>\n",
       "    <tr>\n",
       "      <th>546</th>\n",
       "      <td>0</td>\n",
       "      <td>one biggest lies told many opponents immigrati...</td>\n",
       "    </tr>\n",
       "    <tr>\n",
       "      <th>550</th>\n",
       "      <td>0</td>\n",
       "      <td>huffpost part verizon media. partners store an...</td>\n",
       "    </tr>\n",
       "    <tr>\n",
       "      <th>...</th>\n",
       "      <td>...</td>\n",
       "      <td>...</td>\n",
       "    </tr>\n",
       "    <tr>\n",
       "      <th>1694</th>\n",
       "      <td>2</td>\n",
       "      <td>the house democrats’ coronavirus recovery bill...</td>\n",
       "    </tr>\n",
       "    <tr>\n",
       "      <th>1695</th>\n",
       "      <td>0</td>\n",
       "      <td>there many reasons republicans conservative ac...</td>\n",
       "    </tr>\n",
       "    <tr>\n",
       "      <th>1696</th>\n",
       "      <td>2</td>\n",
       "      <td>a man’s penis becomes female penis man declare...</td>\n",
       "    </tr>\n",
       "    <tr>\n",
       "      <th>1698</th>\n",
       "      <td>2</td>\n",
       "      <td>as selfdescribed democratic socialist, sen. be...</td>\n",
       "    </tr>\n",
       "    <tr>\n",
       "      <th>1699</th>\n",
       "      <td>2</td>\n",
       "      <td>cbs late show host stephen colbert claimed tue...</td>\n",
       "    </tr>\n",
       "  </tbody>\n",
       "</table>\n",
       "<p>946 rows × 2 columns</p>\n",
       "</div>"
      ],
      "text/plain": [
       "      bias                                            content\n",
       "541      0  huffpost part verizon media. partners store an...\n",
       "543      0  get breaking news alerts special reports. news...\n",
       "545      0  sports neutral. political battlefield. especia...\n",
       "546      0  one biggest lies told many opponents immigrati...\n",
       "550      0  huffpost part verizon media. partners store an...\n",
       "...    ...                                                ...\n",
       "1694     2  the house democrats’ coronavirus recovery bill...\n",
       "1695     0  there many reasons republicans conservative ac...\n",
       "1696     2  a man’s penis becomes female penis man declare...\n",
       "1698     2  as selfdescribed democratic socialist, sen. be...\n",
       "1699     2  cbs late show host stephen colbert claimed tue...\n",
       "\n",
       "[946 rows x 2 columns]"
      ]
     },
     "execution_count": 58,
     "metadata": {},
     "output_type": "execute_result"
    }
   ],
   "source": [
    "test= dataset.copy().drop(indices)\n",
    "test"
   ]
  },
  {
   "cell_type": "markdown",
   "metadata": {},
   "source": [
    "Transforming language to vectors\n",
    " "
   ]
  },
  {
   "cell_type": "code",
   "execution_count": 59,
   "metadata": {},
   "outputs": [],
   "source": [
    "def tokenize_text(text):\n",
    "    tokens = []\n",
    "    for sent in nltk.sent_tokenize(text):\n",
    "        for word in nltk.word_tokenize(sent):\n",
    "            if len(word) < 3:\n",
    "                continue\n",
    "            tokens.append(word.lower())\n",
    "    return tokens\n",
    "\n",
    "train_tagged = train.apply(\n",
    "   lambda r: TaggedDocument(words=tokenize_text(r['content']), tags=  [r.bias]), axis=1)\n",
    "test_tagged = test.apply(\n",
    "   lambda r: TaggedDocument(words=tokenize_text(r['content']), tags=[r.bias]), axis=1)"
   ]
  },
  {
   "cell_type": "markdown",
   "metadata": {},
   "source": [
    "PV-DBOW or PV-DM (PV-DBOW works better for short text, distributed bag of words)"
   ]
  },
  {
   "cell_type": "code",
   "execution_count": 60,
   "metadata": {},
   "outputs": [],
   "source": [
    "cores = multiprocessing.cpu_count()\n",
    "model = Doc2Vec(dm=0, vector_size=300, negative=5, hs=0, sample=0, min_count=2, workers=cores) # PV-DBOW\n",
    "\n",
    "\n",
    "model.build_vocab(train_tagged.values)  #The model builds his vocabulary on the training set\n",
    "model.train(utils.shuffle(train_tagged.values), #model train on a mixed trained values and 30 steps\n",
    "total_examples=len(train_tagged.values),epochs=30)  \n",
    "\n",
    "model.save(\"./data_model/doc2vec_articles_0.model\")\n"
   ]
  },
  {
   "cell_type": "markdown",
   "metadata": {},
   "source": [
    "Using trained model (PV-DBOW)"
   ]
  },
  {
   "cell_type": "code",
   "execution_count": 61,
   "metadata": {},
   "outputs": [],
   "source": [
    "def vec_for_learning(model, tagged_docs):\n",
    "    sents = tagged_docs.values\n",
    "    classes, features = zip(*[(doc.tags[0],\n",
    "      model.infer_vector(doc_words=doc.words, epochs=20)) for doc in sents]) #steps=epochs increase steps for better precision but more running time\n",
    "    return features, classes\n",
    "\n",
    "# PV_DBOW encoded text\n",
    "\n",
    "train_x_0, train_y_0 = vec_for_learning(model, train_tagged)\n",
    "test_x_0, test_y_0 = vec_for_learning(model, test_tagged)"
   ]
  },
  {
   "cell_type": "markdown",
   "metadata": {},
   "source": [
    "### Classification methods : Naive Bayes, RandomForest, SVM, CNN ?"
   ]
  },
  {
   "cell_type": "markdown",
   "metadata": {},
   "source": [
    "SVM parait bien dans le cas de classification de petits articles :"
   ]
  },
  {
   "cell_type": "code",
   "execution_count": 62,
   "metadata": {},
   "outputs": [],
   "source": [
    "#Helper function for calculating accuracy on the test set.\n",
    "def acc(true, pred):\n",
    "  acc = 0\n",
    "  for x,y in zip(true,pred):\n",
    "    if(x == y): acc += 1\n",
    "  return acc/len(pred)"
   ]
  },
  {
   "cell_type": "code",
   "execution_count": 63,
   "metadata": {},
   "outputs": [
    {
     "name": "stdout",
     "output_type": "stream",
     "text": [
      "0.6141649048625792\n"
     ]
    }
   ],
   "source": [
    "svc_0 = SVC()\n",
    "\n",
    "svc_0.fit(train_x_0,train_y_0)\n",
    "print(acc(test_y_0,svc_0.predict(test_x_0))) #Accuracy of model depending on know y_true and y_predict"
   ]
  },
  {
   "cell_type": "markdown",
   "metadata": {},
   "source": [
    "### Importing data from project to predict Political Bias"
   ]
  },
  {
   "cell_type": "code",
   "execution_count": 64,
   "metadata": {},
   "outputs": [
    {
     "data": {
      "text/html": [
       "<div>\n",
       "<style scoped>\n",
       "    .dataframe tbody tr th:only-of-type {\n",
       "        vertical-align: middle;\n",
       "    }\n",
       "\n",
       "    .dataframe tbody tr th {\n",
       "        vertical-align: top;\n",
       "    }\n",
       "\n",
       "    .dataframe thead th {\n",
       "        text-align: right;\n",
       "    }\n",
       "</style>\n",
       "<table border=\"1\" class=\"dataframe\">\n",
       "  <thead>\n",
       "    <tr style=\"text-align: right;\">\n",
       "      <th></th>\n",
       "      <th>text_content</th>\n",
       "      <th>title</th>\n",
       "    </tr>\n",
       "  </thead>\n",
       "  <tbody>\n",
       "    <tr>\n",
       "      <th>0</th>\n",
       "      <td>Áedán mac Gabráin  2007 Schools Wikipedia Sel...</td>\n",
       "      <td>%C3%81ed%C3%A1n_mac_Gabr%C3%A1in.txt</td>\n",
       "    </tr>\n",
       "    <tr>\n",
       "      <th>1</th>\n",
       "      <td>Åland  2007 Schools Wikipedia Selection. Rela...</td>\n",
       "      <td>%C3%85land.txt</td>\n",
       "    </tr>\n",
       "    <tr>\n",
       "      <th>2</th>\n",
       "      <td>Édouard Manet  2007 Schools Wikipedia Selecti...</td>\n",
       "      <td>%C3%89douard_Manet.txt</td>\n",
       "    </tr>\n",
       "    <tr>\n",
       "      <th>3</th>\n",
       "      <td>Éire  2007 Schools Wikipedia Selection. Relat...</td>\n",
       "      <td>%C3%89ire.txt</td>\n",
       "    </tr>\n",
       "    <tr>\n",
       "      <th>4</th>\n",
       "      <td>Óengus I of the Picts  2007 Schools Wikipedia...</td>\n",
       "      <td>%C3%93engus_I_of_the_Picts.txt</td>\n",
       "    </tr>\n",
       "    <tr>\n",
       "      <th>...</th>\n",
       "      <td>...</td>\n",
       "      <td>...</td>\n",
       "    </tr>\n",
       "    <tr>\n",
       "      <th>4599</th>\n",
       "      <td>Zirconium  2007 Schools Wikipedia Selection. ...</td>\n",
       "      <td>Zirconium.txt</td>\n",
       "    </tr>\n",
       "    <tr>\n",
       "      <th>4600</th>\n",
       "      <td>Zoroaster  2007 Schools Wikipedia Selection. ...</td>\n",
       "      <td>Zoroaster.txt</td>\n",
       "    </tr>\n",
       "    <tr>\n",
       "      <th>4601</th>\n",
       "      <td>Zuid-Gelders  2007 Schools Wikipedia Selectio...</td>\n",
       "      <td>Zuid-Gelders.txt</td>\n",
       "    </tr>\n",
       "    <tr>\n",
       "      <th>4602</th>\n",
       "      <td>Zulu  2007 Schools Wikipedia Selection. Relat...</td>\n",
       "      <td>Zulu.txt</td>\n",
       "    </tr>\n",
       "    <tr>\n",
       "      <th>4603</th>\n",
       "      <td>ZX Spectrum  2007 Schools Wikipedia Selection...</td>\n",
       "      <td>ZX_Spectrum.txt</td>\n",
       "    </tr>\n",
       "  </tbody>\n",
       "</table>\n",
       "<p>4604 rows × 2 columns</p>\n",
       "</div>"
      ],
      "text/plain": [
       "                                           text_content  \\\n",
       "0      Áedán mac Gabráin  2007 Schools Wikipedia Sel...   \n",
       "1      Åland  2007 Schools Wikipedia Selection. Rela...   \n",
       "2      Édouard Manet  2007 Schools Wikipedia Selecti...   \n",
       "3      Éire  2007 Schools Wikipedia Selection. Relat...   \n",
       "4      Óengus I of the Picts  2007 Schools Wikipedia...   \n",
       "...                                                 ...   \n",
       "4599   Zirconium  2007 Schools Wikipedia Selection. ...   \n",
       "4600   Zoroaster  2007 Schools Wikipedia Selection. ...   \n",
       "4601   Zuid-Gelders  2007 Schools Wikipedia Selectio...   \n",
       "4602   Zulu  2007 Schools Wikipedia Selection. Relat...   \n",
       "4603   ZX Spectrum  2007 Schools Wikipedia Selection...   \n",
       "\n",
       "                                     title  \n",
       "0     %C3%81ed%C3%A1n_mac_Gabr%C3%A1in.txt  \n",
       "1                           %C3%85land.txt  \n",
       "2                   %C3%89douard_Manet.txt  \n",
       "3                            %C3%89ire.txt  \n",
       "4           %C3%93engus_I_of_the_Picts.txt  \n",
       "...                                    ...  \n",
       "4599                         Zirconium.txt  \n",
       "4600                         Zoroaster.txt  \n",
       "4601                      Zuid-Gelders.txt  \n",
       "4602                              Zulu.txt  \n",
       "4603                       ZX_Spectrum.txt  \n",
       "\n",
       "[4604 rows x 2 columns]"
      ]
     },
     "execution_count": 64,
     "metadata": {},
     "output_type": "execute_result"
    }
   ],
   "source": [
    "text_file_dir=\"./data/wikispeedia_articles_plaintext/plaintext_articles/\"\n",
    "file_data=[]\n",
    "\n",
    "for filename in os.listdir(text_file_dir):\n",
    "    with open(os.path.join(text_file_dir, filename), \"r\") as file:\n",
    "        content = file.read()\n",
    "    \n",
    "        # Split the content into lines to remove the header\n",
    "    lines = content.split('\\n')\n",
    "\n",
    "    #Removing the header (line 0)\n",
    "    if lines:\n",
    "        lines.pop(0)\n",
    "\n",
    "    # Making it an array and removing all \\n\n",
    "    content = '\\n'.join(lines)\n",
    "    content = content.replace(\"\\n\", \" \")\n",
    "\n",
    "\n",
    "    new_file_content= {\"text_content\": content, \"title\": filename}\n",
    "    \n",
    "    file_data.append(new_file_content)\n",
    "\n",
    "project_data = pd.DataFrame(file_data)\n",
    "\n",
    "project_data"
   ]
  },
  {
   "cell_type": "markdown",
   "metadata": {},
   "source": [
    "Cleaning the data and removing useless word for prediction"
   ]
  },
  {
   "cell_type": "code",
   "execution_count": 65,
   "metadata": {},
   "outputs": [],
   "source": [
    "project_data['text_content'] = project_data['text_content'].apply(clean)\n",
    "project_data['text_content'] = project_data['text_content'].apply(remove_stopwords)"
   ]
  },
  {
   "cell_type": "markdown",
   "metadata": {},
   "source": [
    "Putting lowercase and tokenize the text"
   ]
  },
  {
   "cell_type": "code",
   "execution_count": 66,
   "metadata": {},
   "outputs": [],
   "source": [
    "project_tagged = project_data.apply(\n",
    "   lambda r: TaggedDocument(words=tokenize_text(r['text_content']), tags=  []), axis=1)"
   ]
  },
  {
   "cell_type": "code",
   "execution_count": 67,
   "metadata": {},
   "outputs": [],
   "source": [
    "def vectorizing_project_data(model, tagged_docs):\n",
    "    sents = tagged_docs.values\n",
    "    features = [model.infer_vector(doc.words, epochs=20) for doc in sents]\n",
    "    return features\n",
    "\n",
    "project_vector=vectorizing_project_data(model, project_tagged)"
   ]
  },
  {
   "cell_type": "markdown",
   "metadata": {},
   "source": [
    "Prediction of Classes:"
   ]
  },
  {
   "cell_type": "code",
   "execution_count": 68,
   "metadata": {},
   "outputs": [
    {
     "name": "stdout",
     "output_type": "stream",
     "text": [
      "[0 1 2]\n",
      "4604 4604\n"
     ]
    }
   ],
   "source": [
    "prediction=svc_0.predict(project_vector)\n",
    "print(np.unique(prediction))\n",
    "print(len(project_data), len(prediction))\n",
    "project_data[\"Bias\"]=prediction"
   ]
  },
  {
   "cell_type": "code",
   "execution_count": 69,
   "metadata": {},
   "outputs": [
    {
     "data": {
      "text/plain": [
       "0       %C3%81ed%C3%A1n_mac_Gabr%C3%A1in.txt\n",
       "1                             %C3%85land.txt\n",
       "3                              %C3%89ire.txt\n",
       "4             %C3%93engus_I_of_the_Picts.txt\n",
       "5         %E2%82%AC2_commemorative_coins.txt\n",
       "                        ...                 \n",
       "4592                            Zheng_He.txt\n",
       "4594                            Zimbabwe.txt\n",
       "4600                           Zoroaster.txt\n",
       "4601                        Zuid-Gelders.txt\n",
       "4602                                Zulu.txt\n",
       "Name: title, Length: 2030, dtype: object"
      ]
     },
     "execution_count": 69,
     "metadata": {},
     "output_type": "execute_result"
    }
   ],
   "source": [
    "project_data[\"title\"][project_data[\"Bias\"]==2]"
   ]
  },
  {
   "cell_type": "code",
   "execution_count": 70,
   "metadata": {},
   "outputs": [
    {
     "data": {
      "text/plain": [
       "7                            11th_century.txt\n",
       "16                 1755_Lisbon_earthquake.txt\n",
       "22      1980_eruption_of_Mount_St._Helens.txt\n",
       "23          1997_Pacific_hurricane_season.txt\n",
       "25                            1st_century.txt\n",
       "                        ...                  \n",
       "4573                                 York.txt\n",
       "4583                          Z%C3%BCrich.txt\n",
       "4584                       Zachary_Taylor.txt\n",
       "4593                          Ziad_Jarrah.txt\n",
       "4598                   Zion_National_Park.txt\n",
       "Name: title, Length: 668, dtype: object"
      ]
     },
     "execution_count": 70,
     "metadata": {},
     "output_type": "execute_result"
    }
   ],
   "source": [
    "project_data[\"title\"][project_data[\"Bias\"]==1]"
   ]
  },
  {
   "cell_type": "code",
   "execution_count": 71,
   "metadata": {},
   "outputs": [
    {
     "data": {
      "text/plain": [
       "2       %C3%89douard_Manet.txt\n",
       "14                16_Cygni.txt\n",
       "15             16_Cygni_Bb.txt\n",
       "21         1973_oil_crisis.txt\n",
       "27                 1_Ceres.txt\n",
       "                 ...          \n",
       "4595                  Zinc.txt\n",
       "4596         Zinc_chloride.txt\n",
       "4597               Zionism.txt\n",
       "4599             Zirconium.txt\n",
       "4603           ZX_Spectrum.txt\n",
       "Name: title, Length: 1906, dtype: object"
      ]
     },
     "execution_count": 71,
     "metadata": {},
     "output_type": "execute_result"
    }
   ],
   "source": [
    "project_data[\"title\"][project_data[\"Bias\"]==0]"
   ]
  },
  {
   "cell_type": "code",
   "execution_count": 72,
   "metadata": {},
   "outputs": [
    {
     "data": {
      "text/plain": [
       "Bias\n",
       "2    2030\n",
       "0    1906\n",
       "1     668\n",
       "Name: count, dtype: int64"
      ]
     },
     "execution_count": 72,
     "metadata": {},
     "output_type": "execute_result"
    }
   ],
   "source": [
    "vis_pred=project_data[\"Bias\"].value_counts()\n",
    "vis_pred # Nombre d'articles classifiés "
   ]
  },
  {
   "cell_type": "code",
   "execution_count": 73,
   "metadata": {},
   "outputs": [
    {
     "data": {
      "image/png": "[encoded data removed]",
      "text/plain": [
       "<Figure size 640x480 with 1 Axes>"
      ]
     },
     "metadata": {},
     "output_type": "display_data"
    }
   ],
   "source": [
    "plt.figure()\n",
    "sns.barplot(x=vis_pred.index, y=vis_pred.values)\n",
    "plt.show()"
   ]
  },
  {
   "cell_type": "code",
   "execution_count": 74,
   "metadata": {},
   "outputs": [
    {
     "data": {
      "text/plain": [
       "(4604, 3)"
      ]
     },
     "execution_count": 74,
     "metadata": {},
     "output_type": "execute_result"
    }
   ],
   "source": [
    "proba=svc_0.decision_function(project_vector)\n",
    "proba.shape"
   ]
  },
  {
   "cell_type": "code",
   "execution_count": 75,
   "metadata": {},
   "outputs": [
    {
     "data": {
      "image/png": "[encoded data removed]",
      "text/plain": [
       "<Figure size 640x480 with 1 Axes>"
      ]
     },
     "metadata": {},
     "output_type": "display_data"
    }
   ],
   "source": [
    "import matplotlib.pyplot as plt\n",
    "from mpl_toolkits.mplot3d import Axes3D\n",
    "import numpy as np\n",
    "\n",
    "# Decision function\n",
    "x = proba[:,0]\n",
    "y = proba[:,1]\n",
    "z = proba[:,2]\n",
    "\n",
    "# Create a 3D plot\n",
    "fig = plt.figure()\n",
    "ax = fig.add_subplot(111, projection='3d')\n",
    "\n",
    "# Plot the data points as a 3D scatter plot\n",
    "ax.scatter(x, y, z, c='b', marker='o')\n",
    "\n",
    "# Set labels for the axes\n",
    "ax.set_xlabel('Left')\n",
    "ax.set_ylabel('Center')\n",
    "ax.set_zlabel('Right')\n",
    "\n",
    "# Show the 3D plot\n",
    "plt.show()"
   ]
  },
  {
   "cell_type": "code",
   "execution_count": 76,
   "metadata": {},
   "outputs": [
    {
     "data": {
      "text/html": [
       "<div>\n",
       "<style scoped>\n",
       "    .dataframe tbody tr th:only-of-type {\n",
       "        vertical-align: middle;\n",
       "    }\n",
       "\n",
       "    .dataframe tbody tr th {\n",
       "        vertical-align: top;\n",
       "    }\n",
       "\n",
       "    .dataframe thead th {\n",
       "        text-align: right;\n",
       "    }\n",
       "</style>\n",
       "<table border=\"1\" class=\"dataframe\">\n",
       "  <thead>\n",
       "    <tr style=\"text-align: right;\">\n",
       "      <th></th>\n",
       "      <th>text_content</th>\n",
       "      <th>title</th>\n",
       "      <th>Bias</th>\n",
       "    </tr>\n",
       "  </thead>\n",
       "  <tbody>\n",
       "    <tr>\n",
       "      <th>3319</th>\n",
       "      <td>portuguese communist party  2007 schools wikip...</td>\n",
       "      <td>Portuguese_Communist_Party.txt</td>\n",
       "      <td>2</td>\n",
       "    </tr>\n",
       "  </tbody>\n",
       "</table>\n",
       "</div>"
      ],
      "text/plain": [
       "                                           text_content  \\\n",
       "3319  portuguese communist party  2007 schools wikip...   \n",
       "\n",
       "                               title  Bias  \n",
       "3319  Portuguese_Communist_Party.txt     2  "
      ]
     },
     "execution_count": 76,
     "metadata": {},
     "output_type": "execute_result"
    }
   ],
   "source": [
    "project_data[project_data[\"title\"]==\"Portuguese_Communist_Party.txt\"]"
   ]
  }
 ],
 "metadata": {
  "kernelspec": {
   "display_name": "envADA",
   "language": "python",
   "name": "python3"
  },
  "language_info": {
   "codemirror_mode": {
    "name": "ipython",
    "version": 3
   },
   "file_extension": ".py",
   "mimetype": "text/x-python",
   "name": "python",
   "nbconvert_exporter": "python",
   "pygments_lexer": "ipython3",
   "version": "3.9.18"
  }
 },
 "nbformat": 4,
 "nbformat_minor": 2
}
