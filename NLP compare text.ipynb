{
 "cells": [
  {
   "cell_type": "markdown",
   "metadata": {},
   "source": [
    "# Natural Language processing (NLP)"
   ]
  },
  {
   "cell_type": "markdown",
   "metadata": {},
   "source": [
    "Political Bias Detection with our dataset defined with Rationnal wiki and Conservpedia"
   ]
  },
  {
   "cell_type": "markdown",
   "metadata": {},
   "source": [
    "\"Biased left\" = 0, \"Neutral\" = 1, \"Biased right\" = 2"
   ]
  },
  {
   "cell_type": "markdown",
   "metadata": {},
   "source": [
    "The training set only contain left and right biased text, a threshold will be applied on the test set to define Neutral text"
   ]
  },
  {
   "cell_type": "markdown",
   "metadata": {},
   "source": [
    "## Importing Libraries"
   ]
  },
  {
   "cell_type": "code",
   "execution_count": 43,
   "metadata": {},
   "outputs": [
    {
     "name": "stderr",
     "output_type": "stream",
     "text": [
      "[nltk_data] Downloading package punkt to ./data_model/...\n",
      "[nltk_data]   Package punkt is already up-to-date!\n",
      "[nltk_data] Downloading package stopwords to ./data_model/...\n",
      "[nltk_data]   Package stopwords is already up-to-date!\n"
     ]
    }
   ],
   "source": [
    "import matplotlib.pyplot as plt\n",
    "import seaborn as sns\n",
    "\n",
    "#NLP libraries\n",
    "import nltk\n",
    "from gensim.models import Doc2Vec\n",
    "import gensim\n",
    "from gensim.models.doc2vec import TaggedDocument\n",
    "import urllib\n",
    "\n",
    "#Machine learning libraries\n",
    "from sklearn import utils\n",
    "from sklearn.model_selection import train_test_split\n",
    "from sklearn.naive_bayes import GaussianNB\n",
    "from sklearn.ensemble import RandomForestClassifier\n",
    "from sklearn.svm import SVC\n",
    "\n",
    "#Helper libraries\n",
    "import multiprocessing\n",
    "import numpy as np\n",
    "import pandas as pd\n",
    "import math\n",
    "from bs4 import BeautifulSoup\n",
    "import re\n",
    "import os\n",
    "\n",
    "\n",
    "nltk.download('punkt', download_dir=\"./data_model/\")\n",
    "nltk.download(\"stopwords\", download_dir=\"./data_model/\")\n",
    "nltk.data.path.append(os.path.abspath(\"./data_model/\"))"
   ]
  },
  {
   "cell_type": "markdown",
   "metadata": {},
   "source": [
    "## Importing All the data : \n",
    "- Training data : Rationnal wiki (biased left) and Conservpedia (biased right)\n",
    "- Test data : Wikispeedia pages that we want to predict the bias\n",
    "- Verification data : Dataset of university of Zurich that treat bias with text"
   ]
  },
  {
   "cell_type": "code",
   "execution_count": 44,
   "metadata": {},
   "outputs": [
    {
     "data": {
      "text/html": [
       "<div>\n",
       "<style scoped>\n",
       "    .dataframe tbody tr th:only-of-type {\n",
       "        vertical-align: middle;\n",
       "    }\n",
       "\n",
       "    .dataframe tbody tr th {\n",
       "        vertical-align: top;\n",
       "    }\n",
       "\n",
       "    .dataframe thead th {\n",
       "        text-align: right;\n",
       "    }\n",
       "</style>\n",
       "<table border=\"1\" class=\"dataframe\">\n",
       "  <thead>\n",
       "    <tr style=\"text-align: right;\">\n",
       "      <th></th>\n",
       "      <th>title</th>\n",
       "      <th>text_content</th>\n",
       "      <th>bias</th>\n",
       "    </tr>\n",
       "  </thead>\n",
       "  <tbody>\n",
       "    <tr>\n",
       "      <th>0</th>\n",
       "      <td>Nepal</td>\n",
       "      <td>Nepal TheFederal Democratic Republic of Nepali...</td>\n",
       "      <td>0</td>\n",
       "    </tr>\n",
       "    <tr>\n",
       "      <th>1</th>\n",
       "      <td>Luminiferous aether</td>\n",
       "      <td>Luminiferous aether Ether, or æther, wasthe st...</td>\n",
       "      <td>0</td>\n",
       "    </tr>\n",
       "    <tr>\n",
       "      <th>2</th>\n",
       "      <td>Chicago</td>\n",
       "      <td>Fun:Chicago Chicago, of the oblast ofIllinois,...</td>\n",
       "      <td>0</td>\n",
       "    </tr>\n",
       "    <tr>\n",
       "      <th>3</th>\n",
       "      <td>Lyme disease</td>\n",
       "      <td>Lyme disease Lyme diseaseis an infectiousdisea...</td>\n",
       "      <td>0</td>\n",
       "    </tr>\n",
       "    <tr>\n",
       "      <th>4</th>\n",
       "      <td>Humour</td>\n",
       "      <td>Fun:Humeur Humeurcan refer to: Humeur, especia...</td>\n",
       "      <td>0</td>\n",
       "    </tr>\n",
       "    <tr>\n",
       "      <th>...</th>\n",
       "      <td>...</td>\n",
       "      <td>...</td>\n",
       "      <td>...</td>\n",
       "    </tr>\n",
       "    <tr>\n",
       "      <th>608</th>\n",
       "      <td>Bahrain</td>\n",
       "      <td>Bahrain TheKingdom of Bahrainis a tiny island ...</td>\n",
       "      <td>0</td>\n",
       "    </tr>\n",
       "    <tr>\n",
       "      <th>609</th>\n",
       "      <td>Flood</td>\n",
       "      <td>Global flood The global floodis a (fairly self...</td>\n",
       "      <td>0</td>\n",
       "    </tr>\n",
       "    <tr>\n",
       "      <th>610</th>\n",
       "      <td>Neptune</td>\n",
       "      <td>Neptune Neptunecould use some help. Please res...</td>\n",
       "      <td>0</td>\n",
       "    </tr>\n",
       "    <tr>\n",
       "      <th>611</th>\n",
       "      <td>Hinduism</td>\n",
       "      <td>Hinduism Hinduism(not to be confused withHindu...</td>\n",
       "      <td>0</td>\n",
       "    </tr>\n",
       "    <tr>\n",
       "      <th>612</th>\n",
       "      <td>Electricity</td>\n",
       "      <td>Fun:Electricity Electricityisa mystery from th...</td>\n",
       "      <td>0</td>\n",
       "    </tr>\n",
       "  </tbody>\n",
       "</table>\n",
       "<p>613 rows × 3 columns</p>\n",
       "</div>"
      ],
      "text/plain": [
       "                   title                                       text_content  \\\n",
       "0                  Nepal  Nepal TheFederal Democratic Republic of Nepali...   \n",
       "1    Luminiferous aether  Luminiferous aether Ether, or æther, wasthe st...   \n",
       "2                Chicago  Fun:Chicago Chicago, of the oblast ofIllinois,...   \n",
       "3           Lyme disease  Lyme disease Lyme diseaseis an infectiousdisea...   \n",
       "4                 Humour  Fun:Humeur Humeurcan refer to: Humeur, especia...   \n",
       "..                   ...                                                ...   \n",
       "608              Bahrain  Bahrain TheKingdom of Bahrainis a tiny island ...   \n",
       "609                Flood  Global flood The global floodis a (fairly self...   \n",
       "610              Neptune  Neptune Neptunecould use some help. Please res...   \n",
       "611             Hinduism  Hinduism Hinduism(not to be confused withHindu...   \n",
       "612          Electricity  Fun:Electricity Electricityisa mystery from th...   \n",
       "\n",
       "     bias  \n",
       "0       0  \n",
       "1       0  \n",
       "2       0  \n",
       "3       0  \n",
       "4       0  \n",
       "..    ...  \n",
       "608     0  \n",
       "609     0  \n",
       "610     0  \n",
       "611     0  \n",
       "612     0  \n",
       "\n",
       "[613 rows x 3 columns]"
      ]
     },
     "execution_count": 44,
     "metadata": {},
     "output_type": "execute_result"
    }
   ],
   "source": [
    "train_data=pd.read_csv(\"./rationalwiki_articles.csv\")\n",
    "train_data[\"text_content\"]=train_data[\"text_content\"].replace({r\"\\r\\n\" : \" \", \"\\n\": \" \"},regex=True)\n",
    "train_data[\"bias\"]=0\n",
    "train_data"
   ]
  },
  {
   "cell_type": "code",
   "execution_count": 45,
   "metadata": {},
   "outputs": [],
   "source": [
    "#Training data\n",
    "#train_data=\n",
    "\n",
    "#Test data\n",
    "text_file_dir=\"./data/wikispeedia_articles_plaintext/plaintext_articles/\"\n",
    "file_data=[]\n",
    "\n",
    "for filename in os.listdir(text_file_dir):\n",
    "    with open(os.path.join(text_file_dir, filename), \"r\") as file:\n",
    "        content = file.read()\n",
    "    \n",
    "        # Split the content into lines to remove the header\n",
    "    lines = content.split('\\n')\n",
    "\n",
    "    #Removing the header (line 0)\n",
    "    if lines:\n",
    "        lines.pop(0)\n",
    "\n",
    "    # Making it an array and removing all \\n\n",
    "    content = '\\n'.join(lines)\n",
    "    content = content.replace(\"\\n\", \" \")\n",
    "\n",
    "    filename_fin=filename[:-4]\n",
    "    new_file_content= {\"text_content\": content, \"title\": urllib.parse.unquote(filename_fin , encoding = 'utf-8')}\n",
    "    \n",
    "    file_data.append(new_file_content)\n",
    "\n",
    "test_data = pd.DataFrame(file_data)\n",
    "\n",
    "#Verification Data\n",
    "verif_data= pd.read_csv(\"./data_model/labeled_dataset_english.csv\", header=0, usecols=[\"Label_bias\", \"article\", \"type\"])\n",
    "\n",
    "verif_data[\"type\"]=verif_data[\"type\"].replace(['left','center','right'],[0,1,2])\n",
    "\n",
    "verif_data=verif_data.rename(columns={\"type\": \"orientation\", \"article\": \"text_content\", \"Label_bias\": \"bias\"})\n",
    "\n",
    "verif_data = verif_data.dropna()\n",
    "\n",
    "\n",
    "#REMOVE THIS WHEN WE HAVE THE REAL DATASET !!\n",
    "train_data=verif_data.copy().drop(columns=\"bias\").rename(columns={\"orientation\": \"bias\"})\n",
    "train_data=train_data[train_data[\"bias\"] !=1]\n"
   ]
  },
  {
   "cell_type": "markdown",
   "metadata": {},
   "source": [
    "### Verification on the data"
   ]
  },
  {
   "cell_type": "code",
   "execution_count": 46,
   "metadata": {},
   "outputs": [
    {
     "data": {
      "image/png": "[encoded data removed]",
      "text/plain": [
       "<Figure size 640x480 with 1 Axes>"
      ]
     },
     "metadata": {},
     "output_type": "display_data"
    }
   ],
   "source": [
    "bias_vals = train_data['bias'].value_counts()\n",
    "plt.figure()\n",
    "sns.barplot(x=bias_vals.index, y=bias_vals.values)\n",
    "plt.show()"
   ]
  },
  {
   "cell_type": "markdown",
   "metadata": {},
   "source": [
    "## Preprocessing All Dataset"
   ]
  },
  {
   "cell_type": "markdown",
   "metadata": {},
   "source": [
    "### Cleaning and removing non necessary words"
   ]
  },
  {
   "cell_type": "markdown",
   "metadata": {},
   "source": [
    "english _stop words\n"
   ]
  },
  {
   "cell_type": "code",
   "execution_count": 47,
   "metadata": {},
   "outputs": [],
   "source": [
    "_stopwords = nltk.corpus.stopwords.words(\"english\")"
   ]
  },
  {
   "cell_type": "markdown",
   "metadata": {},
   "source": [
    "Cleaning dataset:\n"
   ]
  },
  {
   "cell_type": "code",
   "execution_count": 48,
   "metadata": {},
   "outputs": [],
   "source": [
    "def clean(text):  #Removing unecessary punctuation and all lower case.\n",
    "    text = re.sub(r'\\|\\|\\|', r' ', text) \n",
    "    text = text.replace('„','')\n",
    "    text = text.replace('“','')\n",
    "    text = text.replace('\"','')\n",
    "    text = text.replace('\\'','')\n",
    "    text = text.replace('-','')\n",
    "    text = text.lower()\n",
    "    return text\n",
    "\n",
    "def remove_stopwords(content): #Removing stopwords that are not needed for NLP\n",
    "    for word in _stopwords:\n",
    "        content = content.replace(' '+word+' ',' ')\n",
    "    return content\n",
    "\n",
    "#train_data\n",
    "train_data['text_content'] = train_data['text_content'].apply(clean)\n",
    "train_data['text_content'] = train_data['text_content'].apply(remove_stopwords)\n",
    "\n",
    "#test_data\n",
    "test_data['text_content'] = test_data['text_content'].apply(clean)\n",
    "test_data['text_content'] = test_data['text_content'].apply(remove_stopwords)\n",
    "\n",
    "#verif_data\n",
    "verif_data['text_content'] = verif_data['text_content'].apply(clean)\n",
    "verif_data['text_content'] = verif_data['text_content'].apply(remove_stopwords)"
   ]
  },
  {
   "cell_type": "markdown",
   "metadata": {},
   "source": [
    "### Creating balanced train set (if already balanced : no valid_train dataset)"
   ]
  },
  {
   "cell_type": "code",
   "execution_count": 69,
   "metadata": {},
   "outputs": [
    {
     "data": {
      "text/plain": [
       "bias\n",
       "2    691\n",
       "0    691\n",
       "Name: count, dtype: int64"
      ]
     },
     "execution_count": 69,
     "metadata": {},
     "output_type": "execute_result"
    }
   ],
   "source": [
    "np.random.seed=10\n",
    "length = [len(train_data[train_data[\"bias\"] == i]) for i in [0,2]] #Define if a class is underpresented\n",
    "a=np.min(length)\n",
    "\n",
    "# Select rows for each class and combine them\n",
    "indices = []\n",
    "\n",
    "for bias_class in [0, 2]:\n",
    "    indices.extend(train_data[train_data[\"bias\"] == bias_class].index[:a])\n",
    "\n",
    "# Create the training dataset\n",
    "train = train_data.loc[indices[:]]\n",
    "train = train.iloc[np.random.permutation(len(train))]\n",
    "train[\"bias\"].value_counts()"
   ]
  },
  {
   "cell_type": "code",
   "execution_count": 70,
   "metadata": {},
   "outputs": [
    {
     "data": {
      "image/png": "[encoded data removed]",
      "text/plain": [
       "<Figure size 640x480 with 1 Axes>"
      ]
     },
     "metadata": {},
     "output_type": "display_data"
    }
   ],
   "source": [
    "bias_vals = train['bias'].value_counts()\n",
    "plt.figure()\n",
    "sns.barplot(x=bias_vals.index, y=bias_vals.values)\n",
    "plt.show()"
   ]
  },
  {
   "cell_type": "markdown",
   "metadata": {},
   "source": [
    "### creating the train data and validation data"
   ]
  },
  {
   "cell_type": "code",
   "execution_count": 71,
   "metadata": {},
   "outputs": [
    {
     "data": {
      "text/html": [
       "<div>\n",
       "<style scoped>\n",
       "    .dataframe tbody tr th:only-of-type {\n",
       "        vertical-align: middle;\n",
       "    }\n",
       "\n",
       "    .dataframe tbody tr th {\n",
       "        vertical-align: top;\n",
       "    }\n",
       "\n",
       "    .dataframe thead th {\n",
       "        text-align: right;\n",
       "    }\n",
       "</style>\n",
       "<table border=\"1\" class=\"dataframe\">\n",
       "  <thead>\n",
       "    <tr style=\"text-align: right;\">\n",
       "      <th></th>\n",
       "      <th>bias</th>\n",
       "      <th>text_content</th>\n",
       "    </tr>\n",
       "  </thead>\n",
       "  <tbody>\n",
       "    <tr>\n",
       "      <th>1030</th>\n",
       "      <td>2</td>\n",
       "      <td>ras alain (syria) (afp) – kurdishled syrian de...</td>\n",
       "    </tr>\n",
       "    <tr>\n",
       "      <th>1479</th>\n",
       "      <td>0</td>\n",
       "      <td>get breaking news alerts special reports. news...</td>\n",
       "    </tr>\n",
       "    <tr>\n",
       "      <th>504</th>\n",
       "      <td>2</td>\n",
       "      <td>sen. josh hawley (rmo) open letter week asked ...</td>\n",
       "    </tr>\n",
       "    <tr>\n",
       "      <th>1190</th>\n",
       "      <td>2</td>\n",
       "      <td>the new york times thursday published oped wri...</td>\n",
       "    </tr>\n",
       "    <tr>\n",
       "      <th>13</th>\n",
       "      <td>2</td>\n",
       "      <td>planned parenthood took opportunity draw atten...</td>\n",
       "    </tr>\n",
       "    <tr>\n",
       "      <th>...</th>\n",
       "      <td>...</td>\n",
       "      <td>...</td>\n",
       "    </tr>\n",
       "    <tr>\n",
       "      <th>981</th>\n",
       "      <td>0</td>\n",
       "      <td>reports dozens iranianamericans detained u.s.c...</td>\n",
       "    </tr>\n",
       "    <tr>\n",
       "      <th>759</th>\n",
       "      <td>0</td>\n",
       "      <td>walter v. wendler, west texas a&amp;m university\\n...</td>\n",
       "    </tr>\n",
       "    <tr>\n",
       "      <th>679</th>\n",
       "      <td>0</td>\n",
       "      <td>in posttruth era, scientific illiteracy morphe...</td>\n",
       "    </tr>\n",
       "    <tr>\n",
       "      <th>1303</th>\n",
       "      <td>2</td>\n",
       "      <td>george washington university hosting gender mi...</td>\n",
       "    </tr>\n",
       "    <tr>\n",
       "      <th>1031</th>\n",
       "      <td>2</td>\n",
       "      <td>democrats house judiciary committee held heari...</td>\n",
       "    </tr>\n",
       "  </tbody>\n",
       "</table>\n",
       "<p>1382 rows × 2 columns</p>\n",
       "</div>"
      ],
      "text/plain": [
       "      bias                                       text_content\n",
       "1030     2  ras alain (syria) (afp) – kurdishled syrian de...\n",
       "1479     0  get breaking news alerts special reports. news...\n",
       "504      2  sen. josh hawley (rmo) open letter week asked ...\n",
       "1190     2  the new york times thursday published oped wri...\n",
       "13       2  planned parenthood took opportunity draw atten...\n",
       "...    ...                                                ...\n",
       "981      0  reports dozens iranianamericans detained u.s.c...\n",
       "759      0  walter v. wendler, west texas a&m university\\n...\n",
       "679      0  in posttruth era, scientific illiteracy morphe...\n",
       "1303     2  george washington university hosting gender mi...\n",
       "1031     2  democrats house judiciary committee held heari...\n",
       "\n",
       "[1382 rows x 2 columns]"
      ]
     },
     "execution_count": 71,
     "metadata": {},
     "output_type": "execute_result"
    }
   ],
   "source": [
    "train"
   ]
  },
  {
   "cell_type": "code",
   "execution_count": 72,
   "metadata": {},
   "outputs": [],
   "source": [
    "split_index=int(len(train)*0.8)\n",
    "valid_train=train.iloc[split_index:]\n",
    "train=train.iloc[:split_index]\n"
   ]
  },
  {
   "cell_type": "markdown",
   "metadata": {},
   "source": [
    "### Tokenize the text content of all dataset"
   ]
  },
  {
   "cell_type": "code",
   "execution_count": 75,
   "metadata": {},
   "outputs": [],
   "source": [
    "def tokenize_text(text):\n",
    "    tokens = []\n",
    "    for sent in nltk.sent_tokenize(text):\n",
    "        for word in nltk.word_tokenize(sent):\n",
    "            if len(word) < 3:\n",
    "                continue\n",
    "            tokens.append(word.lower())\n",
    "    return tokens\n",
    "\n",
    "\n",
    "#Train dataset\n",
    "train_tagged = train.apply(\n",
    "   lambda r: TaggedDocument(words=tokenize_text(r['text_content']), tags=  [r.bias]), axis=1)\n",
    "\n",
    "valid_train_tagged = valid_train.apply(\n",
    "   lambda r: TaggedDocument(words=tokenize_text(r['text_content']), tags=  [r.bias]), axis=1)\n",
    "\n",
    "#Pred dataset\n",
    "test_data_tagged = test_data.apply(\n",
    "   lambda r: TaggedDocument(words=tokenize_text(r['text_content']), tags=[]), axis=1)\n",
    "\n",
    "#Verification dataset\n",
    "verif_data_tagged = verif_data.apply(\n",
    "   lambda r: TaggedDocument(words=tokenize_text(r['text_content']), tags=[r.orientation]), axis=1)"
   ]
  },
  {
   "cell_type": "markdown",
   "metadata": {},
   "source": [
    "## VECTORIZING EACH DOCUMENT FROM THE DATA \n",
    "(WILL TAKE SOME TIMES, maybe run it in google_collab, we use the Distributed bag of word D-BOW)"
   ]
  },
  {
   "cell_type": "markdown",
   "metadata": {},
   "source": [
    "Elements in Doc2Vec :\n",
    "\n",
    "vector_size (int): Dimensionality of the feature vectors. This is the size of the vectors that represent each document.\n",
    "\n",
    "window (int): Maximum distance between the current and predicted word within a sentence. It influences the context window for word prediction.\n",
    "\n",
    "min_count (int): Ignores all words with a total frequency lower than this.\n",
    "\n",
    "workers (int): Number of CPU cores to use when training the model. Parallelization speeds up training.\n",
    "\n",
    "epochs (int): Number of iterations (epochs) over the corpus during training. This parameter controls how many times the model iterates over the entire dataset.\n",
    "\n",
    "dm (int, {1, 0}): Defines the training algorithm. If dm=1, the PV-DM (Distributed Memory) model is used. If dm=0, the PV-DBOW (Distributed Bag of Words) model is used.\n",
    "\n",
    "dbow_words (int, {1, 0}): If set to 1, trains word vectors as well as document vectors. This is only effective when using the PV-DBOW model.\n",
    "\n",
    "dm_concat (int, {1, 0}): If set to 1, concatenates paragraph vectors rather than averaging them in the PV-DM model.\n",
    "\n",
    "dm_tag_count (int): Expected constant number of document tags per document during training.\n",
    "\n",
    "hs (int, {1, 0}): If set to 1, hierarchical softmax will be used for model training.\n",
    "\n",
    "negative (int): If > 0, negative sampling will be used, the int for negative specifies how many \"noise words\" should be drawn (usually between 5-20)."
   ]
  },
  {
   "cell_type": "markdown",
   "metadata": {},
   "source": [
    "### Initialize model and training it on the train dataset"
   ]
  },
  {
   "cell_type": "code",
   "execution_count": 76,
   "metadata": {},
   "outputs": [],
   "source": [
    "cores = multiprocessing.cpu_count()\n",
    "model = Doc2Vec(dm=0, vector_size=400, negative=5, hs=0, sample=0, min_count=0, workers=cores, epochs=50) # dm=0 --> PV-DBOW\n",
    "\n",
    "\n",
    "model.build_vocab(train_tagged.values)  #The model builds his vocabulary on the training set\n",
    "model.train(utils.shuffle(train_tagged.values), #model train on a mixed trained values and 30 steps\n",
    "    total_examples=len(train_tagged.values),epochs=model.epochs)  \n"
   ]
  },
  {
   "cell_type": "markdown",
   "metadata": {},
   "source": [
    "### Using trained model to learn to return document vectors and labels"
   ]
  },
  {
   "cell_type": "code",
   "execution_count": 77,
   "metadata": {},
   "outputs": [],
   "source": [
    "def vec_for_learning(model, tagged_docs):\n",
    "    sents = tagged_docs.values\n",
    "    classes, features = zip(*[(doc.tags[0],\n",
    "      model.infer_vector(doc_words=doc.words, epochs=model.epochs)) for doc in sents]) #steps=epochs increase steps for better precision but more running time\n",
    "    return features, classes\n",
    "\n",
    "\n",
    "train_x, train_y= vec_for_learning(model, train_tagged) #Train data\n",
    "test_train_x, test_train_y= vec_for_learning(model, valid_train_tagged) #test train data\n",
    "verif_x, verif_y = vec_for_learning(model, verif_data_tagged) # Verif data"
   ]
  },
  {
   "cell_type": "markdown",
   "metadata": {},
   "source": [
    "## Classification methods : We use Support Vector Machine for Classification (SVM-C)"
   ]
  },
  {
   "cell_type": "code",
   "execution_count": 79,
   "metadata": {},
   "outputs": [],
   "source": [
    "#Helper function for calculating accuracy on the test set.\n",
    "def acc(true, pred):\n",
    "  acc = 0\n",
    "  for x,y in zip(true,pred):\n",
    "    if(x == y): acc += 1\n",
    "  return acc/len(pred)"
   ]
  },
  {
   "cell_type": "markdown",
   "metadata": {},
   "source": [
    "### Creating the classifier model"
   ]
  },
  {
   "cell_type": "code",
   "execution_count": 82,
   "metadata": {},
   "outputs": [
    {
     "name": "stdout",
     "output_type": "stream",
     "text": [
      "Accuracy of the model trained = 99.64 %\n",
      "Accuracy of the model with test train data = 92.42 %\n",
      "Accuracy of the model with verification data = 84.81 %\n"
     ]
    }
   ],
   "source": [
    "from sklearn.model_selection import GridSearchCV\n",
    "svc = SVC()\n",
    "\n",
    "param_grid = {\n",
    "    'C': [0.1, 1, 10],\n",
    "    'kernel': ['linear', 'rbf', 'poly'],\n",
    "    'gamma': ['scale', 'auto', 0.1, 1]\n",
    "}\n",
    "\n",
    "grid_search=GridSearchCV(svc, param_grid, cv=5, scoring=\"accuracy\")\n",
    "\n",
    "grid_search.fit(train_x, train_y)\n",
    "best_param= grid_search.best_params_\n",
    "\n",
    "svc =SVC(**best_param, probability=True)\n",
    "\n",
    "svc.fit(train_x,train_y)\n",
    "\n",
    "print(\"Accuracy of the model trained = %0.2f %%\"%(acc(train_y,svc.predict(train_x))*100)) #Accuracy of model depending on the fitting\n",
    "print(\"Accuracy of the model with test train data = %0.2f %%\"%(acc(test_train_y,svc.predict(test_train_x))*100)) #Accuracy of the model on verifying data\n",
    "print(\"Accuracy of the model with verification data = %0.2f %%\"%(acc(verif_y,svc.predict(verif_x))*100)) #Accuracy of the model on verifying data\n"
   ]
  },
  {
   "cell_type": "markdown",
   "metadata": {},
   "source": [
    "### Vectorizing the test data (using D-BOW model)"
   ]
  },
  {
   "cell_type": "code",
   "execution_count": 81,
   "metadata": {},
   "outputs": [],
   "source": [
    "def vectorizing_project_data(model, tagged_docs):\n",
    "    sents = tagged_docs.values\n",
    "    features = [model.infer_vector(doc.words, epochs=model.epochs) for doc in sents]\n",
    "    return features\n",
    "\n",
    "test_x = vectorizing_project_data(model, test_data_tagged)"
   ]
  },
  {
   "cell_type": "markdown",
   "metadata": {},
   "source": [
    "### Prediction of Classes on the Test Set"
   ]
  },
  {
   "cell_type": "code",
   "execution_count": 83,
   "metadata": {},
   "outputs": [
    {
     "data": {
      "text/plain": [
       "Bias\n",
       "2    3523\n",
       "0     560\n",
       "1     521\n",
       "Name: count, dtype: int64"
      ]
     },
     "execution_count": 83,
     "metadata": {},
     "output_type": "execute_result"
    }
   ],
   "source": [
    "class_probabilities=svc.predict_proba(test_x)\n",
    "test_labels=[]\n",
    "threshold=0.4\n",
    "\n",
    "for i in range(len(class_probabilities)):\n",
    "    if class_probabilities[i,0]>threshold and class_probabilities[i,0]<1-threshold:# [0,4-0,6]\n",
    "        label=1\n",
    "    else: \n",
    "        label=np.argmax(class_probabilities[i,:])\n",
    "        if label==1:\n",
    "            label=2\n",
    "    test_labels.append(label)\n",
    "\n",
    "test_data[\"Bias\"] = test_labels\n",
    "test_data[\"Bias\"].value_counts()"
   ]
  },
  {
   "cell_type": "code",
   "execution_count": 86,
   "metadata": {},
   "outputs": [
    {
     "data": {
      "image/png": "[encoded data removed]",
      "text/plain": [
       "<Figure size 640x480 with 2 Axes>"
      ]
     },
     "metadata": {},
     "output_type": "display_data"
    }
   ],
   "source": [
    "plt.figure()\n",
    "\n",
    "#density plot\n",
    "hist, xedges, yedges = np.histogram2d(class_probabilities[:, 0], class_probabilities[:, 1], bins=(50, 50))\n",
    "\n",
    "#Colorbar\n",
    "plt.pcolormesh(xedges, yedges, hist.T, cmap=\"viridis\") #color-blind friendly\n",
    "\n",
    "# Add colorbar\n",
    "cbar = plt.colorbar()\n",
    "cbar.set_label('Density')\n",
    "\n",
    "# Set labels and title\n",
    "plt.xlabel(\"Probability to be Left\")\n",
    "plt.ylabel(\"Probability to be Right\")\n",
    "plt.title(\"Density of Probability from Classification\")\n",
    "\n",
    "# Display legend with colorbar values\n",
    "legend_values = np.linspace(hist.min(), hist.max(), num=10)  \n",
    "cbar.set_ticks(legend_values)\n",
    "cbar.set_ticklabels([f'{int(value)}' for value in legend_values])\n",
    "\n",
    "# Show the plot\n",
    "plt.show()"
   ]
  },
  {
   "cell_type": "code",
   "execution_count": 111,
   "metadata": {},
   "outputs": [
    {
     "data": {
      "image/png": "[encoded data removed]",
      "text/plain": [
       "<Figure size 640x480 with 1 Axes>"
      ]
     },
     "metadata": {},
     "output_type": "display_data"
    }
   ],
   "source": [
    "plt.figure()\n",
    "sns.barplot(x=test_data[\"Bias\"].value_counts().index, y=test_data[\"Bias\"].value_counts())\n",
    "plt.show()"
   ]
  },
  {
   "cell_type": "code",
   "execution_count": 85,
   "metadata": {},
   "outputs": [
    {
     "data": {
      "text/html": [
       "<div>\n",
       "<style scoped>\n",
       "    .dataframe tbody tr th:only-of-type {\n",
       "        vertical-align: middle;\n",
       "    }\n",
       "\n",
       "    .dataframe tbody tr th {\n",
       "        vertical-align: top;\n",
       "    }\n",
       "\n",
       "    .dataframe thead th {\n",
       "        text-align: right;\n",
       "    }\n",
       "</style>\n",
       "<table border=\"1\" class=\"dataframe\">\n",
       "  <thead>\n",
       "    <tr style=\"text-align: right;\">\n",
       "      <th></th>\n",
       "      <th>text_content</th>\n",
       "      <th>title</th>\n",
       "      <th>Bias</th>\n",
       "    </tr>\n",
       "  </thead>\n",
       "  <tbody>\n",
       "    <tr>\n",
       "      <th>3319</th>\n",
       "      <td>portuguese communist party  2007 schools wiki...</td>\n",
       "      <td>Portuguese_Communist_Party</td>\n",
       "      <td>2</td>\n",
       "    </tr>\n",
       "  </tbody>\n",
       "</table>\n",
       "</div>"
      ],
      "text/plain": [
       "                                           text_content  \\\n",
       "3319   portuguese communist party  2007 schools wiki...   \n",
       "\n",
       "                           title  Bias  \n",
       "3319  Portuguese_Communist_Party     2  "
      ]
     },
     "execution_count": 85,
     "metadata": {},
     "output_type": "execute_result"
    }
   ],
   "source": [
    "test_data[test_data[\"title\"]==\"Portuguese_Communist_Party\"]"
   ]
  }
 ],
 "metadata": {
  "kernelspec": {
   "display_name": "envADA",
   "language": "python",
   "name": "python3"
  },
  "language_info": {
   "codemirror_mode": {
    "name": "ipython",
    "version": 3
   },
   "file_extension": ".py",
   "mimetype": "text/x-python",
   "name": "python",
   "nbconvert_exporter": "python",
   "pygments_lexer": "ipython3",
   "version": "3.9.18"
  }
 },
 "nbformat": 4,
 "nbformat_minor": 2
}
